{
 "cells": [
  {
   "metadata": {},
   "cell_type": "markdown",
   "source": [
    "# Decoding Strategies: Greedy Search, Top-K Sampling, Nucleus Sampling (Top-p), and Beam Search\n",
    "\n",
    "This exercise demonstrates various decoding strategies for generating text with GPT-2: Greedy Search, Top-K Sampling, Nucleus Sampling, and Beam Search.\n",
    "\n",
    "Each strategy has its own approach to generating the next token in the sequence and affects the diversity and quality of the generated text.\n"
   ],
   "id": "b1e5077145eca5ba"
  },
  {
   "metadata": {},
   "cell_type": "markdown",
   "source": "In this cell, we load the pre-trained GPT-2 model and its corresponding tokenizer. These will be used to encode the input text and generate new text with different decoding strategies. We also define a maximum sequence length for the generated text.\n",
   "id": "74d28c303d1b1ab8"
  },
  {
   "metadata": {
    "ExecuteTime": {
     "end_time": "2025-01-29T11:27:27.028133Z",
     "start_time": "2025-01-29T11:27:26.184361Z"
    }
   },
   "cell_type": "code",
   "outputs": [],
   "execution_count": 4,
   "source": [
    "from transformers import GPT2LMHeadModel, GPT2Tokenizer\n",
    "\n",
    "# Load pre-trained GPT-2 model and tokenizer\n",
    "model_name = \"gpt2\"\n",
    "max_length = 30\n",
    "model = GPT2LMHeadModel.from_pretrained(model_name)\n",
    "tokenizer = GPT2Tokenizer.from_pretrained(model_name)"
   ],
   "id": "514d46a2fb54dc65"
  },
  {
   "metadata": {},
   "cell_type": "code",
   "source": [
    "model.eval()\n",
    "tokenizer.pad_token = tokenizer.eos_token"
   ],
   "id": "720613cd0727f388",
   "outputs": [],
   "execution_count": null
  },
  {
   "metadata": {},
   "cell_type": "code",
   "source": [
    "#DEFINE YOUR PROMPT\n",
    "prompt = \"After college graduation, I want to\""
   ],
   "id": "ee137c920b8f8ed7",
   "outputs": [],
   "execution_count": null
  },
  {
   "metadata": {},
   "cell_type": "code",
   "source": "input_ids = tokenizer.encode(prompt, return_tensors=\"pt\")",
   "id": "109dd679b9955e4",
   "outputs": [],
   "execution_count": null
  },
  {
   "metadata": {},
   "cell_type": "markdown",
   "source": "This cell implements **Greedy Search**, which generates text by selecting the token with the highest probability at each time step. It is a deterministic approach, often leading to less diverse or repetitive text.",
   "id": "24a167c7b4844746"
  },
  {
   "metadata": {
    "ExecuteTime": {
     "end_time": "2025-01-29T11:41:30.646081Z",
     "start_time": "2025-01-29T11:41:28.735956Z"
    }
   },
   "cell_type": "code",
   "outputs": [
    {
     "name": "stderr",
     "output_type": "stream",
     "text": [
      "The attention mask and the pad token id were not set. As a consequence, you may observe unexpected behavior. Please pass your input's `attention_mask` to obtain reliable results.\n",
      "Setting `pad_token_id` to `eos_token_id`:50256 for open-end generation.\n"
     ]
    },
    {
     "name": "stdout",
     "output_type": "stream",
     "text": [
      "\n",
      "--- Greedy Search ---\n"
     ]
    },
    {
     "data": {
      "text/plain": [
       "'After college graduation, I want to be a writer. I want to be a writer. I want to be a writer. I want to be a writer. I want to be a writer. I want to be a writer. I want to be a writer. I want to be a writer. I want to be a writer. I want to be a writer. I want to be a writer. I want to be a writer. I want to be a writer. I want to be a'"
      ]
     },
     "execution_count": 24,
     "metadata": {},
     "output_type": "execute_result"
    }
   ],
   "execution_count": 24,
   "source": [
    "print(\"\\n--- Greedy Search ---\")\n",
    "output = model.generate(input_ids, max_length=max_length)\n",
    "output = tokenizer.decode(output[0], skip_special_tokens=True)\n",
    "output"
   ],
   "id": "4783d8b2ffb83e36"
  },
  {
   "metadata": {},
   "cell_type": "markdown",
   "source": "This cell implements **Top-K Sampling**, where at each step, the model samples from the top `k` tokens with the highest probabilities. The `temperature` parameter controls the randomness: higher temperatures increase randomness by flattening the probability distribution. Top-K Sampling encourages diversity while keeping the generated text sensible.",
   "id": "dc8f15127c7c83a0"
  },
  {
   "metadata": {},
   "cell_type": "code",
   "outputs": [],
   "execution_count": null,
   "source": [
    "print(\"\\n--- Top-K Sampling ---\")\n",
    "top_k = 50\n",
    "temperature = 1\n",
    "output = model.generate(\n",
    "    input_ids,\n",
    "    max_length=max_length,\n",
    "    do_sample=True,\n",
    "    top_k=top_k,\n",
    "    temperature=temperature\n",
    ")\n",
    "output = tokenizer.decode(output[0], skip_special_tokens=True)\n",
    "output"
   ],
   "id": "70ca2bd4f6e469cb"
  },
  {
   "metadata": {},
   "cell_type": "markdown",
   "source": "In this cell, we use **Nucleus Sampling (Top-p Sampling)**, where the model samples from the smallest possible set of tokens whose cumulative probability exceeds `p` (here, 0.9). This method dynamically adjusts the token pool size based on the probability distribution, promoting more diversity while still maintaining coherent results.\n",
   "id": "66ffd15ea0aad981"
  },
  {
   "metadata": {},
   "cell_type": "code",
   "outputs": [],
   "execution_count": null,
   "source": [
    "print(\"\\n--- Nucleus Sampling ---\")\n",
    "\n",
    "top_p = 0.9\n",
    "temperature = 1\n",
    "output = model.generate(\n",
    "    input_ids,\n",
    "    max_length=max_length,\n",
    "    do_sample=True,\n",
    "    top_p=top_p,\n",
    "    temperature=temperature\n",
    ")\n",
    "\n",
    "output = tokenizer.decode(output[0], skip_special_tokens=True)\n",
    "output\n"
   ],
   "id": "3dcd6e47e36e3143"
  },
  {
   "metadata": {},
   "cell_type": "markdown",
   "source": "This cell demonstrates **Beam Search**, a more sophisticated decoding strategy. Instead of choosing one token at each step, the model considers multiple candidate sequences (beams) and keeps the top `beam_size` sequences at each step. This ensures a better balance between exploration and the likelihood of the generated text. However, it can be computationally expensive.",
   "id": "20446e19a5db291c"
  },
  {
   "metadata": {},
   "cell_type": "code",
   "outputs": [],
   "execution_count": null,
   "source": [
    "\n",
    "print(\"\\n--- Beam Search ---\")\n",
    "\n",
    "beam_size = 5\n",
    "output = model.generate(\n",
    "    input_ids,\n",
    "    max_length=max_length,\n",
    "    num_beams=beam_size,\n",
    "    early_stopping=True\n",
    ")\n",
    "\n",
    "output = tokenizer.decode(output[0], skip_special_tokens=True)\n",
    "output"
   ],
   "id": "7ef4769cd1821a27"
  },
  {
   "metadata": {},
   "cell_type": "markdown",
   "source": [
    "## Temperature Visualization\n",
    "In this exercise you can see how temperature changes the output of the model."
   ],
   "id": "c98198e3bdeb9166"
  },
  {
   "metadata": {},
   "cell_type": "markdown",
   "source": [
    "In this cell, we initialize the GPT-2 model for text generation. We define `top_k` (the number of tokens considered at each step) and set the **temperature** parameter, which controls the randomness of the model's predictions. A higher temperature increases randomness by softening the probability distribution.\n",
    "\n",
    "\n",
    "**Change the temperature to visualize the differences in the output distribution**"
   ],
   "id": "900fc987f346ac33"
  },
  {
   "metadata": {
    "ExecuteTime": {
     "end_time": "2025-01-29T11:34:49.083032Z",
     "start_time": "2025-01-29T11:34:47.829151Z"
    }
   },
   "cell_type": "code",
   "source": [
    "import torch\n",
    "from torch.nn import functional as F\n",
    "from transformers import GPT2LMHeadModel, GPT2Tokenizer\n",
    "\n",
    "# Load pre-trained GPT-2 model and tokenizer\n",
    "model_name = \"gpt2\"\n",
    "max_length = 30\n",
    "model = GPT2LMHeadModel.from_pretrained(model_name)\n",
    "top_k = 10\n",
    "temperature = 1.8 ## Change this value to a value >= 0.\n",
    "max_length = 100"
   ],
   "id": "f5742c425ae84fb8",
   "outputs": [],
   "execution_count": 19
  },
  {
   "metadata": {},
   "cell_type": "markdown",
   "source": "Here, we provide a text prompt and generate text using the GPT-2 model with the defined temperature and top-k sampling.\n",
   "id": "7d05a4d3cbed23ae"
  },
  {
   "metadata": {
    "ExecuteTime": {
     "end_time": "2025-01-29T11:34:51.806266Z",
     "start_time": "2025-01-29T11:34:50.255293Z"
    }
   },
   "cell_type": "code",
   "source": [
    "prompt = \"After college graduation, I want to\"\n",
    "input_ids = tokenizer.encode(prompt, return_tensors=\"pt\")\n",
    "\n",
    "\n",
    "generation_output = model.generate(\n",
    "    input_ids,\n",
    "    max_length=max_length,\n",
    "    do_sample=True,\n",
    "    top_k=top_k,\n",
    "    temperature=temperature,\n",
    "    return_dict_in_generate=True, output_scores=True\n",
    ")\n",
    "\n",
    "logits_tensor = torch.stack(generation_output.scores, dim=1)  # Shape: [1, sequence_length, vocab_size]\n"
   ],
   "id": "f086e1ba47adfaa",
   "outputs": [
    {
     "name": "stderr",
     "output_type": "stream",
     "text": [
      "The attention mask and the pad token id were not set. As a consequence, you may observe unexpected behavior. Please pass your input's `attention_mask` to obtain reliable results.\n",
      "Setting `pad_token_id` to `eos_token_id`:50256 for open-end generation.\n"
     ]
    }
   ],
   "execution_count": 20
  },
  {
   "metadata": {},
   "cell_type": "markdown",
   "source": "In this cell, we compute the token probabilities for each step in the generated sequence by applying the softmax function to the logits. We then extract the top-k tokens and their probabilities, printing them for a single time step in the generated sequence.\n",
   "id": "d1655ad225b7e1a9"
  },
  {
   "metadata": {
    "ExecuteTime": {
     "end_time": "2025-01-29T11:34:52.842138Z",
     "start_time": "2025-01-29T11:34:52.837700Z"
    }
   },
   "cell_type": "code",
   "source": [
    "# Decode tokens and get related probabilities\n",
    "for step_logits in logits_tensor[0]:  # Iterate over each timestep logits\n",
    "    # Apply softmax to compute probabilities\n",
    "    probs = F.softmax(step_logits, dim=-1)\n",
    "\n",
    "    # Get the top tokens and their probabilities\n",
    "    topk_probs, topk_indices = torch.topk(probs, k=10)  # Adjust 'k' as needed (e.g., top 10 tokens)\n",
    "\n",
    "    # Decode token IDs into readable tokens\n",
    "    topk_tokens = [tokenizer.decode([token_id]) for token_id in topk_indices]\n",
    "\n",
    "    # Print tokens and their probabilities\n",
    "    print(\"\\nTokens and Probabilities:\")\n",
    "    for token, prob in zip(topk_tokens, topk_probs):\n",
    "        print(f\"Token: {token}, Probability: {prob.item()}\")\n",
    "    break\n"
   ],
   "id": "ceb3a81ae79ccc44",
   "outputs": [
    {
     "name": "stdout",
     "output_type": "stream",
     "text": [
      "\n",
      "Tokens and Probabilities:\n",
      "Token:  be, Probability: 0.27152949571609497\n",
      "Token:  make, Probability: 0.09109196066856384\n",
      "Token:  do, Probability: 0.08301867544651031\n",
      "Token:  help, Probability: 0.08281686902046204\n",
      "Token:  know, Probability: 0.08245373517274857\n",
      "Token:  go, Probability: 0.07971533387899399\n",
      "Token:  get, Probability: 0.07850820571184158\n",
      "Token:  become, Probability: 0.07830780744552612\n",
      "Token:  see, Probability: 0.07661880552768707\n",
      "Token:  take, Probability: 0.07593907415866852\n"
     ]
    }
   ],
   "execution_count": 21
  },
  {
   "metadata": {},
   "cell_type": "markdown",
   "source": "This cell decodes the generated sequence of token IDs back into human-readable text and displays the complete output generated by the GPT-2 model.\n",
   "id": "c9269f44d5908747"
  },
  {
   "metadata": {
    "ExecuteTime": {
     "end_time": "2025-01-29T11:34:54.492135Z",
     "start_time": "2025-01-29T11:34:54.488066Z"
    }
   },
   "cell_type": "code",
   "source": [
    "output = tokenizer.decode(generation_output.sequences[0], skip_special_tokens=True)\n",
    "output"
   ],
   "id": "71dc6091460e64da",
   "outputs": [
    {
     "data": {
      "text/plain": [
       "'After college graduation, I want to get back to being the person who made me feel great in school, so to see that I got better is something that will keep going,\" he said.\\n\\nAnd as the days tick by I\\'m ready to make a return to college with the confidence to succeed my parents would have told me to do so, he said of getting back in highschool and becoming successful.'"
      ]
     },
     "execution_count": 22,
     "metadata": {},
     "output_type": "execute_result"
    }
   ],
   "execution_count": 22
  },
  {
   "metadata": {},
   "cell_type": "markdown",
   "source": "In this cell, we visualize the top-k token probabilities from the previous step using a bar chart. The tokens are displayed on the x-axis, and their corresponding probabilities are shown on the y-axis, allowing us to see how likely each token is based on the model's predictions.\n",
   "id": "3adce6b368c89643"
  },
  {
   "metadata": {
    "ExecuteTime": {
     "end_time": "2025-01-29T11:34:56.041283Z",
     "start_time": "2025-01-29T11:34:55.968064Z"
    }
   },
   "cell_type": "code",
   "source": [
    "import matplotlib.pyplot as plt\n",
    "\n",
    "plt.style.use('_mpl-gallery')\n",
    "\n",
    "# Make data\n",
    "x = topk_tokens\n",
    "y = topk_probs\n",
    "\n",
    "# Plot\n",
    "fig, ax = plt.subplots(figsize=(12, 6))  # Set width to 12 and height to 6\n",
    "ax.bar(x, y, width=0.8, edgecolor=\"white\", linewidth=0.7)\n",
    "\n",
    "# Customize appearance\n",
    "ax.set_title(\"Token Probabilities for Top Prediction\")\n",
    "ax.set_ylabel(\"Probability\")\n",
    "ax.set_xlabel(\"Tokens\")\n",
    "plt.xticks(rotation=45, ha='right', fontsize=10)  # Rotate and adjust x-axis token labels\n",
    "plt.tight_layout()  # Adjust layout for better spacing\n",
    "\n",
    "plt.show()"
   ],
   "id": "af9eb9d169616770",
   "outputs": [
    {
     "data": {
      "text/plain": [
       "<Figure size 1200x600 with 1 Axes>"
      ],
      "image/png": "[encoded data removed]"
     },
     "metadata": {},
     "output_type": "display_data"
    }
   ],
   "execution_count": 23
  }
 ],
 "metadata": {
  "kernelspec": {
   "display_name": "Python 3",
   "language": "python",
   "name": "python3"
  },
  "language_info": {
   "codemirror_mode": {
    "name": "ipython",
    "version": 2
   },
   "file_extension": ".py",
   "mimetype": "text/x-python",
   "name": "python",
   "nbconvert_exporter": "python",
   "pygments_lexer": "ipython2",
   "version": "2.7.6"
  }
 },
 "nbformat": 4,
 "nbformat_minor": 5
}
