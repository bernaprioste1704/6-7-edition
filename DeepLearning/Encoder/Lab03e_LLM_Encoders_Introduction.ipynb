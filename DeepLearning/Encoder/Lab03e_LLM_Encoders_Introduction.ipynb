{
 "cells": [
  {
   "cell_type": "markdown",
   "id": "3bf643b772cea124",
   "metadata": {},
   "source": [
    "# Introduction to the Encoder in Attention Mechanism\n",
    "\n",
    "In this notebook, we will learn the fundamentals of the encoder and the attention mechanism using PyTorch. We will explore key concepts such as projection layers, dot products for attention scores, softmax for normalization, and weighted sums of values. By the end of this notebook, you'll have hands-on experience implementing these concepts and understanding how the encoder works in a neural network architecture like transformers.\n",
    "\n",
    "\n"
   ]
  },
  {
   "cell_type": "markdown",
   "id": "183e79eac0409aea",
   "metadata": {},
   "source": [
    "## 1. Basic Linear Layer Exercise\n",
    "\n",
    "In the encoder, we use projection layers to project the input embeddings into a new space. This is done through a linear transformation.\n",
    "\n",
    "### Task:\n",
    "Implement a simple linear layer in PyTorch to project an input embedding into a new space (simulating the projection for Queries, Keys, or Values).\n",
    "\n",
    "\n",
    "\n"
   ]
  },
  {
   "cell_type": "code",
   "execution_count": null,
   "id": "11f8833dc8b64113",
   "metadata": {},
   "outputs": [],
   "source": [
    "import torch\n",
    "import torch.nn as nn\n",
    "\n",
    "# Example input: A sequence of length 4, with 5-dimensional embeddings\n",
    "input_embeddings = torch.randn(3, 4, 5)  # Shape: [seq_length, embedding_dim]\n",
    "\n",
    "# Define a projection layer (linear transformation)\n",
    "projection_layer =   # Input size is 5, output size is 6\n",
    "\n",
    "# Apply projection layer to the input embeddings (like Q or K)\n",
    "projected =\n",
    "print(projected.shape)  # Output should have shape: [4, 6]\n"
   ]
  },
  {
   "cell_type": "markdown",
   "id": "a94332b650bffed6",
   "metadata": {},
   "source": [
    "## 2. Dot Product for Attention Calculation\n",
    "In the attention mechanism, we calculate the similarity between the queries and keys using the dot product.\n",
    "\n",
    "### Task:\n",
    "Compute the similarity score between queries and keys using the dot product.\n",
    "\n"
   ]
  },
  {
   "cell_type": "code",
   "execution_count": null,
   "id": "fc124cdf84cf7d4d",
   "metadata": {},
   "outputs": [],
   "source": [
    "import torch\n",
    "\n",
    "# Example query and key vectors (after projection)\n",
    "queries = torch.randn(4, 6)  # Shape: [seq_length, d_k]\n",
    "keys = torch.randn(4, 6)     # Shape: [seq_length, d_k]\n",
    "\n",
    "attention_scores =          #DOT PRODUCT HERE\n",
    "print(attention_scores.shape)  # Output: [4, 4]\n"
   ]
  },
  {
   "cell_type": "markdown",
   "id": "1cb1e19cdf68d5da",
   "metadata": {},
   "source": [
    "## 3. Softmax to Normalize Attention Scores\n",
    "The softmax function normalizes the attention scores, turning them into probabilities that sum to 1. This step is important for focusing the attention on the most relevant parts of the sequence.\n",
    "\n",
    "### Task:\n",
    "Apply softmax to the attention scores to get the attention weights.\n"
   ]
  },
  {
   "cell_type": "code",
   "execution_count": null,
   "id": "6fbd0c1d7ffb35c8",
   "metadata": {},
   "outputs": [],
   "source": [
    "import torch\n",
    "import torch.nn.functional as F\n",
    "\n",
    "# Example attention scores (e.g., dot product result)\n",
    "attention_scores = torch.randn(4, 4)  # Shape: [seq_length, seq_length]\n",
    "\n",
    "# Apply softmax to normalize the attention scores\n",
    "attention_weights =   # Softmax along the last dimension\n",
    "print(attention_weights.shape)  # Output: [4, 4]\n"
   ]
  },
  {
   "cell_type": "markdown",
   "id": "a9fdf0a668167537",
   "metadata": {},
   "source": [
    "## 5. Full Attention Mechanism\n",
    "\n",
    "Now, we combine the previous steps to create the full scaled dot-product attention mechanism. This function computes the attention output by performing the following operations:\n",
    "\n",
    "1. Compute dot product between queries and keys.\n",
    "2. Apply softmax to normalize attention scores.\n",
    "3. Use the attention weights to compute the weighted sum of values.\n",
    "\n",
    "### Task:\n",
    "Implement the full attention mechanism by combining the previous operations.\n",
    "\n"
   ]
  },
  {
   "cell_type": "code",
   "execution_count": 1,
   "id": "1673e08955955cdb",
   "metadata": {
    "ExecuteTime": {
     "end_time": "2025-01-20T15:25:02.348792Z",
     "start_time": "2025-01-20T15:25:02.344620Z"
    }
   },
   "outputs": [
    {
     "ename": "SyntaxError",
     "evalue": "invalid syntax (2992342543.py, line 6)",
     "output_type": "error",
     "traceback": [
      "\u001b[0;36m  Cell \u001b[0;32mIn[1], line 6\u001b[0;36m\u001b[0m\n\u001b[0;31m    attention_scores = #DOT PRODUCT [seq_len, seq_len]\u001b[0m\n\u001b[0m                       ^\u001b[0m\n\u001b[0;31mSyntaxError\u001b[0m\u001b[0;31m:\u001b[0m invalid syntax\n"
     ]
    }
   ],
   "source": [
    "import torch\n",
    "import torch.nn as nn\n",
    "import torch.nn.functional as F\n",
    "\n",
    "# Example input\n",
    "sentece_input = torch.randn(4, 6)  # [seq_len, d_k]\n",
    "d_k = 6\n",
    "\n",
    "# Example layers\n",
    "query_layer = nn.Linear(6, 6)\n",
    "key_layer = nn.Linear(6, 6)\n",
    "value_layer = nn.Linear(6, 6)\n",
    "\n",
    "# Apply the projections\n",
    "query =   # Project input into query space\n",
    "keys =   # Project input into key space\n",
    "values =   # Project input into value space\n",
    "\n",
    "# Attention Scores: Scaled dot-product attention\n",
    "attention_scores = torch.matmul()\n",
    "\n",
    "# Softmax to get attention weights\n",
    "attention_weights =  # Normalize along last dimension USE: F.softmax\n",
    "\n",
    "# Final scores\n",
    "attention_output = torch.matmul()  # [seq_len, d_k]\n",
    "\n",
    "print(attention_output)\n"
   ]
  }
 ],
 "metadata": {
  "kernelspec": {
   "display_name": "Python 3",
   "language": "python",
   "name": "python3"
  },
  "language_info": {
   "codemirror_mode": {
    "name": "ipython",
    "version": 2
   },
   "file_extension": ".py",
   "mimetype": "text/x-python",
   "name": "python",
   "nbconvert_exporter": "python",
   "pygments_lexer": "ipython2",
   "version": "3.11.9"
  }
 },
 "nbformat": 4,
 "nbformat_minor": 5
}
