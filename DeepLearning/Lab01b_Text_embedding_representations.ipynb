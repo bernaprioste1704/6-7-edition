{
 "cells": [
  {
   "cell_type": "markdown",
   "metadata": {},
   "source": [
    "# Word embeddings"
   ]
  },
  {
   "cell_type": "code",
   "metadata": {
    "ExecuteTime": {
     "end_time": "2025-01-14T16:29:31.302776Z",
     "start_time": "2025-01-14T16:29:29.528445Z"
    }
   },
   "source": [
    "import numpy as np\n",
    "import torch\n",
    "\n",
    "from sklearn.decomposition import PCA\n",
    "from sklearn.manifold import TSNE\n",
    "\n",
    "import matplotlib.pyplot as plt\n",
    "%matplotlib notebook\n",
    "%matplotlib inline\n",
    "\n",
    "from sklearn.manifold import TSNE\n",
    "from sklearn.decomposition import PCA\n",
    "\n",
    "def display_scatterplot(model, words):\n",
    "\n",
    "    if model.shape[1] == 2:\n",
    "        twodim = model\n",
    "    else:\n",
    "        twodim = PCA().fit_transform(model)[:,:2]\n",
    "    \n",
    "    plt.style.use('ggplot')\n",
    "    plt.figure(figsize=(6,6))\n",
    "    plt.scatter(twodim[:,0], twodim[:,1], edgecolors='k', c='r')\n",
    "    for word, (x,y) in zip(words, twodim):\n",
    "        plt.text(x+0.05, y+0.05, word)"
   ],
   "outputs": [],
   "execution_count": 1
  },
  {
   "cell_type": "markdown",
   "metadata": {},
   "source": [
    "# Computation of Word Embeddings\n",
    "\n",
    "## Toy corpus"
   ]
  },
  {
   "cell_type": "code",
   "metadata": {
    "ExecuteTime": {
     "end_time": "2025-01-14T16:29:38.771468Z",
     "start_time": "2025-01-14T16:29:38.767735Z"
    }
   },
   "source": [
    "corpus = [\n",
    "    'she queen',\n",
    "    'she woman',\n",
    "    'he king',\n",
    "    'he man',\n",
    "    'london uk capital',\n",
    "    'lisbon portugal capital',   \n",
    "]\n",
    "\n",
    "def tokenize_corpus(corpus):\n",
    "    tokens = [x.split() for x in corpus]\n",
    "    return tokens\n",
    "\n",
    "tokenized_corpus = tokenize_corpus(corpus)\n",
    "print(tokenized_corpus)"
   ],
   "outputs": [
    {
     "name": "stdout",
     "output_type": "stream",
     "text": [
      "[['she', 'queen'], ['she', 'woman'], ['he', 'king'], ['he', 'man'], ['london', 'uk', 'capital'], ['lisbon', 'portugal', 'capital']]\n"
     ]
    }
   ],
   "execution_count": 2
  },
  {
   "cell_type": "markdown",
   "metadata": {},
   "source": [
    "## Vocabulary"
   ]
  },
  {
   "cell_type": "code",
   "metadata": {
    "ExecuteTime": {
     "end_time": "2025-01-14T16:29:42.326172Z",
     "start_time": "2025-01-14T16:29:42.322870Z"
    }
   },
   "source": [
    "vocabulary = []\n",
    "for sentence in tokenized_corpus:\n",
    "    for token in sentence:\n",
    "        if token not in vocabulary:\n",
    "            vocabulary.append(token)\n",
    "\n",
    "word2idx = {w: idx for (idx, w) in enumerate(vocabulary)}\n",
    "idx2word = {idx: w for (idx, w) in enumerate(vocabulary)}\n",
    "\n",
    "vocabulary_size = len(vocabulary)\n",
    "print(word2idx)"
   ],
   "outputs": [
    {
     "name": "stdout",
     "output_type": "stream",
     "text": [
      "{'she': 0, 'queen': 1, 'woman': 2, 'he': 3, 'king': 4, 'man': 5, 'london': 6, 'uk': 7, 'capital': 8, 'lisbon': 9, 'portugal': 10}\n"
     ]
    }
   ],
   "execution_count": 3
  },
  {
   "cell_type": "markdown",
   "metadata": {},
   "source": [
    "## Context windows"
   ]
  },
  {
   "cell_type": "code",
   "metadata": {
    "ExecuteTime": {
     "end_time": "2025-01-14T16:29:45.574304Z",
     "start_time": "2025-01-14T16:29:45.566591Z"
    }
   },
   "source": [
    "window_size = 2\n",
    "idx_pairs = []\n",
    "\n",
    "# for each sentence\n",
    "for sentence in tokenized_corpus:\n",
    "    sentence_indices = [word2idx[word] for word in sentence]\n",
    "    print(sentence)\n",
    "\n",
    "    # for each word, treated as center word\n",
    "    for center_word_pos in range(len(sentence_indices)):\n",
    "\n",
    "        # for each window position\n",
    "        for w in range(-window_size, window_size + 1):\n",
    "            context_word_pos = center_word_pos + w\n",
    "            # make sure not jump out sentence\n",
    "            if context_word_pos < 0 or context_word_pos >= len(sentence_indices) or center_word_pos == context_word_pos:\n",
    "                continue\n",
    "\n",
    "            context_word_idx = sentence_indices[context_word_pos]\n",
    "\n",
    "            print(\"POS:  \",idx2word[sentence_indices[center_word_pos]], \" \", idx2word[context_word_idx])\n",
    "            idx_pairs.append((sentence_indices[center_word_pos], context_word_idx, 1))\n",
    "\n",
    "## Negative sampling\n",
    "for word1 in vocabulary:\n",
    "    for word2 in vocabulary:\n",
    "        if((word2idx[word1], word2idx[word2], 1) not in idx_pairs):\n",
    "            print(\"NEG:  \",word1, \" \", word2)\n",
    "            idx_pairs.append((word2idx[word1], word2idx[word2], 0))\n",
    "\n",
    "idx_pairs = np.array(idx_pairs)\n"
   ],
   "outputs": [
    {
     "name": "stdout",
     "output_type": "stream",
     "text": [
      "['she', 'queen']\n",
      "POS:   she   queen\n",
      "POS:   queen   she\n",
      "['she', 'woman']\n",
      "POS:   she   woman\n",
      "POS:   woman   she\n",
      "['he', 'king']\n",
      "POS:   he   king\n",
      "POS:   king   he\n",
      "['he', 'man']\n",
      "POS:   he   man\n",
      "POS:   man   he\n",
      "['london', 'uk', 'capital']\n",
      "POS:   london   uk\n",
      "POS:   london   capital\n",
      "POS:   uk   london\n",
      "POS:   uk   capital\n",
      "POS:   capital   london\n",
      "POS:   capital   uk\n",
      "['lisbon', 'portugal', 'capital']\n",
      "POS:   lisbon   portugal\n",
      "POS:   lisbon   capital\n",
      "POS:   portugal   lisbon\n",
      "POS:   portugal   capital\n",
      "POS:   capital   lisbon\n",
      "POS:   capital   portugal\n",
      "NEG:   she   she\n",
      "NEG:   she   he\n",
      "NEG:   she   king\n",
      "NEG:   she   man\n",
      "NEG:   she   london\n",
      "NEG:   she   uk\n",
      "NEG:   she   capital\n",
      "NEG:   she   lisbon\n",
      "NEG:   she   portugal\n",
      "NEG:   queen   queen\n",
      "NEG:   queen   woman\n",
      "NEG:   queen   he\n",
      "NEG:   queen   king\n",
      "NEG:   queen   man\n",
      "NEG:   queen   london\n",
      "NEG:   queen   uk\n",
      "NEG:   queen   capital\n",
      "NEG:   queen   lisbon\n",
      "NEG:   queen   portugal\n",
      "NEG:   woman   queen\n",
      "NEG:   woman   woman\n",
      "NEG:   woman   he\n",
      "NEG:   woman   king\n",
      "NEG:   woman   man\n",
      "NEG:   woman   london\n",
      "NEG:   woman   uk\n",
      "NEG:   woman   capital\n",
      "NEG:   woman   lisbon\n",
      "NEG:   woman   portugal\n",
      "NEG:   he   she\n",
      "NEG:   he   queen\n",
      "NEG:   he   woman\n",
      "NEG:   he   he\n",
      "NEG:   he   london\n",
      "NEG:   he   uk\n",
      "NEG:   he   capital\n",
      "NEG:   he   lisbon\n",
      "NEG:   he   portugal\n",
      "NEG:   king   she\n",
      "NEG:   king   queen\n",
      "NEG:   king   woman\n",
      "NEG:   king   king\n",
      "NEG:   king   man\n",
      "NEG:   king   london\n",
      "NEG:   king   uk\n",
      "NEG:   king   capital\n",
      "NEG:   king   lisbon\n",
      "NEG:   king   portugal\n",
      "NEG:   man   she\n",
      "NEG:   man   queen\n",
      "NEG:   man   woman\n",
      "NEG:   man   king\n",
      "NEG:   man   man\n",
      "NEG:   man   london\n",
      "NEG:   man   uk\n",
      "NEG:   man   capital\n",
      "NEG:   man   lisbon\n",
      "NEG:   man   portugal\n",
      "NEG:   london   she\n",
      "NEG:   london   queen\n",
      "NEG:   london   woman\n",
      "NEG:   london   he\n",
      "NEG:   london   king\n",
      "NEG:   london   man\n",
      "NEG:   london   london\n",
      "NEG:   london   lisbon\n",
      "NEG:   london   portugal\n",
      "NEG:   uk   she\n",
      "NEG:   uk   queen\n",
      "NEG:   uk   woman\n",
      "NEG:   uk   he\n",
      "NEG:   uk   king\n",
      "NEG:   uk   man\n",
      "NEG:   uk   uk\n",
      "NEG:   uk   lisbon\n",
      "NEG:   uk   portugal\n",
      "NEG:   capital   she\n",
      "NEG:   capital   queen\n",
      "NEG:   capital   woman\n",
      "NEG:   capital   he\n",
      "NEG:   capital   king\n",
      "NEG:   capital   man\n",
      "NEG:   capital   capital\n",
      "NEG:   lisbon   she\n",
      "NEG:   lisbon   queen\n",
      "NEG:   lisbon   woman\n",
      "NEG:   lisbon   he\n",
      "NEG:   lisbon   king\n",
      "NEG:   lisbon   man\n",
      "NEG:   lisbon   london\n",
      "NEG:   lisbon   uk\n",
      "NEG:   lisbon   lisbon\n",
      "NEG:   portugal   she\n",
      "NEG:   portugal   queen\n",
      "NEG:   portugal   woman\n",
      "NEG:   portugal   he\n",
      "NEG:   portugal   king\n",
      "NEG:   portugal   man\n",
      "NEG:   portugal   london\n",
      "NEG:   portugal   uk\n",
      "NEG:   portugal   portugal\n"
     ]
    }
   ],
   "execution_count": 4
  },
  {
   "cell_type": "markdown",
   "metadata": {},
   "source": [
    "## Learning cycle"
   ]
  },
  {
   "cell_type": "code",
   "metadata": {
    "ExecuteTime": {
     "end_time": "2025-01-14T16:29:58.510180Z",
     "start_time": "2025-01-14T16:29:57.190739Z"
    }
   },
   "source": [
    "import torch.nn.functional as F\n",
    "\n",
    "embedding_dims = 4\n",
    "num_epochs = 100\n",
    "learning_rate = 0.1\n",
    "\n",
    "Wi = torch.randn(embedding_dims, vocabulary_size, requires_grad=True).float()\n",
    "Wo = torch.randn(vocabulary_size, embedding_dims, requires_grad=True).float()\n",
    "\n",
    "logreg = torch.nn.Sigmoid()\n",
    "loss = torch.nn.BCELoss()\n",
    "for epo in range(num_epochs):\n",
    "    train_loss = 0\n",
    "    idx_pairs = np.random.permutation(idx_pairs)\n",
    "    for word_i, word_o, label in idx_pairs:\n",
    "        \n",
    "        # Get the current word-pair label\n",
    "        y_label = torch.from_numpy(np.array(label)).float()\n",
    "        \n",
    "        # Compute the condiditional probablity between the two words\n",
    "        z = torch.dot(Wi[:,word_i], Wo[word_o,:])\n",
    "        p_wo_wi = logreg(z)\n",
    "\n",
    "        # Compute the error with the positive/negative label\n",
    "        output = loss(p_wo_wi, y_label)\n",
    "        train_loss += output\n",
    "\n",
    "        # Propagate the error backward and update the parameters\n",
    "        output.backward()\n",
    "        Wi[:,word_i].data -= learning_rate * Wi.grad.data[:,word_i]\n",
    "        Wo[word_o,:].data -= learning_rate * Wo.grad.data[word_o,:]\n",
    "\n",
    "        # Reset\n",
    "        Wi.grad.data.zero_()\n",
    "        Wo.grad.data.zero_()\n",
    "                \n",
    "    if epo % 10 == 0:    \n",
    "        print(f'Loss at epo {epo}: {train_loss/len(idx_pairs)}')\n",
    "\n",
    "w2v = (Wi.T+Wo)/2"
   ],
   "outputs": [
    {
     "name": "stdout",
     "output_type": "stream",
     "text": [
      "Loss at epo 0: 0.9959525465965271\n",
      "Loss at epo 10: 0.275926411151886\n",
      "Loss at epo 20: 0.1655873954296112\n",
      "Loss at epo 30: 0.1262820065021515\n",
      "Loss at epo 40: 0.10095333307981491\n",
      "Loss at epo 50: 0.07023019343614578\n",
      "Loss at epo 60: 0.04290645942091942\n",
      "Loss at epo 70: 0.02839241921901703\n",
      "Loss at epo 80: 0.02054065279662609\n",
      "Loss at epo 90: 0.01578832045197487\n"
     ]
    }
   ],
   "execution_count": 5
  },
  {
   "cell_type": "markdown",
   "metadata": {},
   "source": [
    "## Visualize the embeddings"
   ]
  },
  {
   "cell_type": "code",
   "metadata": {
    "ExecuteTime": {
     "end_time": "2025-01-14T16:30:23.557498Z",
     "start_time": "2025-01-14T16:30:23.411558Z"
    }
   },
   "source": [
    "display_scatterplot(w2v.detach().numpy(), vocabulary)\n"
   ],
   "outputs": [
    {
     "data": {
      "text/plain": [
       "<Figure size 600x600 with 1 Axes>"
      ],
      "image/png": "[encoded data removed]"
     },
     "metadata": {},
     "output_type": "display_data"
    }
   ],
   "execution_count": 6
  },
  {
   "cell_type": "code",
   "metadata": {
    "ExecuteTime": {
     "end_time": "2025-01-14T16:30:28.270300Z",
     "start_time": "2025-01-14T16:30:28.264594Z"
    }
   },
   "source": [
    "w2v"
   ],
   "outputs": [
    {
     "data": {
      "text/plain": [
       "tensor([[-1.2641,  1.2443, -2.5542, -0.0286],\n",
       "        [-1.4076,  0.9725, -1.8362,  0.1370],\n",
       "        [-1.3672,  0.9980, -1.8949,  0.1204],\n",
       "        [ 1.4444, -1.5636, -1.6449,  0.8760],\n",
       "        [ 1.3624, -1.4689, -1.4346,  0.6620],\n",
       "        [ 1.3622, -1.4243, -1.4250,  0.6107],\n",
       "        [-1.6185,  1.0595,  2.1861, -0.5007],\n",
       "        [-1.6672,  1.0749,  2.1754, -0.0531],\n",
       "        [-0.2528,  0.3932,  3.3044, -0.8121],\n",
       "        [ 1.6196, -0.3794,  2.1581, -0.7326],\n",
       "        [ 1.4539, -0.3825,  2.2733, -0.3807]], grad_fn=<DivBackward0>)"
      ]
     },
     "execution_count": 7,
     "metadata": {},
     "output_type": "execute_result"
    }
   ],
   "execution_count": 7
  },
  {
   "cell_type": "markdown",
   "metadata": {},
   "source": [
    "# Pre-trained Word Embeddings"
   ]
  },
  {
   "cell_type": "code",
   "metadata": {
    "ExecuteTime": {
     "end_time": "2025-01-14T16:38:17.020302Z",
     "start_time": "2025-01-14T16:30:46.503455Z"
    }
   },
   "source": [
    "import gensim.downloader as api\n",
    "import numpy as np\n",
    "\n",
    "# Get the interactive Tools for Matplotlib\n",
    "%matplotlib notebook\n",
    "%matplotlib inline\n",
    "import matplotlib.pyplot as plt\n",
    "plt.style.use('ggplot')\n",
    "\n",
    "from sklearn.manifold import TSNE\n",
    "from sklearn.decomposition import PCA\n",
    "\n",
    "# Load Word2Vec trained on Google News data\n",
    "wv = api.load('word2vec-google-news-300')"
   ],
   "outputs": [
    {
     "name": "stdout",
     "output_type": "stream",
     "text": [
      "[==================================================] 100.0% 1662.8/1662.8MB downloaded\n"
     ]
    }
   ],
   "execution_count": 8
  },
  {
   "cell_type": "markdown",
   "metadata": {},
   "source": [
    "## Word Vectors"
   ]
  },
  {
   "cell_type": "code",
   "metadata": {
    "ExecuteTime": {
     "end_time": "2025-01-14T16:39:55.958526Z",
     "start_time": "2025-01-14T16:39:55.898502Z"
    }
   },
   "source": [
    "# Import NumPy\n",
    "import numpy as np\n",
    "\n",
    "# Import PCA from scikit-learn\n",
    "from sklearn.decomposition import PCA\n",
    "\n",
    "# Import PCA from scikit-learn\n",
    "import matplotlib.pyplot as plt\n",
    "%matplotlib notebook\n",
    "%matplotlib inline\n",
    "\n",
    "# Import Gensim for the word embeddings\n",
    "import gensim.downloader as api\n",
    "from gensim.models import KeyedVectors\n",
    "from gensim.test.utils import datapath\n",
    "\n",
    "for i, word in enumerate(wv.key_to_index):\n",
    "    if i == 10:\n",
    "        break\n",
    "    print(word)\n"
   ],
   "outputs": [
    {
     "name": "stdout",
     "output_type": "stream",
     "text": [
      "</s>\n",
      "in\n",
      "for\n",
      "that\n",
      "is\n",
      "on\n",
      "##\n",
      "The\n",
      "with\n",
      "said\n"
     ]
    }
   ],
   "execution_count": 9
  },
  {
   "cell_type": "code",
   "metadata": {
    "ExecuteTime": {
     "end_time": "2025-01-14T16:40:02.460256Z",
     "start_time": "2025-01-14T16:40:02.455222Z"
    }
   },
   "source": [
    "vec_king = wv['king']\n",
    "print(vec_king)"
   ],
   "outputs": [
    {
     "name": "stdout",
     "output_type": "stream",
     "text": [
      "[ 1.25976562e-01  2.97851562e-02  8.60595703e-03  1.39648438e-01\n",
      " -2.56347656e-02 -3.61328125e-02  1.11816406e-01 -1.98242188e-01\n",
      "  5.12695312e-02  3.63281250e-01 -2.42187500e-01 -3.02734375e-01\n",
      " -1.77734375e-01 -2.49023438e-02 -1.67968750e-01 -1.69921875e-01\n",
      "  3.46679688e-02  5.21850586e-03  4.63867188e-02  1.28906250e-01\n",
      "  1.36718750e-01  1.12792969e-01  5.95703125e-02  1.36718750e-01\n",
      "  1.01074219e-01 -1.76757812e-01 -2.51953125e-01  5.98144531e-02\n",
      "  3.41796875e-01 -3.11279297e-02  1.04492188e-01  6.17675781e-02\n",
      "  1.24511719e-01  4.00390625e-01 -3.22265625e-01  8.39843750e-02\n",
      "  3.90625000e-02  5.85937500e-03  7.03125000e-02  1.72851562e-01\n",
      "  1.38671875e-01 -2.31445312e-01  2.83203125e-01  1.42578125e-01\n",
      "  3.41796875e-01 -2.39257812e-02 -1.09863281e-01  3.32031250e-02\n",
      " -5.46875000e-02  1.53198242e-02 -1.62109375e-01  1.58203125e-01\n",
      " -2.59765625e-01  2.01416016e-02 -1.63085938e-01  1.35803223e-03\n",
      " -1.44531250e-01 -5.68847656e-02  4.29687500e-02 -2.46582031e-02\n",
      "  1.85546875e-01  4.47265625e-01  9.58251953e-03  1.31835938e-01\n",
      "  9.86328125e-02 -1.85546875e-01 -1.00097656e-01 -1.33789062e-01\n",
      " -1.25000000e-01  2.83203125e-01  1.23046875e-01  5.32226562e-02\n",
      " -1.77734375e-01  8.59375000e-02 -2.18505859e-02  2.05078125e-02\n",
      " -1.39648438e-01  2.51464844e-02  1.38671875e-01 -1.05468750e-01\n",
      "  1.38671875e-01  8.88671875e-02 -7.51953125e-02 -2.13623047e-02\n",
      "  1.72851562e-01  4.63867188e-02 -2.65625000e-01  8.91113281e-03\n",
      "  1.49414062e-01  3.78417969e-02  2.38281250e-01 -1.24511719e-01\n",
      " -2.17773438e-01 -1.81640625e-01  2.97851562e-02  5.71289062e-02\n",
      " -2.89306641e-02  1.24511719e-02  9.66796875e-02 -2.31445312e-01\n",
      "  5.81054688e-02  6.68945312e-02  7.08007812e-02 -3.08593750e-01\n",
      " -2.14843750e-01  1.45507812e-01 -4.27734375e-01 -9.39941406e-03\n",
      "  1.54296875e-01 -7.66601562e-02  2.89062500e-01  2.77343750e-01\n",
      " -4.86373901e-04 -1.36718750e-01  3.24218750e-01 -2.46093750e-01\n",
      " -3.03649902e-03 -2.11914062e-01  1.25000000e-01  2.69531250e-01\n",
      "  2.04101562e-01  8.25195312e-02 -2.01171875e-01 -1.60156250e-01\n",
      " -3.78417969e-02 -1.20117188e-01  1.15234375e-01 -4.10156250e-02\n",
      " -3.95507812e-02 -8.98437500e-02  6.34765625e-03  2.03125000e-01\n",
      "  1.86523438e-01  2.73437500e-01  6.29882812e-02  1.41601562e-01\n",
      " -9.81445312e-02  1.38671875e-01  1.82617188e-01  1.73828125e-01\n",
      "  1.73828125e-01 -2.37304688e-01  1.78710938e-01  6.34765625e-02\n",
      "  2.36328125e-01 -2.08984375e-01  8.74023438e-02 -1.66015625e-01\n",
      " -7.91015625e-02  2.43164062e-01 -8.88671875e-02  1.26953125e-01\n",
      " -2.16796875e-01 -1.73828125e-01 -3.59375000e-01 -8.25195312e-02\n",
      " -6.49414062e-02  5.07812500e-02  1.35742188e-01 -7.47070312e-02\n",
      " -1.64062500e-01  1.15356445e-02  4.45312500e-01 -2.15820312e-01\n",
      " -1.11328125e-01 -1.92382812e-01  1.70898438e-01 -1.25000000e-01\n",
      "  2.65502930e-03  1.92382812e-01 -1.74804688e-01  1.39648438e-01\n",
      "  2.92968750e-01  1.13281250e-01  5.95703125e-02 -6.39648438e-02\n",
      "  9.96093750e-02 -2.72216797e-02  1.96533203e-02  4.27246094e-02\n",
      " -2.46093750e-01  6.39648438e-02 -2.25585938e-01 -1.68945312e-01\n",
      "  2.89916992e-03  8.20312500e-02  3.41796875e-01  4.32128906e-02\n",
      "  1.32812500e-01  1.42578125e-01  7.61718750e-02  5.98144531e-02\n",
      " -1.19140625e-01  2.74658203e-03 -6.29882812e-02 -2.72216797e-02\n",
      " -4.82177734e-03 -8.20312500e-02 -2.49023438e-02 -4.00390625e-01\n",
      " -1.06933594e-01  4.24804688e-02  7.76367188e-02 -1.16699219e-01\n",
      "  7.37304688e-02 -9.22851562e-02  1.07910156e-01  1.58203125e-01\n",
      "  4.24804688e-02  1.26953125e-01  3.61328125e-02  2.67578125e-01\n",
      " -1.01074219e-01 -3.02734375e-01 -5.76171875e-02  5.05371094e-02\n",
      "  5.26428223e-04 -2.07031250e-01 -1.38671875e-01 -8.97216797e-03\n",
      " -2.78320312e-02 -1.41601562e-01  2.07031250e-01 -1.58203125e-01\n",
      "  1.27929688e-01  1.49414062e-01 -2.24609375e-02 -8.44726562e-02\n",
      "  1.22558594e-01  2.15820312e-01 -2.13867188e-01 -3.12500000e-01\n",
      " -3.73046875e-01  4.08935547e-03  1.07421875e-01  1.06933594e-01\n",
      "  7.32421875e-02  8.97216797e-03 -3.88183594e-02 -1.29882812e-01\n",
      "  1.49414062e-01 -2.14843750e-01 -1.83868408e-03  9.91210938e-02\n",
      "  1.57226562e-01 -1.14257812e-01 -2.05078125e-01  9.91210938e-02\n",
      "  3.69140625e-01 -1.97265625e-01  3.54003906e-02  1.09375000e-01\n",
      "  1.31835938e-01  1.66992188e-01  2.35351562e-01  1.04980469e-01\n",
      " -4.96093750e-01 -1.64062500e-01 -1.56250000e-01 -5.22460938e-02\n",
      "  1.03027344e-01  2.43164062e-01 -1.88476562e-01  5.07812500e-02\n",
      " -9.37500000e-02 -6.68945312e-02  2.27050781e-02  7.61718750e-02\n",
      "  2.89062500e-01  3.10546875e-01 -5.37109375e-02  2.28515625e-01\n",
      "  2.51464844e-02  6.78710938e-02 -1.21093750e-01 -2.15820312e-01\n",
      " -2.73437500e-01 -3.07617188e-02 -3.37890625e-01  1.53320312e-01\n",
      "  2.33398438e-01 -2.08007812e-01  3.73046875e-01  8.20312500e-02\n",
      "  2.51953125e-01 -7.61718750e-02 -4.66308594e-02 -2.23388672e-02\n",
      "  2.99072266e-02 -5.93261719e-02 -4.66918945e-03 -2.44140625e-01\n",
      " -2.09960938e-01 -2.87109375e-01 -4.54101562e-02 -1.77734375e-01\n",
      " -2.79296875e-01 -8.59375000e-02  9.13085938e-02  2.51953125e-01]\n"
     ]
    }
   ],
   "execution_count": 10
  },
  {
   "cell_type": "markdown",
   "metadata": {},
   "source": [
    "## Words Similarity"
   ]
  },
  {
   "cell_type": "code",
   "metadata": {
    "ExecuteTime": {
     "end_time": "2025-01-14T16:40:05.263466Z",
     "start_time": "2025-01-14T16:40:05.255562Z"
    }
   },
   "source": [
    "pairs = [\n",
    "    ('car', 'minivan'),   # a minivan is a kind of car\n",
    "    ('car', 'bicycle'),   # still a wheeled vehicle\n",
    "    ('car', 'airplane'),  # ok, no wheels, but still a vehicle\n",
    "    ('car', 'cereal'),    # ... and so on\n",
    "    ('car', 'communism'),\n",
    "]\n",
    "for w1, w2 in pairs:\n",
    "    print('%r\\t%r\\t%.2f' % (w1, w2, wv.similarity(w1, w2)))"
   ],
   "outputs": [
    {
     "name": "stdout",
     "output_type": "stream",
     "text": [
      "'car'\t'minivan'\t0.69\n",
      "'car'\t'bicycle'\t0.54\n",
      "'car'\t'airplane'\t0.42\n",
      "'car'\t'cereal'\t0.14\n",
      "'car'\t'communism'\t0.06\n"
     ]
    }
   ],
   "execution_count": 11
  },
  {
   "cell_type": "code",
   "metadata": {
    "ExecuteTime": {
     "end_time": "2025-01-14T16:40:10.651150Z",
     "start_time": "2025-01-14T16:40:07.433099Z"
    }
   },
   "source": [
    "print(wv.most_similar(positive=['car', 'batman'], topn=5))"
   ],
   "outputs": [
    {
     "name": "stdout",
     "output_type": "stream",
     "text": [
      "[('Batmobile', 0.5841229557991028), ('vehicle', 0.5716537833213806), ('batmobile', 0.5692458748817444), ('suv', 0.5399793982505798), ('scooter', 0.5391399264335632)]\n"
     ]
    }
   ],
   "execution_count": 12
  },
  {
   "cell_type": "markdown",
   "metadata": {},
   "source": [
    "## Word Analogies\n"
   ]
  },
  {
   "cell_type": "code",
   "metadata": {
    "ExecuteTime": {
     "end_time": "2025-01-14T16:40:16.581357Z",
     "start_time": "2025-01-14T16:40:16.576948Z"
    }
   },
   "source": [
    "def analogy(x1, x2, y1):\n",
    "    result = wv.most_similar(positive=[y1, x2], negative=[x1])\n",
    "    return result[0][0]"
   ],
   "outputs": [],
   "execution_count": 13
  },
  {
   "cell_type": "code",
   "metadata": {
    "ExecuteTime": {
     "end_time": "2025-01-14T16:40:17.061229Z",
     "start_time": "2025-01-14T16:40:16.956397Z"
    }
   },
   "source": [
    "analogy('japan', 'japanese', 'brazil')"
   ],
   "outputs": [
    {
     "data": {
      "text/plain": [
       "'brazilian'"
      ]
     },
     "execution_count": 14,
     "metadata": {},
     "output_type": "execute_result"
    }
   ],
   "execution_count": 14
  },
  {
   "cell_type": "code",
   "metadata": {
    "ExecuteTime": {
     "end_time": "2025-01-14T16:40:17.406530Z",
     "start_time": "2025-01-14T16:40:17.312498Z"
    }
   },
   "source": [
    "analogy('queen', 'king', 'woman')"
   ],
   "outputs": [
    {
     "data": {
      "text/plain": [
       "'man'"
      ]
     },
     "execution_count": 15,
     "metadata": {},
     "output_type": "execute_result"
    }
   ],
   "execution_count": 15
  },
  {
   "cell_type": "code",
   "metadata": {
    "ExecuteTime": {
     "end_time": "2025-01-14T16:40:17.928861Z",
     "start_time": "2025-01-14T16:40:17.819843Z"
    }
   },
   "source": [
    "analogy('good', 'fantastic', 'bad')"
   ],
   "outputs": [
    {
     "data": {
      "text/plain": [
       "'horrible'"
      ]
     },
     "execution_count": 16,
     "metadata": {},
     "output_type": "execute_result"
    }
   ],
   "execution_count": 16
  },
  {
   "cell_type": "markdown",
   "metadata": {},
   "source": [
    "## Visualization"
   ]
  },
  {
   "cell_type": "code",
   "metadata": {
    "ExecuteTime": {
     "end_time": "2025-01-14T16:40:19.857077Z",
     "start_time": "2025-01-14T16:40:19.850833Z"
    }
   },
   "source": [
    "def display_pca_scatterplot(model, words):\n",
    "\n",
    "    word_vectors = np.array([model[w] for w in words])\n",
    "\n",
    "    twodim = PCA().fit_transform(word_vectors)[:,:2]\n",
    "    \n",
    "    plt.figure(figsize=(6,6))\n",
    "    plt.scatter(twodim[:,0], twodim[:,1], edgecolors='k', c='r')\n",
    "    for word, (x,y) in zip(words, twodim):\n",
    "        plt.text(x+0.05, y+0.05, word)\n",
    "        \n",
    "def display_closestwords(model, word):\n",
    "    \n",
    "    # get close words\n",
    "    a = model.similar_by_word(word)\n",
    "    close_words = [w for (w,s) in a]\n",
    "    close_words.append(word)\n",
    "    display_pca_scatterplot(model, close_words)\n"
   ],
   "outputs": [],
   "execution_count": 17
  },
  {
   "cell_type": "code",
   "metadata": {
    "ExecuteTime": {
     "end_time": "2025-01-14T16:40:21.916659Z",
     "start_time": "2025-01-14T16:40:21.602550Z"
    }
   },
   "source": [
    "display_pca_scatterplot(wv, \n",
    "                        ['coffee', 'tea', 'beer', 'wine', 'brandy', 'rum', 'champagne', 'water',\n",
    "                         'spaghetti', 'borscht', 'hamburger', 'pizza', 'falafel', 'sushi', 'meatballs',\n",
    "                         'dog', 'horse', 'cat', 'monkey', 'parrot', 'koala', 'lizard',\n",
    "                         'frog', 'toad', 'monkey', 'ape', 'kangaroo', 'wombat', 'wolf',\n",
    "                         'france', 'germany', 'hungary', 'france', 'australia', 'fiji', 'china',\n",
    "                         'homework', 'assignment', 'problem', 'exam', 'test', 'class',\n",
    "                         'school', 'college', 'university', 'institute'])"
   ],
   "outputs": [
    {
     "data": {
      "text/plain": [
       "<Figure size 600x600 with 1 Axes>"
      ],
      "image/png": "[encoded data removed]"
     },
     "metadata": {},
     "output_type": "display_data"
    }
   ],
   "execution_count": 18
  },
  {
   "cell_type": "code",
   "metadata": {
    "ExecuteTime": {
     "end_time": "2025-01-14T16:40:26.568118Z",
     "start_time": "2025-01-14T16:40:26.353799Z"
    }
   },
   "source": [
    "a = display_closestwords(wv, 'plane')"
   ],
   "outputs": [
    {
     "data": {
      "text/plain": [
       "<Figure size 600x600 with 1 Axes>"
      ],
      "image/png": "[encoded data removed]"
     },
     "metadata": {},
     "output_type": "display_data"
    }
   ],
   "execution_count": 19
  },
  {
   "cell_type": "markdown",
   "metadata": {},
   "source": [
    "## More\n",
    "\n",
    " - Word Embeddings for noisy text https://fasttext.cc/docs/en/english-vectors.html\n",
    "\n",
    "\n",
    " - Diachronic Word Embeddings https://nlp.stanford.edu/projects/histwords/\n",
    "\n",
    "\n",
    " - Sentence Embeddings https://radimrehurek.com/gensim/auto_examples/tutorials/run_doc2vec_lee.html\n"
   ]
  }
 ],
 "metadata": {
  "kernelspec": {
   "display_name": "Python 3 (ipykernel)",
   "language": "python",
   "name": "python3"
  },
  "language_info": {
   "codemirror_mode": {
    "name": "ipython",
    "version": 3
   },
   "file_extension": ".py",
   "mimetype": "text/x-python",
   "name": "python",
   "nbconvert_exporter": "python",
   "pygments_lexer": "ipython3",
   "version": "3.11.8"
  }
 },
 "nbformat": 4,
 "nbformat_minor": 4
}
