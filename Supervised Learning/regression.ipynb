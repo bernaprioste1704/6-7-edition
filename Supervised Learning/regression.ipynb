{
  "cells": [
    {
      "cell_type": "markdown",
      "metadata": {
        "colab_type": "text",
        "id": "view-in-github"
      },
      "source": [
        "<a href=\"https://colab.research.google.com/github/samsung-ai-course/6-7-edition/blob/main/Supervised%20Learning/regression.ipynb\" target=\"_parent\"><img src=\"https://colab.research.google.com/assets/colab-badge.svg\" alt=\"Open In Colab\"/></a>"
      ]
    },
    {
      "cell_type": "markdown",
      "id": "AKnXBJuyBrA7",
      "metadata": {
        "id": "AKnXBJuyBrA7"
      },
      "source": [
        "# Store Sales - Time Series Forecasting\n",
        "This notebook covers exploratory data analysis (EDA) and feature engineering for the Store Sales dataset.\n",
        "\n",
        "## Dataset Overview\n",
        "- **Goal:** Predict daily store sales.\n",
        "- **Features:** Date, store information, promotions, and more.\n",
        "- **Target:** Sales column.\n",
        "\n",
        "### Exercises:\n",
        "- Conduct EDA to understand trends and relationships.\n",
        "- Engineer meaningful features to improve forecasting accuracy.\n",
        "\n",
        "### Dataset Link:\n",
        "Download the dataset from [Kaggle Store Sales Time Series Forecasting](https://www.kaggle.com/competitions/store-sales-time-series-forecasting/data), from the github repository or use the dataset directly from github."
      ]
    },
    {
      "cell_type": "markdown",
      "id": "ZmTRkCnOBrA_",
      "metadata": {
        "id": "ZmTRkCnOBrA_"
      },
      "source": [
        "## 1. Load and Explore the Data"
      ]
    },
    {
      "cell_type": "code",
      "execution_count": 337,
      "id": "e2yRCt3LnS6Y",
      "metadata": {
        "colab": {
          "base_uri": "https://localhost:8080/"
        },
        "id": "e2yRCt3LnS6Y",
        "outputId": "a63747cf-a68a-45af-c550-21e7a56cbfd8"
      },
      "outputs": [],
      "source": [
        "#if you dont have it yet and want to download it and unzip it locally\n",
        "\n",
        "# !wget https://github.com/samsung-ai-course/6-7-edition/raw/main/Supervised%20Learning/Datasets/store-sales-time-series-forecasting.zip\n",
        "\n",
        "# 2. Unzip the downloaded file\n",
        "# !unzip store-sales-time-series-forecasting.zip -d store_sales_data"
      ]
    },
    {
      "cell_type": "code",
      "execution_count": 338,
      "id": "7TgxexkboCJJ",
      "metadata": {
        "id": "7TgxexkboCJJ"
      },
      "outputs": [],
      "source": [
        "# if you want to unzip programatically (assuming you have the file in this folder on the left)\n",
        "# !unzip Supervised\\ Learning/Datasets/store-sales-time-series-forecasting.zip -d Supervised\\ Learning/Datasets/\n"
      ]
    },
    {
      "cell_type": "code",
      "execution_count": 339,
      "id": "5f8jPBO3BrBA",
      "metadata": {
        "id": "5f8jPBO3BrBA"
      },
      "outputs": [],
      "source": [
        "# Import libraries\n",
        "import pandas as pd\n",
        "import matplotlib.pyplot as plt\n",
        "import seaborn as sns\n",
        "\n",
        "# Load dataset\n",
        "train = pd.read_csv(\"Datasets/store_sales_data/train.csv\", parse_dates=['date'])\n",
        "stores = pd.read_csv(\"Datasets/store_sales_data/stores.csv\")\n",
        "oil = pd.read_csv(\"Datasets/store_sales_data/oil.csv\", parse_dates=['date'])\n",
        "holidays = pd.read_csv(\"Datasets/store_sales_data/holidays_events.csv\", parse_dates=['date'])\n",
        "\n",
        "# Preview dataset\n",
        "# train.head()"
      ]
    },
    {
      "cell_type": "code",
      "execution_count": 340,
      "id": "MNj6yQt7BrBB",
      "metadata": {
        "id": "MNj6yQt7BrBB"
      },
      "outputs": [],
      "source": [
        "# Summary of train dataset\n",
        "# train.info()"
      ]
    },
    {
      "cell_type": "markdown",
      "id": "RWKZwiYFBrBB",
      "metadata": {
        "id": "RWKZwiYFBrBB"
      },
      "source": [
        "### Question 1: What is the date range of the training data? Use `.min()` and `.max()` on the `date` column."
      ]
    },
    {
      "cell_type": "code",
      "execution_count": 341,
      "id": "qnMohKZbBrBC",
      "metadata": {
        "id": "qnMohKZbBrBC"
      },
      "outputs": [],
      "source": [
        "# Date range\n",
        "range = train[\"date\"].max() - train[\"date\"].min()\n"
      ]
    },
    {
      "cell_type": "markdown",
      "id": "zpl5HiAIBrBV",
      "metadata": {
        "id": "zpl5HiAIBrBV"
      },
      "source": [
        "## 2. Exploratory Data Analysis"
      ]
    },
    {
      "cell_type": "code",
      "execution_count": 342,
      "id": "Wn8SV-11BrBV",
      "metadata": {
        "id": "Wn8SV-11BrBV"
      },
      "outputs": [],
      "source": [
        "# Plot sales over time\n",
        "# plt.figure(figsize=(12, 6))\n",
        "# sns.lineplot(x='date', y='sales', data=train, errorbar=None)\n",
        "# plt.title('Daily Sales Over Time')\n",
        "# plt.xlabel('Date')\n",
        "# plt.ylabel('Sales')\n",
        "# plt.show()"
      ]
    },
    {
      "cell_type": "markdown",
      "id": "ltDniUE8BrBW",
      "metadata": {
        "id": "ltDniUE8BrBW"
      },
      "source": [
        "### Question 2: Are there noticeable trends or seasonality in sales data? What hypotheses can you form based on the plot?"
      ]
    },
    {
      "cell_type": "code",
      "execution_count": 343,
      "id": "obrq-GKlBrBW",
      "metadata": {
        "id": "obrq-GKlBrBW"
      },
      "outputs": [],
      "source": [
        "# Aggregate sales by year and month\n",
        "train['year'] = train['date'].dt.year\n",
        "train['month'] = train['date'].dt.month\n",
        "monthly_sales = train.groupby(['year', 'month'])['sales'].sum().reset_index()\n",
        "\n",
        "# Plot monthly sales\n",
        "# plt.figure(figsize=(12, 6))\n",
        "# sns.lineplot(x='month', y='sales', hue='year', data=monthly_sales, marker='o')\n",
        "# plt.title('Monthly Sales Trends by Year')\n",
        "# plt.xlabel('Month')\n",
        "# plt.ylabel('Sales')\n",
        "# plt.legend(title='Year')\n",
        "# plt.show()"
      ]
    },
    {
      "cell_type": "markdown",
      "id": "LOA2UAaIBrBW",
      "metadata": {
        "id": "LOA2UAaIBrBW"
      },
      "source": [
        "### Question 3: Which months tend to have higher or lower sales? Can this be linked to holidays or promotions?"
      ]
    },
    {
      "cell_type": "markdown",
      "id": "QoVy5m3kBrBW",
      "metadata": {
        "id": "QoVy5m3kBrBW"
      },
      "source": [
        "## 3. Feature Engineering"
      ]
    },
    {
      "cell_type": "code",
      "execution_count": 344,
      "id": "lL7jbYsuBrBX",
      "metadata": {
        "id": "lL7jbYsuBrBX"
      },
      "outputs": [
        {
          "name": "stderr",
          "output_type": "stream",
          "text": [
            "C:\\Users\\Utilizador\\AppData\\Local\\Temp\\ipykernel_23700\\1228414949.py:7: FutureWarning: Series.fillna with 'method' is deprecated and will raise in a future version. Use obj.ffill() or obj.bfill() instead.\n",
            "  train['dcoilwtico'] = train['dcoilwtico'].fillna(method='ffill')\n"
          ]
        },
        {
          "data": {
            "text/html": [
              "<div>\n",
              "<style scoped>\n",
              "    .dataframe tbody tr th:only-of-type {\n",
              "        vertical-align: middle;\n",
              "    }\n",
              "\n",
              "    .dataframe tbody tr th {\n",
              "        vertical-align: top;\n",
              "    }\n",
              "\n",
              "    .dataframe thead th {\n",
              "        text-align: right;\n",
              "    }\n",
              "</style>\n",
              "<table border=\"1\" class=\"dataframe\">\n",
              "  <thead>\n",
              "    <tr style=\"text-align: right;\">\n",
              "      <th></th>\n",
              "      <th>date</th>\n",
              "      <th>sales</th>\n",
              "      <th>dcoilwtico</th>\n",
              "      <th>day_of_week</th>\n",
              "      <th>is_weekend</th>\n",
              "      <th>year_month</th>\n",
              "    </tr>\n",
              "  </thead>\n",
              "  <tbody>\n",
              "    <tr>\n",
              "      <th>0</th>\n",
              "      <td>2013-01-01</td>\n",
              "      <td>0.0</td>\n",
              "      <td>NaN</td>\n",
              "      <td>1</td>\n",
              "      <td>False</td>\n",
              "      <td>2013-01</td>\n",
              "    </tr>\n",
              "    <tr>\n",
              "      <th>1</th>\n",
              "      <td>2013-01-01</td>\n",
              "      <td>0.0</td>\n",
              "      <td>NaN</td>\n",
              "      <td>1</td>\n",
              "      <td>False</td>\n",
              "      <td>2013-01</td>\n",
              "    </tr>\n",
              "    <tr>\n",
              "      <th>2</th>\n",
              "      <td>2013-01-01</td>\n",
              "      <td>0.0</td>\n",
              "      <td>NaN</td>\n",
              "      <td>1</td>\n",
              "      <td>False</td>\n",
              "      <td>2013-01</td>\n",
              "    </tr>\n",
              "    <tr>\n",
              "      <th>3</th>\n",
              "      <td>2013-01-01</td>\n",
              "      <td>0.0</td>\n",
              "      <td>NaN</td>\n",
              "      <td>1</td>\n",
              "      <td>False</td>\n",
              "      <td>2013-01</td>\n",
              "    </tr>\n",
              "    <tr>\n",
              "      <th>4</th>\n",
              "      <td>2013-01-01</td>\n",
              "      <td>0.0</td>\n",
              "      <td>NaN</td>\n",
              "      <td>1</td>\n",
              "      <td>False</td>\n",
              "      <td>2013-01</td>\n",
              "    </tr>\n",
              "  </tbody>\n",
              "</table>\n",
              "</div>"
            ],
            "text/plain": [
              "        date  sales  dcoilwtico  day_of_week  is_weekend year_month\n",
              "0 2013-01-01    0.0         NaN            1       False    2013-01\n",
              "1 2013-01-01    0.0         NaN            1       False    2013-01\n",
              "2 2013-01-01    0.0         NaN            1       False    2013-01\n",
              "3 2013-01-01    0.0         NaN            1       False    2013-01\n",
              "4 2013-01-01    0.0         NaN            1       False    2013-01"
            ]
          },
          "execution_count": 344,
          "metadata": {},
          "output_type": "execute_result"
        }
      ],
      "source": [
        "# Merge train dataset with holidays and oil prices\n",
        "train = train.merge(oil, on='date', how='left')\n",
        "train = train.merge(holidays, on='date', how='left')\n",
        "train = train.merge(stores, on='store_nbr', how='left')\n",
        "\n",
        "# Fill missing oil prices with forward fill\n",
        "train['dcoilwtico'] = train['dcoilwtico'].fillna(method='ffill')\n",
        "#What is this really doing ?\n",
        "\n",
        "# Create new features\n",
        "train['day_of_week'] = train['date'].dt.day_of_week\n",
        "train['is_weekend'] = train['date'].dt.day_of_week.isin([5, 6])\n",
        "train['year_month'] = train['date'].dt.to_period('M')\n",
        "# Preview engineered features\n",
        "train[['date', 'sales', 'dcoilwtico', 'day_of_week', 'is_weekend', 'year_month']].head()"
      ]
    },
    {
      "cell_type": "markdown",
      "id": "gWK0lKXqBrBX",
      "metadata": {
        "id": "gWK0lKXqBrBX"
      },
      "source": [
        "### Question 4: How does oil price (`dcoilwtico`) correlate with sales? Plot and discuss."
      ]
    },
    {
      "cell_type": "code",
      "execution_count": 345,
      "id": "CBSU_yyaBrBX",
      "metadata": {
        "id": "CBSU_yyaBrBX"
      },
      "outputs": [],
      "source": [
        "# Correlation between oil price and sales\n",
        "# plt.figure(figsize=(12, 6))\n",
        "# sns.scatterplot(x='dcoilwtico', y='sales', data=train, alpha=0.5)\n",
        "# plt.title('Oil Price vs Sales')\n",
        "# plt.xlabel('Oil Price')\n",
        "# plt.ylabel('Sales')\n",
        "# plt.show()"
      ]
    },
    {
      "cell_type": "markdown",
      "id": "C5jlkUHQDEMM",
      "metadata": {
        "id": "C5jlkUHQDEMM"
      },
      "source": [
        "### 4. Training Season\n",
        "\n",
        "Based on all the EDA and feature engineer done prior train a simple linear regression"
      ]
    },
    {
      "cell_type": "code",
      "execution_count": 346,
      "id": "605c5a54",
      "metadata": {},
      "outputs": [
        {
          "data": {
            "text/plain": [
              "id                      int64\n",
              "date           datetime64[ns]\n",
              "store_nbr               int64\n",
              "family                 object\n",
              "sales                 float64\n",
              "onpromotion             int64\n",
              "year                    int32\n",
              "month                   int32\n",
              "dcoilwtico            float64\n",
              "type_x                 object\n",
              "locale                 object\n",
              "locale_name            object\n",
              "description            object\n",
              "transferred            object\n",
              "city                   object\n",
              "state                  object\n",
              "type_y                 object\n",
              "cluster                 int64\n",
              "day_of_week             int32\n",
              "is_weekend               bool\n",
              "year_month          period[M]\n",
              "dtype: object"
            ]
          },
          "execution_count": 346,
          "metadata": {},
          "output_type": "execute_result"
        }
      ],
      "source": [
        "# dummy_list = [\"family\", \"type_x\", \"locale\", \"locale_name\", \"transferred\", \"city\", \"state\", \"type_y\"]\n",
        "# dum = pd.get_dummies(train, columns=[dummy_list], drop_first=True)\n",
        "train.dtypes"
      ]
    },
    {
      "cell_type": "code",
      "execution_count": 347,
      "id": "lb7vlXYtDYJk",
      "metadata": {
        "id": "lb7vlXYtDYJk"
      },
      "outputs": [
        {
          "name": "stdout",
          "output_type": "stream",
          "text": [
            "Mean Squared Error: 731582.9153527936\n"
          ]
        }
      ],
      "source": [
        "import pandas as pd\n",
        "from sklearn.linear_model import LinearRegression\n",
        "\n",
        "from sklearn.metrics import mean_squared_error\n",
        "from sklearn.preprocessing import StandardScaler\n",
        "\n",
        "dummy_list = [\"family\", \"type_x\", \"locale\", \"locale_name\", \"transferred\", \"city\", \"state\", \"type_y\"]\n",
        "\n",
        "# Select features and target variable\n",
        "train = train.sort_values(by=\"date\")\n",
        "train = pd.get_dummies(train, columns=dummy_list, drop_first=True)\n",
        "features = train.drop(columns=[\"sales\", \"date\", \"description\", \"year_month\"]).columns\n",
        "target = 'sales'\n",
        "\n",
        "# Handle missing values (fill forward and backward)\n",
        "train = train.ffill().bfill()\n",
        "\n",
        "# Automatically split data into train and test sets (80% for training, 20% for testing)\n",
        "split_index = int(0.8 * len(train))  # Split at 80% of the data\n",
        "train_data = train.iloc[:split_index]\n",
        "test_data = train.iloc[split_index:]\n",
        "\n",
        "X_train, y_train = train_data[features], train_data[target]\n",
        "X_test, y_test = test_data[features], test_data[target]\n",
        "\n",
        "# Apply feature scaling (Standardization)\n",
        "# std = StandardScaler()\n",
        "# X_train_scaled = std.fit_transform(X_train)\n",
        "# X_test_scaled = std.transform(X_test)\n",
        "\n",
        "# Initialize and train a linear regression model\n",
        "model = LinearRegression()\n",
        "model.fit(X_train, y_train)\n",
        "\n",
        "# Make predictions on the test set\n",
        "y_pred = model.predict(X_test)\n",
        "\n",
        "# Evaluate the model\n",
        "mse = mean_squared_error(y_test, y_pred)\n",
        "print(f\"Mean Squared Error: {mse}\")\n"
      ]
    },
    {
      "cell_type": "markdown",
      "id": "zbr9-koqBrBX",
      "metadata": {
        "id": "zbr9-koqBrBX"
      },
      "source": [
        "## 5. Extra Questions\n",
        "1. Create a lag feature for sales (e.g., `sales_lag_1` for the previous day). How does this improve your understanding of the data?\n",
        "2. Engineer a feature indicating the number of holidays in the past 7 days. Does it help explain sales trends?\n",
        "3. Use one or both of these new features, do they impact the predictions?\n",
        "4. Split the data into training and validation sets for future modeling. How would you ensure no data leakage in a time-series setup? (We will talk about this next, but think about it)"
      ]
    },
    {
      "cell_type": "code",
      "execution_count": 348,
      "id": "2r3CURGSIrLl",
      "metadata": {
        "id": "2r3CURGSIrLl"
      },
      "outputs": [],
      "source": [
        "#Have fun ;)"
      ]
    }
  ],
  "metadata": {
    "colab": {
      "include_colab_link": true,
      "provenance": []
    },
    "kernelspec": {
      "display_name": "Python 3",
      "language": "python",
      "name": "python3"
    },
    "language_info": {
      "codemirror_mode": {
        "name": "ipython",
        "version": 3
      },
      "file_extension": ".py",
      "mimetype": "text/x-python",
      "name": "python",
      "nbconvert_exporter": "python",
      "pygments_lexer": "ipython3",
      "version": "3.11.9"
    }
  },
  "nbformat": 4,
  "nbformat_minor": 5
}
