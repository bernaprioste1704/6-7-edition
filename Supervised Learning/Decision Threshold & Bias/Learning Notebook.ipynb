{
 "cells": [
  {
   "cell_type": "markdown",
   "metadata": {},
   "source": [
    "# Learning Objectives\n",
    "\n",
    "In this unit you will learn:\n",
    "1. Limitations of accuracy as a classification metric\n",
    "2. Importance of understanding the target distribution\n",
    "3. Strategies for optimizing on Imbalanced Datasets\n",
    "    1. Class weight\n",
    "4. Confusion Matrix\n",
    "5. Beyond accuracy\n",
    "    1. Recall, Precision and f1-score\n",
    "6. Threshold Analysis\n",
    "7. Threshold-independent metrics\n",
    "    1. ROC and Average Precision"
   ]
  },
  {
   "cell_type": "code",
   "execution_count": 1,
   "metadata": {},
   "outputs": [],
   "source": [
    "import numpy as np\n",
    "import pandas as pd\n",
    "import matplotlib.pyplot as plt\n",
    "import seaborn as sns\n",
    "import os\n",
    "from sklearn.linear_model import LogisticRegression\n",
    "from sklearn.model_selection import train_test_split\n",
    "from sklearn.metrics import confusion_matrix"
   ]
  },
  {
   "cell_type": "code",
   "execution_count": null,
   "metadata": {},
   "outputs": [],
   "source": []
  },
  {
   "cell_type": "code",
   "execution_count": 2,
   "metadata": {},
   "outputs": [],
   "source": [
    "df = pd.read_csv(os.path.join('data','unsuspecting_dataset.csv'))\n",
    "X = df.drop(columns=['Target'])\n",
    "y = df['Target']"
   ]
  },
  {
   "cell_type": "code",
   "execution_count": 3,
   "metadata": {},
   "outputs": [],
   "source": [
    "# train test split\n",
    "X_train, X_test, y_train, y_test = train_test_split(X, y, test_size=0.2, stratify=y)\n",
    "# train validation split\n",
    "X_train, X_val, y_train, y_val = train_test_split(X_train, y_train, test_size=0.2, stratify=y_train)"
   ]
  },
  {
   "cell_type": "markdown",
   "metadata": {},
   "source": [
    "# Train the model"
   ]
  },
  {
   "cell_type": "code",
   "execution_count": null,
   "metadata": {},
   "outputs": [],
   "source": [
    "clf = LogisticRegression()\n",
    "clf.fit(X_train, y_train)"
   ]
  },
  {
   "cell_type": "markdown",
   "metadata": {},
   "source": [
    "# Model Evaluation"
   ]
  },
  {
   "cell_type": "code",
   "execution_count": 5,
   "metadata": {},
   "outputs": [],
   "source": [
    "preds = clf.predict(X_val)"
   ]
  },
  {
   "cell_type": "markdown",
   "metadata": {},
   "source": [
    "## Accuracy"
   ]
  },
  {
   "cell_type": "code",
   "execution_count": 6,
   "metadata": {},
   "outputs": [],
   "source": [
    "accuracy_score = lambda y_true, preds: sum(preds == y_true) / len(y_true)"
   ]
  },
  {
   "cell_type": "code",
   "execution_count": null,
   "metadata": {},
<<<<<<< HEAD
   "outputs": [
    {
     "data": {
      "text/plain": [
       "0.957875"
      ]
     },
     "execution_count": 7,
     "metadata": {},
     "output_type": "execute_result"
    }
   ],
=======
   "outputs": [],
>>>>>>> 118d279afe8000e92fb4d226c3383069f97ef1f7
   "source": [
    "accuracy_score(y_val, preds)"
   ]
  },
  {
   "cell_type": "markdown",
   "metadata": {},
   "source": [
    "![](media/big_brain.jpg)"
   ]
  },
  {
   "cell_type": "markdown",
   "metadata": {},
   "source": [
    "Everything seems ok right? We got 96% accuracy so the problem is solved..."
   ]
  },
  {
   "cell_type": "markdown",
   "metadata": {},
   "source": [
    "![](media/wrong.jpg)"
   ]
  },
  {
   "cell_type": "markdown",
   "metadata": {},
   "source": [
    "# Let's dig deeper\n",
    "\n",
    "Let's say i have a dumb classifier that always predicts 0"
   ]
  },
  {
   "cell_type": "code",
   "execution_count": 8,
   "metadata": {},
   "outputs": [],
   "source": [
    "dumb_classifier = lambda X: np.array([0] * len(X))"
   ]
  },
  {
   "cell_type": "code",
   "execution_count": null,
   "metadata": {},
   "outputs": [],
   "source": [
    "# no need to \"train\" it. Let's just evaluate it on the validation set\n",
    "dumb_preds = dumb_classifier(X_val)\n",
    "\n",
    "accuracy_score(y_val, dumb_preds)"
   ]
  },
  {
   "cell_type": "markdown",
   "metadata": {},
   "source": [
    "Would you look at that, we got a suspiciously high score which is also the same score as with the LogisticRegression. Can you guess what is happening?"
   ]
  },
  {
   "cell_type": "code",
   "execution_count": 10,
   "metadata": {},
   "outputs": [],
   "source": [
    "# code in class"
   ]
  },
  {
   "cell_type": "markdown",
   "metadata": {},
   "source": [
    "----"
   ]
  },
  {
   "cell_type": "markdown",
   "metadata": {},
   "source": [
    "When doing ML development one of the things you should understand well is your target distribution"
   ]
  },
  {
   "cell_type": "code",
   "execution_count": null,
   "metadata": {},
   "outputs": [],
   "source": [
    "y.value_counts().to_frame('Value').assign(perc = lambda x: x/x.sum()).round(2)"
   ]
  },
  {
   "cell_type": "markdown",
   "metadata": {},
   "source": [
    "The positive class is very rare! \n",
    "\n",
    "Our model is trying to optimize for the overall error, which is easy to do in imbalanced datasets by always predicting zero"
   ]
  },
  {
   "cell_type": "markdown",
   "metadata": {},
   "source": [
    "# Confusion Matrix"
   ]
  },
  {
   "cell_type": "markdown",
   "metadata": {},
   "source": [
    "![](media/confusion.jpg)"
   ]
  },
  {
   "cell_type": "code",
   "execution_count": null,
   "metadata": {},
<<<<<<< HEAD
   "outputs": [
    {
     "data": {
      "image/png": "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",
      "text/plain": [
       "<Figure size 600x400 with 1 Axes>"
      ]
     },
     "metadata": {},
     "output_type": "display_data"
    }
   ],
=======
   "outputs": [],
>>>>>>> 118d279afe8000e92fb4d226c3383069f97ef1f7
   "source": [
    "def plot_confusion_matrix(cm):\n",
    "    # Plotting the confusion matrix\n",
    "    plt.figure(figsize=(6,4));\n",
    "    sns.heatmap(cm, annot=True, fmt='g', cmap='Blues', cbar=False);  # fmt='g' is for integer formatting\n",
    "    plt.xlabel('Predicted Labels');\n",
    "    plt.ylabel('True Labels');\n",
    "    plt.title('Confusion Matrix');\n",
    "    plt.show();\n",
    "\n",
    "\n",
    "cm = confusion_matrix(y_val, preds)\n",
    "\n",
    "plot_confusion_matrix(cm)"
   ]
  },
  {
   "cell_type": "markdown",
   "metadata": {},
   "source": [
    "We can look at this data as frequency"
   ]
  },
  {
   "cell_type": "code",
   "execution_count": null,
   "metadata": {},
<<<<<<< HEAD
   "outputs": [
    {
     "data": {
      "image/png": "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",
      "text/plain": [
       "<Figure size 600x400 with 1 Axes>"
      ]
     },
     "metadata": {},
     "output_type": "display_data"
    }
   ],
=======
   "outputs": [],
>>>>>>> 118d279afe8000e92fb4d226c3383069f97ef1f7
   "source": [
    "cm_freq = (cm / cm.sum(axis=1)[:, np.newaxis]).round(2)\n",
    "\n",
    "\n",
    "plot_confusion_matrix(cm_freq)"
   ]
  },
  {
   "cell_type": "markdown",
   "metadata": {},
   "source": [
    "## How would a random model (coin flip) look like?"
   ]
  },
  {
   "cell_type": "code",
   "execution_count": null,
   "metadata": {},
   "outputs": [],
   "source": [
    "# Let's build a random model\n",
    "np.random.seed(42) # for reproducibility\n",
    "\n",
    "random_model = lambda X: np.random.randint(0,2,len(X))\n",
    "\n",
    "random_preds = random_model(X_val)\n",
    "\n",
    "pd.Series(random_preds).value_counts()"
   ]
  },
  {
   "cell_type": "code",
   "execution_count": null,
   "metadata": {},
<<<<<<< HEAD
   "outputs": [
    {
     "data": {
      "image/png": "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",
      "text/plain": [
       "<Figure size 600x400 with 1 Axes>"
      ]
     },
     "metadata": {},
     "output_type": "display_data"
    }
   ],
=======
   "outputs": [],
>>>>>>> 118d279afe8000e92fb4d226c3383069f97ef1f7
   "source": [
    "random_cm = confusion_matrix(y_val, random_preds)\n",
    "\n",
    "plot_confusion_matrix(random_cm)"
   ]
  },
  {
   "cell_type": "code",
   "execution_count": null,
   "metadata": {},
<<<<<<< HEAD
   "outputs": [
    {
     "data": {
      "image/png": "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",
      "text/plain": [
       "<Figure size 600x400 with 1 Axes>"
      ]
     },
     "metadata": {},
     "output_type": "display_data"
    }
   ],
=======
   "outputs": [],
>>>>>>> 118d279afe8000e92fb4d226c3383069f97ef1f7
   "source": [
    "# as frequency\n",
    "random_cm_freq = (random_cm / random_cm.sum(axis=1)[:, np.newaxis]).round(2)\n",
    "\n",
    "\n",
    "plot_confusion_matrix(random_cm_freq)"
   ]
  },
  {
   "cell_type": "markdown",
   "metadata": {},
   "source": [
    "A truly random model will have about 50%/50% distribution on the confusion matrix"
   ]
  },
  {
   "cell_type": "markdown",
   "metadata": {},
   "source": [
    "# Going beyond accuracy"
   ]
  },
  {
   "cell_type": "markdown",
   "metadata": {},
   "source": [
    "If you *recall*, our most recent model had the following confusion matrix and accuracy:"
   ]
  },
  {
   "cell_type": "code",
   "execution_count": null,
   "metadata": {},
<<<<<<< HEAD
   "outputs": [
    {
     "data": {
      "image/png": "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",
      "text/plain": [
       "<Figure size 600x400 with 1 Axes>"
      ]
     },
     "metadata": {},
     "output_type": "display_data"
    }
   ],
=======
   "outputs": [],
>>>>>>> 118d279afe8000e92fb4d226c3383069f97ef1f7
   "source": [
    "plot_confusion_matrix(cm)"
   ]
  },
  {
   "cell_type": "code",
   "execution_count": null,
   "metadata": {},
<<<<<<< HEAD
   "outputs": [
    {
     "data": {
      "text/plain": [
       "0.957875"
      ]
     },
     "execution_count": 18,
     "metadata": {},
     "output_type": "execute_result"
    }
   ],
=======
   "outputs": [],
>>>>>>> 118d279afe8000e92fb4d226c3383069f97ef1f7
   "source": [
    "accuracy_score(y_val, preds)"
   ]
  },
  {
   "cell_type": "markdown",
   "metadata": {},
   "source": [
    "accuracy can be a very bad estimator of performance on imbalanced datasets. But more than that, it leaves many questions unanswered"
   ]
  },
  {
   "cell_type": "markdown",
   "metadata": {},
   "source": [
    "## Recall"
   ]
  },
  {
   "cell_type": "markdown",
   "metadata": {},
   "source": [
    "> I have 1000 patients and 100 of them have cancer. If my model finds correctly 30 patients with cancer, then it's recall is 30/100 = 30%"
   ]
  },
  {
   "cell_type": "markdown",
   "metadata": {},
   "source": [
    "<div style=\"text-align: center;\">\n",
    "    <img src=\"media/recall.png\" alt=\"Image\" width=\"400\" height=\"auto\">\n",
    "</div>"
   ]
  },
  {
   "cell_type": "markdown",
   "metadata": {},
   "source": [
    "> Question: How can we trick the recall metric in a similar way we did with accuracy?"
   ]
  },
  {
   "cell_type": "code",
   "execution_count": 19,
   "metadata": {},
   "outputs": [],
   "source": [
    "# code with students"
   ]
  },
  {
   "cell_type": "markdown",
   "metadata": {},
   "source": [
    "What recall does our model have?"
   ]
  },
  {
   "cell_type": "code",
   "execution_count": null,
   "metadata": {},
<<<<<<< HEAD
   "outputs": [
    {
     "data": {
      "text/plain": [
       "np.float64(1.0)"
      ]
     },
     "execution_count": 20,
     "metadata": {},
     "output_type": "execute_result"
    }
   ],
=======
   "outputs": [],
>>>>>>> 118d279afe8000e92fb4d226c3383069f97ef1f7
   "source": [
    "recall_score = lambda y_true, preds: sum((preds == 1) & (y_true == 1)) / sum(y_true == 1)\n",
    "\n",
    "recall_score(preds, y_val)"
   ]
  },
  {
   "cell_type": "markdown",
   "metadata": {},
   "source": [
    "our model finds 56% of the positive class. If we were talking about cancer patients, it can find 56% of all cancer patients"
   ]
  },
  {
   "cell_type": "markdown",
   "metadata": {},
   "source": [
    "----"
   ]
  },
  {
   "cell_type": "markdown",
   "metadata": {},
   "source": [
    "## Precision\n",
    "\n",
    "Much like yin and yang, precision complements recall extremely well\n",
    "\n",
    "> Everytime you predict positive, how many times are you actually right?"
   ]
  },
  {
   "cell_type": "markdown",
   "metadata": {},
   "source": [
    "I have 1000 patients where 100 have cancer. I predict 200 of them to have cancer. I was right on 50 of them, but for the remaining 150 I wasn't (i.e. False positives). My precision is thus: 50/200 = 0.25"
   ]
  },
  {
   "cell_type": "markdown",
   "metadata": {},
   "source": [
    "<div style=\"text-align: center;\">\n",
    "    <img src=\"media/precision.png\" alt=\"Image\" width=\"400\" height=\"auto\">\n",
    "</div>\n"
   ]
  },
  {
   "cell_type": "markdown",
   "metadata": {},
   "source": [
    "What precision does our model have?"
   ]
  },
  {
   "cell_type": "code",
   "execution_count": null,
   "metadata": {},
<<<<<<< HEAD
   "outputs": [
    {
     "data": {
      "text/plain": [
       "np.float64(1.0)"
      ]
     },
     "execution_count": 21,
     "metadata": {},
     "output_type": "execute_result"
    }
   ],
=======
   "outputs": [],
>>>>>>> 118d279afe8000e92fb4d226c3383069f97ef1f7
   "source": [
    "precision_score = lambda y_true, preds : sum((preds == 1) & (y_true == 1)) / sum(preds == 1)\n",
    "\n",
    "precision_score(y_val, preds)"
   ]
  },
  {
   "cell_type": "markdown",
   "metadata": {},
   "source": [
    "5% only! So everytime the model predicts a positive class, it is correct only 5% of the time"
   ]
  },
  {
   "cell_type": "markdown",
   "metadata": {},
   "source": [
    "> How can one optimize for precision?"
   ]
  },
  {
   "cell_type": "code",
   "execution_count": 22,
   "metadata": {},
   "outputs": [],
   "source": [
    "# answer with students"
   ]
  },
  {
   "cell_type": "markdown",
   "metadata": {},
   "source": [
    "## Threshold Analysis"
   ]
  },
  {
   "cell_type": "code",
   "execution_count": null,
   "metadata": {},
<<<<<<< HEAD
   "outputs": [
    {
     "data": {
      "text/plain": [
       "array([0.02933493, 0.04898663, 0.00169899, 0.02438332, 0.02836406])"
      ]
     },
     "execution_count": 23,
     "metadata": {},
     "output_type": "execute_result"
    }
   ],
=======
   "outputs": [],
>>>>>>> 118d279afe8000e92fb4d226c3383069f97ef1f7
   "source": [
    "probas = clf.predict_proba(X_val)[:,1]\n",
    "probas[:5] # show only the first 5"
   ]
  },
  {
   "cell_type": "markdown",
   "metadata": {},
   "source": [
    "if you remember classifier models output probabilities. And we obtain predictions by passsing these probabilities through a threshold that, by default, is 0.5. So anything above 0.5 probability we classify as class 1, and the remaining as class 0."
   ]
  },
  {
   "cell_type": "markdown",
   "metadata": {},
   "source": [
    "![](media/threshold.jpg)"
   ]
  },
  {
   "cell_type": "markdown",
   "metadata": {},
   "source": [
    "Let's try a bunch of thresholds"
   ]
  },
  {
   "cell_type": "code",
   "execution_count": null,
   "metadata": {},
   "outputs": [],
   "source": [
    "ths = np.arange(0.1,1,step=0.05)\n",
    "ths"
   ]
  },
  {
   "cell_type": "code",
   "execution_count": null,
   "metadata": {},
<<<<<<< HEAD
   "outputs": [
    {
     "name": "stderr",
     "output_type": "stream",
     "text": [
      "C:\\Users\\Utilizador\\AppData\\Local\\Temp\\ipykernel_1652\\3570342190.py:1: RuntimeWarning: invalid value encountered in scalar divide\n",
      "  precision_score = lambda y_true, preds : sum((preds == 1) & (y_true == 1)) / sum(preds == 1)\n"
     ]
    },
    {
     "data": {
      "text/html": [
       "<div>\n",
       "<style scoped>\n",
       "    .dataframe tbody tr th:only-of-type {\n",
       "        vertical-align: middle;\n",
       "    }\n",
       "\n",
       "    .dataframe tbody tr th {\n",
       "        vertical-align: top;\n",
       "    }\n",
       "\n",
       "    .dataframe thead th {\n",
       "        text-align: right;\n",
       "    }\n",
       "</style>\n",
       "<table border=\"1\" class=\"dataframe\">\n",
       "  <thead>\n",
       "    <tr style=\"text-align: right;\">\n",
       "      <th></th>\n",
       "      <th>recall</th>\n",
       "      <th>precision</th>\n",
       "    </tr>\n",
       "    <tr>\n",
       "      <th>decision_threshold</th>\n",
       "      <th></th>\n",
       "      <th></th>\n",
       "    </tr>\n",
       "  </thead>\n",
       "  <tbody>\n",
       "    <tr>\n",
       "      <th>0.10</th>\n",
       "      <td>0.453521</td>\n",
       "      <td>0.220246</td>\n",
       "    </tr>\n",
       "    <tr>\n",
       "      <th>0.15</th>\n",
       "      <td>0.340845</td>\n",
       "      <td>0.357988</td>\n",
       "    </tr>\n",
       "    <tr>\n",
       "      <th>0.20</th>\n",
       "      <td>0.228169</td>\n",
       "      <td>0.479290</td>\n",
       "    </tr>\n",
       "    <tr>\n",
       "      <th>0.25</th>\n",
       "      <td>0.177465</td>\n",
       "      <td>0.611650</td>\n",
       "    </tr>\n",
       "    <tr>\n",
       "      <th>0.30</th>\n",
       "      <td>0.157746</td>\n",
       "      <td>0.727273</td>\n",
       "    </tr>\n",
       "    <tr>\n",
       "      <th>0.35</th>\n",
       "      <td>0.118310</td>\n",
       "      <td>0.857143</td>\n",
       "    </tr>\n",
       "    <tr>\n",
       "      <th>0.40</th>\n",
       "      <td>0.101408</td>\n",
       "      <td>0.900000</td>\n",
       "    </tr>\n",
       "    <tr>\n",
       "      <th>0.45</th>\n",
       "      <td>0.067606</td>\n",
       "      <td>0.960000</td>\n",
       "    </tr>\n",
       "    <tr>\n",
       "      <th>0.50</th>\n",
       "      <td>0.050704</td>\n",
       "      <td>1.000000</td>\n",
       "    </tr>\n",
       "    <tr>\n",
       "      <th>0.55</th>\n",
       "      <td>0.045070</td>\n",
       "      <td>1.000000</td>\n",
       "    </tr>\n",
       "    <tr>\n",
       "      <th>0.60</th>\n",
       "      <td>0.033803</td>\n",
       "      <td>1.000000</td>\n",
       "    </tr>\n",
       "    <tr>\n",
       "      <th>0.65</th>\n",
       "      <td>0.025352</td>\n",
       "      <td>1.000000</td>\n",
       "    </tr>\n",
       "    <tr>\n",
       "      <th>0.70</th>\n",
       "      <td>0.022535</td>\n",
       "      <td>1.000000</td>\n",
       "    </tr>\n",
       "    <tr>\n",
       "      <th>0.75</th>\n",
       "      <td>0.014085</td>\n",
       "      <td>1.000000</td>\n",
       "    </tr>\n",
       "    <tr>\n",
       "      <th>0.80</th>\n",
       "      <td>0.011268</td>\n",
       "      <td>1.000000</td>\n",
       "    </tr>\n",
       "    <tr>\n",
       "      <th>0.85</th>\n",
       "      <td>0.005634</td>\n",
       "      <td>1.000000</td>\n",
       "    </tr>\n",
       "    <tr>\n",
       "      <th>0.90</th>\n",
       "      <td>0.005634</td>\n",
       "      <td>1.000000</td>\n",
       "    </tr>\n",
       "    <tr>\n",
       "      <th>0.95</th>\n",
       "      <td>0.000000</td>\n",
       "      <td>NaN</td>\n",
       "    </tr>\n",
       "  </tbody>\n",
       "</table>\n",
       "</div>"
      ],
      "text/plain": [
       "                      recall  precision\n",
       "decision_threshold                     \n",
       "0.10                0.453521   0.220246\n",
       "0.15                0.340845   0.357988\n",
       "0.20                0.228169   0.479290\n",
       "0.25                0.177465   0.611650\n",
       "0.30                0.157746   0.727273\n",
       "0.35                0.118310   0.857143\n",
       "0.40                0.101408   0.900000\n",
       "0.45                0.067606   0.960000\n",
       "0.50                0.050704   1.000000\n",
       "0.55                0.045070   1.000000\n",
       "0.60                0.033803   1.000000\n",
       "0.65                0.025352   1.000000\n",
       "0.70                0.022535   1.000000\n",
       "0.75                0.014085   1.000000\n",
       "0.80                0.011268   1.000000\n",
       "0.85                0.005634   1.000000\n",
       "0.90                0.005634   1.000000\n",
       "0.95                0.000000        NaN"
      ]
     },
     "execution_count": 25,
     "metadata": {},
     "output_type": "execute_result"
    }
   ],
=======
   "outputs": [],
>>>>>>> 118d279afe8000e92fb4d226c3383069f97ef1f7
   "source": [
    "results = []\n",
    "for decision_threshold in ths:\n",
    "    th_preds = (probas > decision_threshold).astype(int)\n",
    "\n",
    "    recall = recall_score(y_val, th_preds)\n",
    "    precision = precision_score(y_val, th_preds)\n",
    "    \n",
    "    results.append({\"decision_threshold\":decision_threshold,\"recall\":recall,\"precision\":precision})\n",
    "\n",
    "results = pd.DataFrame(results).set_index('decision_threshold')\n",
    "results"
   ]
  },
  {
   "cell_type": "code",
   "execution_count": null,
   "metadata": {},
<<<<<<< HEAD
   "outputs": [
    {
     "data": {
      "text/plain": [
       "<Axes: xlabel='decision_threshold'>"
      ]
     },
     "execution_count": 26,
     "metadata": {},
     "output_type": "execute_result"
    },
    {
     "data": {
      "image/png": "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",
      "text/plain": [
       "<Figure size 640x480 with 1 Axes>"
      ]
     },
     "metadata": {},
     "output_type": "display_data"
    }
   ],
=======
   "outputs": [],
>>>>>>> 118d279afe8000e92fb4d226c3383069f97ef1f7
   "source": [
    "results.plot()"
   ]
  },
  {
   "cell_type": "markdown",
   "metadata": {},
   "source": [
    "In our example, because our model isn't very good, we didn't see a drastic improvement in precision (although it doubles from 0.5 threshold to 0.8), but if you take a look at recall, it increases by 30% (percentual points) just from lowering the decision threshold from 0.5 to 0.4!"
   ]
  },
  {
   "cell_type": "markdown",
   "metadata": {},
   "source": [
    "### Rules of thumb"
   ]
  },
  {
   "cell_type": "markdown",
   "metadata": {},
   "source": [
    "**Consequences of choosing a high decision threshold**\n",
    "\n",
    "If you only make a prediction when the model is absolutely certain:\n",
    "- **Your precision will be higher** because you are only classifying as positive when you are certain (i.e. you are decreasing your FP)\n",
    "- **Your recall will be lower** because you are missing out on a lot of positives (i.e. you are increasing your FN: False Negatives)\n",
    "> you decrease your FPs (good) at the cost of increasing False Negatives (bad)\n",
    "\n",
    "**Consequences of having a low decision threshold**\n",
    "\n",
    "If you make positive predictions with a relatively low decision threshold:\n",
    "- **Your recall will be higher**. Since you are classifying more things as positive, you are more likely to find more Positives than you were before (you are increasing your TP: True Positives)\n",
    "- **Your precision will be lower** because you are increasing your Positives indiscriminately and in an imbalanced dataset, you are more likely to include False Positives doing that than True Positives (i.e. you are increasing your FP).\n",
    "> you increase your TPs (good) at the cost of FP (bad)\n",
    "\n"
   ]
  },
  {
   "cell_type": "markdown",
   "metadata": {},
   "source": [
    "## F1 - score"
   ]
  },
  {
   "cell_type": "markdown",
   "metadata": {},
   "source": [
    "In the end what should you optimize for? If we go full precision-mode we are sacrificing recall and if we go full-recall model we sacrifice precision.\n",
    "\n",
    "This is where F1 score comes in handy - when we don't have a particular balance to optimize"
   ]
  },
  {
   "cell_type": "markdown",
   "metadata": {},
   "source": [
    "![](media/F1-Score.png)"
   ]
  },
  {
   "cell_type": "markdown",
   "metadata": {},
   "source": [
    "Ignore the complex formula, this is what's called an [harmonic mean](https://en.wikipedia.org/wiki/Harmonic_mean). It is very similar to a simple mean/average between two numbers, except the lower number will push the average a bit more towards itself than you would expect.\n",
    "\n",
    "Why is this useful? Usually in ML systems we want a good tradeoff between recall and precision. We are not really interested in extremes where the precision is super good and the recall is super bad. For these cases it is generally preferable to have a good balance between the two. Let's look at an example:\n",
    "\n",
    "\n",
    "Take $H(r,p)$ to be the harmonic mean between a recall and precision scores, and $M(r,p)$ to be a normal mean between the two scores.\n",
    "\n",
    "Scenario 1:\n",
    "\n",
    "r = 1.0, p = 0.0\n",
    "- $H(r,p) = 0$\n",
    "- $M(r,p) = 0.5$\n",
    "\n",
    "Scenario 2:\n",
    "\n",
    "r = 0.9, p = 0.3\n",
    "\n",
    "- $H(r,p) = 0.45$\n",
    "- $M(r,p) = 0.60$\n",
    "\n",
    "Scenario 3:\n",
    "\n",
    "r = 0.7\n",
    "p = 0.9\n",
    "\n",
    "- $H(r,p) = 0.79$\n",
    "- $M(r,p) = 0.80$\n"
   ]
  },
  {
   "cell_type": "code",
   "execution_count": null,
   "metadata": {},
<<<<<<< HEAD
   "outputs": [
    {
     "data": {
      "text/plain": [
       "np.float64(0.096514745308311)"
      ]
     },
     "execution_count": 27,
     "metadata": {},
     "output_type": "execute_result"
    }
   ],
=======
   "outputs": [],
>>>>>>> 118d279afe8000e92fb4d226c3383069f97ef1f7
   "source": [
    "f1_score = lambda y_true, y_pred: 2 * precision_score(y_true, y_pred) * recall_score(y_true, y_pred) / (precision_score(y_true, y_pred) + recall_score(y_true, y_pred))\n",
    "\n",
    "\n",
    "f1_score(y_val, preds)"
   ]
  },
  {
   "cell_type": "markdown",
   "metadata": {},
   "source": [
    "# Threshold Independent metrics"
   ]
  },
  {
   "cell_type": "markdown",
   "metadata": {},
   "source": [
    "> A model is good depending on how well it can order the negatives and positives well along its probability outputs"
   ]
  },
  {
   "cell_type": "markdown",
   "metadata": {},
   "source": [
    "![](media/classification_threshold.gif)"
   ]
  },
  {
   "cell_type": "markdown",
   "metadata": {},
   "source": [
    "A perfect model would place all red circles on the left side and all blue ones on the right side. But in reality we always get something messy like the image above:"
   ]
  },
  {
   "cell_type": "markdown",
   "metadata": {},
   "source": [
    "Now it would be nice to summarize a model's performance without having to decide on a threshold, and thankfully we have 2 measures for that!"
   ]
  },
  {
   "cell_type": "markdown",
   "metadata": {},
   "source": [
    "## ROC (Receiver Operating Characteristic)"
   ]
  },
  {
   "cell_type": "markdown",
   "metadata": {},
   "source": [
    "At each intersection record the:\n",
    "-  **True Positive Rate** (recall) and\n",
    "- **False Positive Rate** (probability of false positive/alarm)."
   ]
  },
  {
   "cell_type": "markdown",
   "metadata": {},
   "source": [
    "<img src=\"media/roc-1.webp\"  width=\"600\">"
   ]
  },
  {
   "cell_type": "markdown",
   "metadata": {},
   "source": [
    "A random model would have always the characteristic of the dashed blue line above. And a perfect model is one where its ROC curve is highest:"
   ]
  },
  {
   "cell_type": "markdown",
   "metadata": {},
   "source": [
    "<img src=\"media/Roc_curve.svg.png\"  width=\"500\">"
   ]
  },
  {
   "cell_type": "markdown",
   "metadata": {},
   "source": [
    "We can summarize a ROC performance by taking it's **Area Under the Curve (AUC)**"
   ]
  },
  {
   "cell_type": "markdown",
   "metadata": {},
   "source": [
    "A random model will have an AUC-ROC of 0.5, and a perfect model has AUC-ROC of 1.0"
   ]
  },
  {
   "cell_type": "code",
   "execution_count": 28,
   "metadata": {},
   "outputs": [],
   "source": [
    "from sklearn.metrics import roc_auc_score, roc_curve"
   ]
  },
  {
   "cell_type": "code",
   "execution_count": null,
   "metadata": {},
<<<<<<< HEAD
   "outputs": [
    {
     "data": {
      "image/png": "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",
      "text/plain": [
       "<Figure size 600x400 with 1 Axes>"
      ]
     },
     "metadata": {},
     "output_type": "display_data"
    }
   ],
=======
   "outputs": [],
>>>>>>> 118d279afe8000e92fb4d226c3383069f97ef1f7
   "source": [
    "fpr, tpr, thresholds = roc_curve(y_val, probas)\n",
    "\n",
    "# plot the curve\n",
    "plt.figure(figsize=(6,4));\n",
    "plt.plot(fpr, tpr, color='darkorange', lw=2, label='ROC curve');\n",
    "plt.plot([0, 1], [0, 1], color='navy', lw=2, linestyle='--'); # random model\n",
    "plt.xlabel('False Positive Rate');\n",
    "plt.ylabel('True Positive Rate');\n",
    "plt.title('ROC curve');\n",
    "plt.legend(loc=\"lower right\");\n",
    "plt.show();"
   ]
  },
  {
   "cell_type": "code",
   "execution_count": null,
   "metadata": {},
<<<<<<< HEAD
   "outputs": [
    {
     "data": {
      "text/plain": [
       "np.float64(0.7387020882653672)"
      ]
     },
     "execution_count": 30,
     "metadata": {},
     "output_type": "execute_result"
    }
   ],
=======
   "outputs": [],
>>>>>>> 118d279afe8000e92fb4d226c3383069f97ef1f7
   "source": [
    "roc_auc_score(y_val, probas)"
   ]
  },
  {
   "cell_type": "markdown",
   "metadata": {},
   "source": [
    "So we have a model slightly better than random"
   ]
  },
  {
   "cell_type": "markdown",
   "metadata": {},
   "source": [
    "## Precision-recall Curve and Average Precision"
   ]
  },
  {
   "cell_type": "markdown",
   "metadata": {},
   "source": [
    "Plotting the precision-recall curve is another way to evaluate models without using a threshold.\n",
    "\n",
    "We still compute the checkpoints at each intersection but instead of recording the FPR and the TPR, we record the Precision and the Recall (TPR)"
   ]
  },
  {
   "cell_type": "markdown",
   "metadata": {},
   "source": [
    "<img src=\"media/Precision-Recall-Curve-of-a-Logistic-Regression-Model-and-a-No-Skill-Classifier2.webp\"  width=\"700\">\n"
   ]
  },
  {
   "cell_type": "markdown",
   "metadata": {},
   "source": [
    "A random model is one that has a curve with a value equal to the prevalence of the data (% of positives)."
   ]
  },
  {
   "cell_type": "markdown",
   "metadata": {},
   "source": [
    "The area under the curve is called the **average-precision**"
   ]
  },
  {
   "cell_type": "code",
   "execution_count": 31,
   "metadata": {},
   "outputs": [],
   "source": [
    "from sklearn.metrics import average_precision_score, precision_recall_curve"
   ]
  },
  {
   "cell_type": "code",
   "execution_count": null,
   "metadata": {},
<<<<<<< HEAD
   "outputs": [
    {
     "data": {
      "image/png": "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",
      "text/plain": [
       "<Figure size 600x400 with 1 Axes>"
      ]
     },
     "metadata": {},
     "output_type": "display_data"
    }
   ],
=======
   "outputs": [],
>>>>>>> 118d279afe8000e92fb4d226c3383069f97ef1f7
   "source": [
    "precisions, recalls, thresholds = precision_recall_curve(y_val, probas)\n",
    "\n",
    "# plot the curve\n",
    "plt.figure(figsize=(6,4));\n",
    "plt.plot(recalls, precisions, color='darkorange', lw=2, label='Precision-Recall curve');\n",
    "#plt.plot([0, 1], [y_val.mean(), y_val.mean()], color='navy', lw=2, linestyle='--'); # random model\n",
    "plt.xlabel('Recall');\n",
    "plt.ylabel('Precision');\n",
    "plt.title('Precision-Recall curve');\n",
    "plt.legend(loc=\"lower right\");\n",
    "plt.show();"
   ]
  },
  {
   "cell_type": "code",
   "execution_count": null,
   "metadata": {},
<<<<<<< HEAD
   "outputs": [
    {
     "data": {
      "text/plain": [
       "np.float64(0.3162082043565145)"
      ]
     },
     "execution_count": 33,
     "metadata": {},
     "output_type": "execute_result"
    }
   ],
=======
   "outputs": [],
>>>>>>> 118d279afe8000e92fb4d226c3383069f97ef1f7
   "source": [
    "average_precision_score(y_val, probas)"
   ]
  },
  {
   "cell_type": "markdown",
   "metadata": {},
   "source": [
    "## When to use either one?"
   ]
  },
  {
   "cell_type": "markdown",
   "metadata": {},
   "source": [
    "Either one allows you to compare models to understand which model is better.\n",
    "\n",
    "In a balanced dataset, using AUC-ROC is fine. But in imbalanced datasets you should use the Average Precision.\n",
    "\n",
    "In a very imbalanced dataset, you have a lot of Negatives. In ROC, if you try to increase recall by lowering the threshold, you increase the FPR. However the FPR won't increase by much because the number of negatives is high (take a look at the denominator of the formula).\n",
    "\n",
    "Average Precision is much more unforgiving, because if you lower the threshold to increase recall, your precision metric will be easily affected as a result for each False Positive you introduce.\n",
    "\n",
    "bonus: average precision suffers from a similar \"downfall\" as AUC-ROC, but when the positive class is very prevalent and the negative is quite rare. But usually in ML the rarer class is what we consider the positive class."
   ]
  },
  {
   "cell_type": "markdown",
   "metadata": {},
   "source": [
    "# Additional references\n",
    "\n",
    "[A really cool article on area under the curve](https://sinyi-chou.github.io/classification-auc/)"
   ]
  }
 ],
 "metadata": {
  "kernelspec": {
   "display_name": "Python 3",
   "language": "python",
   "name": "python3"
  },
  "language_info": {
   "codemirror_mode": {
    "name": "ipython",
    "version": 3
   },
   "file_extension": ".py",
   "mimetype": "text/x-python",
   "name": "python",
   "nbconvert_exporter": "python",
   "pygments_lexer": "ipython3",
   "version": "3.11.9"
  }
 },
 "nbformat": 4,
 "nbformat_minor": 2
}
