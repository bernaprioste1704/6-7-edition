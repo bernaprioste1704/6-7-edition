{
  "cells": [
    {
      "cell_type": "markdown",
      "metadata": {
        "colab_type": "text",
        "id": "view-in-github"
      },
      "source": [
        "<a href=\"https://colab.research.google.com/github/samsung-ai-course/6-7-edition/blob/main/Supervised%20Learning/classification.ipynb\" target=\"_parent\"><img src=\"https://colab.research.google.com/assets/colab-badge.svg\" alt=\"Open In Colab\"/></a>"
      ]
    },
    {
      "cell_type": "markdown",
      "id": "APDO73pwK-Ay",
      "metadata": {
        "id": "APDO73pwK-Ay"
      },
      "source": [
        "# Exploratory Data Analysis (EDA) and Feature Engineering\n",
        "This notebook demonstrates EDA and feature engineering with the Titanic dataset (classification task) and the Store Sales dataset (regression task)."
      ]
    },
    {
      "cell_type": "markdown",
      "id": "IIHu7bkeK-Az",
      "metadata": {
        "id": "IIHu7bkeK-Az"
      },
      "source": [
        "## Part 1: Titanic Dataset"
      ]
    },
    {
      "cell_type": "code",
      "execution_count": 1,
      "id": "ctKOSz0cK-A0",
      "metadata": {
        "colab": {
          "base_uri": "https://localhost:8080/",
          "height": 206
        },
        "id": "ctKOSz0cK-A0",
        "outputId": "26375469-85e4-49d6-bb39-c0135593ae1d"
      },
      "outputs": [
        {
          "data": {
            "text/html": [
              "<div>\n",
              "<style scoped>\n",
              "    .dataframe tbody tr th:only-of-type {\n",
              "        vertical-align: middle;\n",
              "    }\n",
              "\n",
              "    .dataframe tbody tr th {\n",
              "        vertical-align: top;\n",
              "    }\n",
              "\n",
              "    .dataframe thead th {\n",
              "        text-align: right;\n",
              "    }\n",
              "</style>\n",
              "<table border=\"1\" class=\"dataframe\">\n",
              "  <thead>\n",
              "    <tr style=\"text-align: right;\">\n",
              "      <th></th>\n",
              "      <th>Survived</th>\n",
              "      <th>Pclass</th>\n",
              "      <th>Name</th>\n",
              "      <th>Sex</th>\n",
              "      <th>Age</th>\n",
              "      <th>Siblings/Spouses Aboard</th>\n",
              "      <th>Parents/Children Aboard</th>\n",
              "      <th>Fare</th>\n",
              "    </tr>\n",
              "  </thead>\n",
              "  <tbody>\n",
              "    <tr>\n",
              "      <th>0</th>\n",
              "      <td>0</td>\n",
              "      <td>3</td>\n",
              "      <td>Mr. Owen Harris Braund</td>\n",
              "      <td>male</td>\n",
              "      <td>22.0</td>\n",
              "      <td>1</td>\n",
              "      <td>0</td>\n",
              "      <td>7.2500</td>\n",
              "    </tr>\n",
              "    <tr>\n",
              "      <th>1</th>\n",
              "      <td>1</td>\n",
              "      <td>1</td>\n",
              "      <td>Mrs. John Bradley (Florence Briggs Thayer) Cum...</td>\n",
              "      <td>female</td>\n",
              "      <td>38.0</td>\n",
              "      <td>1</td>\n",
              "      <td>0</td>\n",
              "      <td>71.2833</td>\n",
              "    </tr>\n",
              "    <tr>\n",
              "      <th>2</th>\n",
              "      <td>1</td>\n",
              "      <td>3</td>\n",
              "      <td>Miss. Laina Heikkinen</td>\n",
              "      <td>female</td>\n",
              "      <td>26.0</td>\n",
              "      <td>0</td>\n",
              "      <td>0</td>\n",
              "      <td>7.9250</td>\n",
              "    </tr>\n",
              "    <tr>\n",
              "      <th>3</th>\n",
              "      <td>1</td>\n",
              "      <td>1</td>\n",
              "      <td>Mrs. Jacques Heath (Lily May Peel) Futrelle</td>\n",
              "      <td>female</td>\n",
              "      <td>35.0</td>\n",
              "      <td>1</td>\n",
              "      <td>0</td>\n",
              "      <td>53.1000</td>\n",
              "    </tr>\n",
              "    <tr>\n",
              "      <th>4</th>\n",
              "      <td>0</td>\n",
              "      <td>3</td>\n",
              "      <td>Mr. William Henry Allen</td>\n",
              "      <td>male</td>\n",
              "      <td>35.0</td>\n",
              "      <td>0</td>\n",
              "      <td>0</td>\n",
              "      <td>8.0500</td>\n",
              "    </tr>\n",
              "  </tbody>\n",
              "</table>\n",
              "</div>"
            ],
            "text/plain": [
              "   Survived  Pclass                                               Name  \\\n",
              "0         0       3                             Mr. Owen Harris Braund   \n",
              "1         1       1  Mrs. John Bradley (Florence Briggs Thayer) Cum...   \n",
              "2         1       3                              Miss. Laina Heikkinen   \n",
              "3         1       1        Mrs. Jacques Heath (Lily May Peel) Futrelle   \n",
              "4         0       3                            Mr. William Henry Allen   \n",
              "\n",
              "      Sex   Age  Siblings/Spouses Aboard  Parents/Children Aboard     Fare  \n",
              "0    male  22.0                        1                        0   7.2500  \n",
              "1  female  38.0                        1                        0  71.2833  \n",
              "2  female  26.0                        0                        0   7.9250  \n",
              "3  female  35.0                        1                        0  53.1000  \n",
              "4    male  35.0                        0                        0   8.0500  "
            ]
          },
          "execution_count": 1,
          "metadata": {},
          "output_type": "execute_result"
        }
      ],
      "source": [
        "# Import libraries\n",
        "import pandas as pd\n",
        "import numpy as np\n",
        "import seaborn as sns\n",
        "import matplotlib.pyplot as plt\n",
        "\n",
        "# Load Titanic dataset\n",
        "path = \"https://raw.githubusercontent.com/samsung-ai-course/6-7-edition/main/Supervised%20Learning/Datasets/titanic.csv\" #or whatever other path you might have the file on titanic.csv\n",
        "titanic = pd.read_csv(path)\n",
        "\n",
        "# Preview dataset\n",
        "titanic.head()"
      ]
    },
    {
      "cell_type": "code",
      "execution_count": 2,
      "id": "pPLHYjKVK-A0",
      "metadata": {
        "colab": {
          "base_uri": "https://localhost:8080/"
        },
        "id": "pPLHYjKVK-A0",
        "outputId": "f57a9fb1-1e4d-4ed5-80c6-30c14b6f5b86"
      },
      "outputs": [
        {
          "name": "stdout",
          "output_type": "stream",
          "text": [
            "<class 'pandas.core.frame.DataFrame'>\n",
            "RangeIndex: 887 entries, 0 to 886\n",
            "Data columns (total 8 columns):\n",
            " #   Column                   Non-Null Count  Dtype  \n",
            "---  ------                   --------------  -----  \n",
            " 0   Survived                 887 non-null    int64  \n",
            " 1   Pclass                   887 non-null    int64  \n",
            " 2   Name                     887 non-null    object \n",
            " 3   Sex                      887 non-null    object \n",
            " 4   Age                      887 non-null    float64\n",
            " 5   Siblings/Spouses Aboard  887 non-null    int64  \n",
            " 6   Parents/Children Aboard  887 non-null    int64  \n",
            " 7   Fare                     887 non-null    float64\n",
            "dtypes: float64(2), int64(4), object(2)\n",
            "memory usage: 55.6+ KB\n"
          ]
        }
      ],
      "source": [
        "# Basic information about the dataset\n",
        "titanic.info()"
      ]
    },
    {
      "cell_type": "code",
      "execution_count": 3,
      "id": "aFAQroF5K-A0",
      "metadata": {
        "colab": {
          "base_uri": "https://localhost:8080/",
          "height": 335
        },
        "id": "aFAQroF5K-A0",
        "outputId": "c928031d-1c1f-4c38-c336-5f15c751aab1"
      },
      "outputs": [
        {
          "data": {
            "text/plain": [
              "Survived                   0\n",
              "Pclass                     0\n",
              "Name                       0\n",
              "Sex                        0\n",
              "Age                        0\n",
              "Siblings/Spouses Aboard    0\n",
              "Parents/Children Aboard    0\n",
              "Fare                       0\n",
              "dtype: int64"
            ]
          },
          "execution_count": 3,
          "metadata": {},
          "output_type": "execute_result"
        }
      ],
      "source": [
        "# Check for missing values\n",
        "titanic.isnull().sum()"
      ]
    },
    {
      "cell_type": "code",
      "execution_count": 4,
      "id": "33pd4TBgK-A1",
      "metadata": {
        "colab": {
          "base_uri": "https://localhost:8080/",
          "height": 472
        },
        "id": "33pd4TBgK-A1",
        "outputId": "f753653e-bb88-4226-d5e2-4fae071aafb2"
      },
      "outputs": [
        {
          "data": {
            "image/png": "[encoded data removed]",
            "text/plain": [
              "<Figure size 640x480 with 1 Axes>"
            ]
          },
          "metadata": {},
          "output_type": "display_data"
        }
      ],
      "source": [
        "# Distribution of Age\n",
        "sns.histplot(titanic['Age'].dropna(), kde=True, bins=30)\n",
        "plt.title('Age Distribution')\n",
        "plt.show()"
      ]
    },
    {
      "cell_type": "code",
      "execution_count": 5,
      "id": "KnereAQoK-A1",
      "metadata": {
        "colab": {
          "base_uri": "https://localhost:8080/",
          "height": 472
        },
        "id": "KnereAQoK-A1",
        "outputId": "10369c09-4ecc-48a1-ec2d-78d08a0a448f"
      },
      "outputs": [
        {
          "data": {
            "image/png": "[encoded data removed]",
            "text/plain": [
              "<Figure size 640x480 with 1 Axes>"
            ]
          },
          "metadata": {},
          "output_type": "display_data"
        }
      ],
      "source": [
        "# Survival rates by Pclass\n",
        "sns.barplot(x='Pclass', y='Survived', data=titanic)\n",
        "plt.title('Survival Rates by Passenger Class')\n",
        "plt.show()"
      ]
    },
    {
      "cell_type": "code",
      "execution_count": 6,
      "id": "lvpqX5UiK-A1",
      "metadata": {
        "colab": {
          "base_uri": "https://localhost:8080/",
          "height": 609
        },
        "id": "lvpqX5UiK-A1",
        "outputId": "703a6cd3-c68e-4db3-c1a0-d6da84e6363d"
      },
      "outputs": [
        {
          "data": {
            "image/png": "[encoded data removed]",
            "text/plain": [
              "<Figure size 640x480 with 2 Axes>"
            ]
          },
          "metadata": {},
          "output_type": "display_data"
        }
      ],
      "source": [
        "numerical_features = titanic.select_dtypes(include=['number']) #What is this doing?\n",
        "\n",
        "sns.heatmap(numerical_features.corr(), annot=True, cmap='coolwarm')\n",
        "plt.title('Correlation Heatmap')\n",
        "plt.show()"
      ]
    },
    {
      "cell_type": "markdown",
      "id": "zJVqkjpWhs9e",
      "metadata": {
        "id": "zJVqkjpWhs9e"
      },
      "source": [
        "## Discussion\n",
        "What conclusions can you take?\n",
        "\n",
        "Which column/columns seems to be the most relevant to the target?\n",
        "\n",
        "Which columns are extremely correlated ?"
      ]
    },
    {
      "cell_type": "code",
      "execution_count": 7,
      "id": "I1j174KZK-A1",
      "metadata": {
        "colab": {
          "base_uri": "https://localhost:8080/"
        },
        "id": "I1j174KZK-A1",
        "outputId": "5437a1d2-13b4-4d77-8c7a-62fe313e46ae"
      },
      "outputs": [
        {
          "name": "stdout",
          "output_type": "stream",
          "text": [
            "Baseline Accuracy (predicting non-survivors): 0.61\n"
          ]
        }
      ],
      "source": [
        "# Baseline experiment\n",
        "# Predict everyone as non-survivors\n",
        "baseline_prediction = np.zeros(len(titanic))\n",
        "accuracy = (baseline_prediction == titanic['Survived']).mean()\n",
        "print(f\"Baseline Accuracy (predicting non-survivors): {accuracy:.2f}\")\n",
        "\n",
        "#What conclusion do you take from here ?"
      ]
    },
    {
      "cell_type": "markdown",
      "id": "ruu_YsBHK-A1",
      "metadata": {
        "id": "ruu_YsBHK-A1"
      },
      "source": [
        "## Part 2: Feature Engineering with Titanic Dataset"
      ]
    },
    {
      "cell_type": "code",
      "execution_count": 8,
      "id": "ev2lzZLrK-A2",
      "metadata": {
        "colab": {
          "base_uri": "https://localhost:8080/",
          "height": 206
        },
        "id": "ev2lzZLrK-A2",
        "outputId": "ae7ba25f-e333-4e34-de63-a72cdae7997b"
      },
      "outputs": [
        {
          "data": {
            "text/html": [
              "<div>\n",
              "<style scoped>\n",
              "    .dataframe tbody tr th:only-of-type {\n",
              "        vertical-align: middle;\n",
              "    }\n",
              "\n",
              "    .dataframe tbody tr th {\n",
              "        vertical-align: top;\n",
              "    }\n",
              "\n",
              "    .dataframe thead th {\n",
              "        text-align: right;\n",
              "    }\n",
              "</style>\n",
              "<table border=\"1\" class=\"dataframe\">\n",
              "  <thead>\n",
              "    <tr style=\"text-align: right;\">\n",
              "      <th></th>\n",
              "      <th>Survived</th>\n",
              "      <th>Name</th>\n",
              "      <th>Age</th>\n",
              "      <th>Siblings/Spouses Aboard</th>\n",
              "      <th>Parents/Children Aboard</th>\n",
              "      <th>Fare</th>\n",
              "      <th>Sex_male</th>\n",
              "      <th>Pclass_2</th>\n",
              "      <th>Pclass_3</th>\n",
              "      <th>FamilySize</th>\n",
              "    </tr>\n",
              "  </thead>\n",
              "  <tbody>\n",
              "    <tr>\n",
              "      <th>0</th>\n",
              "      <td>0</td>\n",
              "      <td>Mr. Owen Harris Braund</td>\n",
              "      <td>22.0</td>\n",
              "      <td>1</td>\n",
              "      <td>0</td>\n",
              "      <td>0.014151</td>\n",
              "      <td>True</td>\n",
              "      <td>False</td>\n",
              "      <td>True</td>\n",
              "      <td>2</td>\n",
              "    </tr>\n",
              "    <tr>\n",
              "      <th>1</th>\n",
              "      <td>1</td>\n",
              "      <td>Mrs. John Bradley (Florence Briggs Thayer) Cum...</td>\n",
              "      <td>38.0</td>\n",
              "      <td>1</td>\n",
              "      <td>0</td>\n",
              "      <td>0.139136</td>\n",
              "      <td>False</td>\n",
              "      <td>False</td>\n",
              "      <td>False</td>\n",
              "      <td>2</td>\n",
              "    </tr>\n",
              "    <tr>\n",
              "      <th>2</th>\n",
              "      <td>1</td>\n",
              "      <td>Miss. Laina Heikkinen</td>\n",
              "      <td>26.0</td>\n",
              "      <td>0</td>\n",
              "      <td>0</td>\n",
              "      <td>0.015469</td>\n",
              "      <td>False</td>\n",
              "      <td>False</td>\n",
              "      <td>True</td>\n",
              "      <td>1</td>\n",
              "    </tr>\n",
              "    <tr>\n",
              "      <th>3</th>\n",
              "      <td>1</td>\n",
              "      <td>Mrs. Jacques Heath (Lily May Peel) Futrelle</td>\n",
              "      <td>35.0</td>\n",
              "      <td>1</td>\n",
              "      <td>0</td>\n",
              "      <td>0.103644</td>\n",
              "      <td>False</td>\n",
              "      <td>False</td>\n",
              "      <td>False</td>\n",
              "      <td>2</td>\n",
              "    </tr>\n",
              "    <tr>\n",
              "      <th>4</th>\n",
              "      <td>0</td>\n",
              "      <td>Mr. William Henry Allen</td>\n",
              "      <td>35.0</td>\n",
              "      <td>0</td>\n",
              "      <td>0</td>\n",
              "      <td>0.015713</td>\n",
              "      <td>True</td>\n",
              "      <td>False</td>\n",
              "      <td>True</td>\n",
              "      <td>1</td>\n",
              "    </tr>\n",
              "  </tbody>\n",
              "</table>\n",
              "</div>"
            ],
            "text/plain": [
              "   Survived                                               Name   Age  \\\n",
              "0         0                             Mr. Owen Harris Braund  22.0   \n",
              "1         1  Mrs. John Bradley (Florence Briggs Thayer) Cum...  38.0   \n",
              "2         1                              Miss. Laina Heikkinen  26.0   \n",
              "3         1        Mrs. Jacques Heath (Lily May Peel) Futrelle  35.0   \n",
              "4         0                            Mr. William Henry Allen  35.0   \n",
              "\n",
              "   Siblings/Spouses Aboard  Parents/Children Aboard      Fare  Sex_male  \\\n",
              "0                        1                        0  0.014151      True   \n",
              "1                        1                        0  0.139136     False   \n",
              "2                        0                        0  0.015469     False   \n",
              "3                        1                        0  0.103644     False   \n",
              "4                        0                        0  0.015713      True   \n",
              "\n",
              "   Pclass_2  Pclass_3  FamilySize  \n",
              "0     False      True           2  \n",
              "1     False     False           2  \n",
              "2     False      True           1  \n",
              "3     False     False           2  \n",
              "4     False      True           1  "
            ]
          },
          "execution_count": 8,
          "metadata": {},
          "output_type": "execute_result"
        }
      ],
      "source": [
        "# Categorical Encoding: One-hot encode 'Sex' and 'Pclass'\n",
        "titanic_encoded = pd.get_dummies(titanic, columns=['Sex', 'Pclass'], drop_first=True)\n",
        "\n",
        "# Handle missing values: Impute Age with median\n",
        "titanic_encoded['Age'] = titanic_encoded['Age'].fillna(titanic_encoded['Age'].median())\n",
        "\n",
        "# Feature Scaling: Normalize 'Fare'\n",
        "from sklearn.preprocessing import MinMaxScaler\n",
        "scaler = MinMaxScaler()\n",
        "titanic_encoded['Fare'] = scaler.fit_transform(titanic_encoded[['Fare']])\n",
        "#TODO: What if we didnt normalize it ? How different would the results be ?\n",
        "\n",
        "# Creating new features: FamilySize\n",
        "titanic_encoded['FamilySize'] = titanic_encoded['Siblings/Spouses Aboard'] + titanic_encoded['Parents/Children Aboard'] + 1\n",
        "\n",
        "# Preview the engineered dataset\n",
        "titanic_encoded.head()"
      ]
    },
    {
      "cell_type": "markdown",
      "id": "Q5rF0901-1hX",
      "metadata": {
        "id": "Q5rF0901-1hX"
      },
      "source": [
        "## Part 3\n",
        "Select the appropriate features and train a logistic regression, train a KNN, train a Naive Bayes and SVM.\n",
        "\n",
        "Which one has a better accuracy ?\n",
        "\n",
        "P.s check the documentation of each of those algorithms\n"
      ]
    },
    {
      "cell_type": "code",
      "execution_count": 9,
      "id": "dR2TGzPvALli",
      "metadata": {
        "colab": {
          "base_uri": "https://localhost:8080/"
        },
        "id": "dR2TGzPvALli",
        "outputId": "f6c216de-a734-4b0e-d890-8e5bcaf2b80a"
      },
      "outputs": [
        {
          "name": "stdout",
          "output_type": "stream",
          "text": [
            "0.7415730337078652\n",
            "Accuracy of the logistic regression model: 0.7471910112359551\n"
          ]
        }
      ],
      "source": [
        "from sklearn.model_selection import train_test_split\n",
        "from sklearn.linear_model import LogisticRegression\n",
        "from sklearn.metrics import accuracy_score\n",
        "from sklearn import svm\n",
        "\n",
        "\n",
        "# Define features (X) and target (y)\n",
        "X = titanic_encoded[['Age', 'Siblings/Spouses Aboard', 'Parents/Children Aboard', 'Fare', 'Sex_male', 'Pclass_2', 'Pclass_3', 'FamilySize']]\n",
        "y = titanic_encoded['Survived']\n",
        "\n",
        "# Split data into training and testing sets (we will come back to this later)\n",
        "X_train, X_test, y_train, y_test = train_test_split(X, y, test_size=0.2, random_state=42, shuffle=True)\n",
        "clf = svm.SVC(kernel='linear', C=1).fit(X_train, y_train)\n",
        "score = clf.score(X_test, y_test)\n",
        "print(score)\n",
        "# Initialize and train a logistic regression model\n",
        "model = LogisticRegression(max_iter = 1000) #TODO: What's this max_iter ? Try to change it as well.\n",
        "model.fit(X_train, y_train)\n",
        "\n",
        "# Make predictions on the test set\n",
        "y_pred = model.predict(X_test)\n",
        "\n",
        "# Evaluate the model's accuracy\n",
        "accuracy = accuracy_score(y_test, y_pred)\n",
        "print(f\"Accuracy of the logistic regression model: {accuracy}\")"
      ]
    },
    {
      "cell_type": "code",
      "execution_count": 10,
      "id": "536c70e1",
      "metadata": {},
      "outputs": [
        {
          "name": "stdout",
          "output_type": "stream",
          "text": [
            "0.7415730337078652\n"
          ]
        }
      ],
      "source": [
        "clf = svm.SVC(kernel='linear', C=1).fit(X_train, y_train)\n",
        "score = clf.score(X_test, y_test)\n",
        "print(score)"
      ]
    },
    {
      "cell_type": "code",
      "execution_count": 11,
      "id": "68b74911",
      "metadata": {},
      "outputs": [
        {
          "name": "stdout",
          "output_type": "stream",
          "text": [
            "Fold 0:\n",
            "  Train: index=[  2   3   4   6   7   8   9  11  15  17  22  26  28  30  33  35  36  37\n",
            "  43  46  47  48  49  53  54  55  57  58  59  60  61  62  64  65  67  68\n",
            "  69  70  71  75  76  78  80  82  84  85  88  90  92  93  94  95  98 100\n",
            " 101 104 105 110 113 117 118 122 124 130 131 132 135 136 139 140 142 143\n",
            " 147 150 151 152 153 154 156 158 160 161 162 163 165 166 167 168 169 170\n",
            " 176 177 180 181 182 184 187 192 193 196 197 200 201 203 205 207 208 211\n",
            " 212 213 215 217 219 220 223 224 225 228 229 230 232 234 236 237 239 240\n",
            " 242 243 251 253 254 255 256 257 259 262 263 264 265 270 271 272 273 274\n",
            " 276 277 279 284 285 287 289 290 291 292 294 295 297 298 300 301 305 306\n",
            " 307 310 314 316 319 320 323 324 325 326 328 330 331 332 333 335 336 339\n",
            " 340 345 349 352 355 356 358 360 361 362 367 368 370 373 377 378 380 382\n",
            " 383 384 386 391 393 395 398 401 402 403 404 405 406 407 409 410 411 412\n",
            " 414 418 420 423 424 427 428 431 432 433 434 435 436 437 440 441 442 443\n",
            " 447 449 450 451 454 455 456 459 460 461 466 468 471 472 473 474 479 480\n",
            " 481 486 488 489 492 493 494 497 498 507 510 514 515 518 520 522 523 525\n",
            " 526 529 530 531 532 534 539 543 544 547 554 555 559 561 564 565 568 569\n",
            " 570 574 575 576 577 580 582 584 591 593 594 595 596 600 603 604 605 609\n",
            " 613 616 617 618 622 624 625 629 632 633 641 645 646 647 649 650 651 652\n",
            " 653 655 656 659 660 662 664 665 668 674 675 677 678 680 681 686 687 689\n",
            " 690 691 693 694 696 697 699 702 703 705 706 707 709 711 712 717 718 721\n",
            " 726 727 728 732 737 739 741 742 745 746 748 749 754 755 757 759 765 770\n",
            " 771 772 773 774 777 778 781 782 783 784 786 787 789 791 792 794 795 797\n",
            " 799 801 802 807 810 811 813 814 815 818 819 822 823 824 825 828 829 831\n",
            " 833 834 835 836 837 840 842 849 850 852 853 854 855 856 857 858 859 860\n",
            " 861 864 865 866 868 872 873 874 877 878 881]\n",
            "  Test:  index=[  0   1   5  10  12  13  14  16  18  19  20  21  23  24  25  27  29  31\n",
            "  32  34  38  39  40  41  42  44  45  50  51  52  56  63  66  72  73  74\n",
            "  77  79  81  83  86  87  89  91  96  97  99 102 103 106 107 108 109 111\n",
            " 112 114 115 116 119 120 121 123 125 126 127 128 129 133 134 137 138 141\n",
            " 144 145 146 148 149 155 157 159 164 171 172 173 174 175 178 179 183 185\n",
            " 186 188 189 190 191 194 195 198 199 202 204 206 209 210 214 216 218 221\n",
            " 222 226 227 231 233 235 238 241 244 245 246 247 248 249 250 252 258 260\n",
            " 261 266 267 268 269 275 278 280 281 282 283 286 288 293 296 299 302 303\n",
            " 304 308 309 311 312 313 315 317 318 321 322 327 329 334 337 338 341 342\n",
            " 343 344 346 347 348 350 351 353 354 357 359 363 364 365 366 369 371 372\n",
            " 374 375 376 379 381 385 387 388 389 390 392 394 396 397 399 400 408 413\n",
            " 415 416 417 419 421 422 425 426 429 430 438 439 444 445 446 448 452 453\n",
            " 457 458 462 463 464 465 467 469 470 475 476 477 478 482 483 484 485 487\n",
            " 490 491 495 496 499 500 501 502 503 504 505 506 508 509 511 512 513 516\n",
            " 517 519 521 524 527 528 533 535 536 537 538 540 541 542 545 546 548 549\n",
            " 550 551 552 553 556 557 558 560 562 563 566 567 571 572 573 578 579 581\n",
            " 583 585 586 587 588 589 590 592 597 598 599 601 602 606 607 608 610 611\n",
            " 612 614 615 619 620 621 623 626 627 628 630 631 634 635 636 637 638 639\n",
            " 640 642 643 644 648 654 657 658 661 663 666 667 669 670 671 672 673 676\n",
            " 679 682 683 684 685 688 692 695 698 700 701 704 708 710 713 714 715 716\n",
            " 719 720 722 723 724 725 729 730 731 733 734 735 736 738 740 743 744 747\n",
            " 750 751 752 753 756 758 760 761 762 763 764 766 767 768 769 775 776 779\n",
            " 780 785 788 790 793 796 798 800 803 804 805 806 808 809 812 816 817 820\n",
            " 821 826 827 830 832 838 839 841 843 844 845 846 847 848 851 862 863 867\n",
            " 869 870 871 875 876 879 880 882 883 884 885 886]\n",
            "Fold 1:\n",
            "  Train: index=[  0   1   5  10  12  13  14  16  18  19  20  21  23  24  25  27  29  31\n",
            "  32  34  38  39  40  41  42  44  45  50  51  52  56  63  66  72  73  74\n",
            "  77  79  81  83  86  87  89  91  96  97  99 102 103 106 107 108 109 111\n",
            " 112 114 115 116 119 120 121 123 125 126 127 128 129 133 134 137 138 141\n",
            " 144 145 146 148 149 155 157 159 164 171 172 173 174 175 178 179 183 185\n",
            " 186 188 189 190 191 194 195 198 199 202 204 206 209 210 214 216 218 221\n",
            " 222 226 227 231 233 235 238 241 244 245 246 247 248 249 250 252 258 260\n",
            " 261 266 267 268 269 275 278 280 281 282 283 286 288 293 296 299 302 303\n",
            " 304 308 309 311 312 313 315 317 318 321 322 327 329 334 337 338 341 342\n",
            " 343 344 346 347 348 350 351 353 354 357 359 363 364 365 366 369 371 372\n",
            " 374 375 376 379 381 385 387 388 389 390 392 394 396 397 399 400 408 413\n",
            " 415 416 417 419 421 422 425 426 429 430 438 439 444 445 446 448 452 453\n",
            " 457 458 462 463 464 465 467 469 470 475 476 477 478 482 483 484 485 487\n",
            " 490 491 495 496 499 500 501 502 503 504 505 506 508 509 511 512 513 516\n",
            " 517 519 521 524 527 528 533 535 536 537 538 540 541 542 545 546 548 549\n",
            " 550 551 552 553 556 557 558 560 562 563 566 567 571 572 573 578 579 581\n",
            " 583 585 586 587 588 589 590 592 597 598 599 601 602 606 607 608 610 611\n",
            " 612 614 615 619 620 621 623 626 627 628 630 631 634 635 636 637 638 639\n",
            " 640 642 643 644 648 654 657 658 661 663 666 667 669 670 671 672 673 676\n",
            " 679 682 683 684 685 688 692 695 698 700 701 704 708 710 713 714 715 716\n",
            " 719 720 722 723 724 725 729 730 731 733 734 735 736 738 740 743 744 747\n",
            " 750 751 752 753 756 758 760 761 762 763 764 766 767 768 769 775 776 779\n",
            " 780 785 788 790 793 796 798 800 803 804 805 806 808 809 812 816 817 820\n",
            " 821 826 827 830 832 838 839 841 843 844 845 846 847 848 851 862 863 867\n",
            " 869 870 871 875 876 879 880 882 883 884 885 886]\n",
            "  Test:  index=[  2   3   4   6   7   8   9  11  15  17  22  26  28  30  33  35  36  37\n",
            "  43  46  47  48  49  53  54  55  57  58  59  60  61  62  64  65  67  68\n",
            "  69  70  71  75  76  78  80  82  84  85  88  90  92  93  94  95  98 100\n",
            " 101 104 105 110 113 117 118 122 124 130 131 132 135 136 139 140 142 143\n",
            " 147 150 151 152 153 154 156 158 160 161 162 163 165 166 167 168 169 170\n",
            " 176 177 180 181 182 184 187 192 193 196 197 200 201 203 205 207 208 211\n",
            " 212 213 215 217 219 220 223 224 225 228 229 230 232 234 236 237 239 240\n",
            " 242 243 251 253 254 255 256 257 259 262 263 264 265 270 271 272 273 274\n",
            " 276 277 279 284 285 287 289 290 291 292 294 295 297 298 300 301 305 306\n",
            " 307 310 314 316 319 320 323 324 325 326 328 330 331 332 333 335 336 339\n",
            " 340 345 349 352 355 356 358 360 361 362 367 368 370 373 377 378 380 382\n",
            " 383 384 386 391 393 395 398 401 402 403 404 405 406 407 409 410 411 412\n",
            " 414 418 420 423 424 427 428 431 432 433 434 435 436 437 440 441 442 443\n",
            " 447 449 450 451 454 455 456 459 460 461 466 468 471 472 473 474 479 480\n",
            " 481 486 488 489 492 493 494 497 498 507 510 514 515 518 520 522 523 525\n",
            " 526 529 530 531 532 534 539 543 544 547 554 555 559 561 564 565 568 569\n",
            " 570 574 575 576 577 580 582 584 591 593 594 595 596 600 603 604 605 609\n",
            " 613 616 617 618 622 624 625 629 632 633 641 645 646 647 649 650 651 652\n",
            " 653 655 656 659 660 662 664 665 668 674 675 677 678 680 681 686 687 689\n",
            " 690 691 693 694 696 697 699 702 703 705 706 707 709 711 712 717 718 721\n",
            " 726 727 728 732 737 739 741 742 745 746 748 749 754 755 757 759 765 770\n",
            " 771 772 773 774 777 778 781 782 783 784 786 787 789 791 792 794 795 797\n",
            " 799 801 802 807 810 811 813 814 815 818 819 822 823 824 825 828 829 831\n",
            " 833 834 835 836 837 840 842 849 850 852 853 854 855 856 857 858 859 860\n",
            " 861 864 865 866 868 872 873 874 877 878 881]\n",
            "Fold 2:\n",
            "  Train: index=[  2   3   4   5   8   9  10  12  14  16  19  20  22  23  25  26  29  33\n",
            "  38  39  40  42  43  44  47  53  57  61  62  64  65  66  68  75  76  77\n",
            "  78  79  80  83  84  85  86  87  89  95  98 100 110 113 114 115 116 117\n",
            " 118 121 124 125 126 127 129 132 133 135 136 138 139 142 145 146 147 150\n",
            " 152 153 156 157 159 160 161 163 164 165 166 167 169 170 173 175 176 178\n",
            " 179 183 185 187 188 191 193 194 197 198 199 201 202 203 205 208 212 213\n",
            " 216 217 218 219 221 222 225 230 231 234 235 237 238 242 244 245 246 249\n",
            " 251 252 253 256 261 262 263 264 267 272 273 274 278 279 281 284 286 287\n",
            " 288 289 290 294 295 296 304 307 308 309 310 312 315 316 318 320 321 324\n",
            " 326 327 333 334 335 337 339 340 344 345 347 352 355 360 361 362 363 365\n",
            " 367 369 371 374 375 378 380 383 384 385 389 390 392 395 396 397 400 401\n",
            " 404 406 408 409 412 414 418 420 421 423 424 425 426 428 430 432 433 435\n",
            " 436 438 439 440 443 444 445 447 448 453 454 458 462 464 466 467 469 473\n",
            " 475 477 478 480 481 482 485 486 494 498 499 500 501 503 505 508 509 512\n",
            " 517 520 521 522 523 525 527 528 530 531 532 536 537 538 543 545 547 549\n",
            " 551 552 553 554 555 557 558 561 562 563 564 565 568 571 576 580 582 584\n",
            " 586 587 589 590 592 598 599 600 604 605 607 608 609 610 611 613 614 619\n",
            " 622 629 630 631 634 639 640 641 642 646 649 650 651 655 656 657 658 660\n",
            " 662 663 664 667 669 670 672 673 674 676 678 680 683 685 691 692 695 696\n",
            " 697 701 703 704 707 710 711 717 718 720 721 722 723 724 725 726 727 730\n",
            " 731 732 733 737 739 741 743 744 747 749 750 752 753 755 757 758 759 761\n",
            " 762 763 764 765 767 769 770 773 775 776 778 782 783 784 785 786 787 788\n",
            " 789 790 791 796 797 798 801 805 806 808 809 810 811 813 815 816 817 818\n",
            " 820 822 824 827 828 838 840 842 848 850 854 856 857 859 860 861 863 864\n",
            " 865 867 870 871 872 874 877 878 880 884 886]\n",
            "  Test:  index=[  0   1   6   7  11  13  15  17  18  21  24  27  28  30  31  32  34  35\n",
            "  36  37  41  45  46  48  49  50  51  52  54  55  56  58  59  60  63  67\n",
            "  69  70  71  72  73  74  81  82  88  90  91  92  93  94  96  97  99 101\n",
            " 102 103 104 105 106 107 108 109 111 112 119 120 122 123 128 130 131 134\n",
            " 137 140 141 143 144 148 149 151 154 155 158 162 168 171 172 174 177 180\n",
            " 181 182 184 186 189 190 192 195 196 200 204 206 207 209 210 211 214 215\n",
            " 220 223 224 226 227 228 229 232 233 236 239 240 241 243 247 248 250 254\n",
            " 255 257 258 259 260 265 266 268 269 270 271 275 276 277 280 282 283 285\n",
            " 291 292 293 297 298 299 300 301 302 303 305 306 311 313 314 317 319 322\n",
            " 323 325 328 329 330 331 332 336 338 341 342 343 346 348 349 350 351 353\n",
            " 354 356 357 358 359 364 366 368 370 372 373 376 377 379 381 382 386 387\n",
            " 388 391 393 394 398 399 402 403 405 407 410 411 413 415 416 417 419 422\n",
            " 427 429 431 434 437 441 442 446 449 450 451 452 455 456 457 459 460 461\n",
            " 463 465 468 470 471 472 474 476 479 483 484 487 488 489 490 491 492 493\n",
            " 495 496 497 502 504 506 507 510 511 513 514 515 516 518 519 524 526 529\n",
            " 533 534 535 539 540 541 542 544 546 548 550 556 559 560 566 567 569 570\n",
            " 572 573 574 575 577 578 579 581 583 585 588 591 593 594 595 596 597 601\n",
            " 602 603 606 612 615 616 617 618 620 621 623 624 625 626 627 628 632 633\n",
            " 635 636 637 638 643 644 645 647 648 652 653 654 659 661 665 666 668 671\n",
            " 675 677 679 681 682 684 686 687 688 689 690 693 694 698 699 700 702 705\n",
            " 706 708 709 712 713 714 715 716 719 728 729 734 735 736 738 740 742 745\n",
            " 746 748 751 754 756 760 766 768 771 772 774 777 779 780 781 792 793 794\n",
            " 795 799 800 802 803 804 807 812 814 819 821 823 825 826 829 830 831 832\n",
            " 833 834 835 836 837 839 841 843 844 845 846 847 849 851 852 853 855 858\n",
            " 862 866 868 869 873 875 876 879 881 882 883 885]\n",
            "Fold 3:\n",
            "  Train: index=[  0   1   6   7  11  13  15  17  18  21  24  27  28  30  31  32  34  35\n",
            "  36  37  41  45  46  48  49  50  51  52  54  55  56  58  59  60  63  67\n",
            "  69  70  71  72  73  74  81  82  88  90  91  92  93  94  96  97  99 101\n",
            " 102 103 104 105 106 107 108 109 111 112 119 120 122 123 128 130 131 134\n",
            " 137 140 141 143 144 148 149 151 154 155 158 162 168 171 172 174 177 180\n",
            " 181 182 184 186 189 190 192 195 196 200 204 206 207 209 210 211 214 215\n",
            " 220 223 224 226 227 228 229 232 233 236 239 240 241 243 247 248 250 254\n",
            " 255 257 258 259 260 265 266 268 269 270 271 275 276 277 280 282 283 285\n",
            " 291 292 293 297 298 299 300 301 302 303 305 306 311 313 314 317 319 322\n",
            " 323 325 328 329 330 331 332 336 338 341 342 343 346 348 349 350 351 353\n",
            " 354 356 357 358 359 364 366 368 370 372 373 376 377 379 381 382 386 387\n",
            " 388 391 393 394 398 399 402 403 405 407 410 411 413 415 416 417 419 422\n",
            " 427 429 431 434 437 441 442 446 449 450 451 452 455 456 457 459 460 461\n",
            " 463 465 468 470 471 472 474 476 479 483 484 487 488 489 490 491 492 493\n",
            " 495 496 497 502 504 506 507 510 511 513 514 515 516 518 519 524 526 529\n",
            " 533 534 535 539 540 541 542 544 546 548 550 556 559 560 566 567 569 570\n",
            " 572 573 574 575 577 578 579 581 583 585 588 591 593 594 595 596 597 601\n",
            " 602 603 606 612 615 616 617 618 620 621 623 624 625 626 627 628 632 633\n",
            " 635 636 637 638 643 644 645 647 648 652 653 654 659 661 665 666 668 671\n",
            " 675 677 679 681 682 684 686 687 688 689 690 693 694 698 699 700 702 705\n",
            " 706 708 709 712 713 714 715 716 719 728 729 734 735 736 738 740 742 745\n",
            " 746 748 751 754 756 760 766 768 771 772 774 777 779 780 781 792 793 794\n",
            " 795 799 800 802 803 804 807 812 814 819 821 823 825 826 829 830 831 832\n",
            " 833 834 835 836 837 839 841 843 844 845 846 847 849 851 852 853 855 858\n",
            " 862 866 868 869 873 875 876 879 881 882 883 885]\n",
            "  Test:  index=[  2   3   4   5   8   9  10  12  14  16  19  20  22  23  25  26  29  33\n",
            "  38  39  40  42  43  44  47  53  57  61  62  64  65  66  68  75  76  77\n",
            "  78  79  80  83  84  85  86  87  89  95  98 100 110 113 114 115 116 117\n",
            " 118 121 124 125 126 127 129 132 133 135 136 138 139 142 145 146 147 150\n",
            " 152 153 156 157 159 160 161 163 164 165 166 167 169 170 173 175 176 178\n",
            " 179 183 185 187 188 191 193 194 197 198 199 201 202 203 205 208 212 213\n",
            " 216 217 218 219 221 222 225 230 231 234 235 237 238 242 244 245 246 249\n",
            " 251 252 253 256 261 262 263 264 267 272 273 274 278 279 281 284 286 287\n",
            " 288 289 290 294 295 296 304 307 308 309 310 312 315 316 318 320 321 324\n",
            " 326 327 333 334 335 337 339 340 344 345 347 352 355 360 361 362 363 365\n",
            " 367 369 371 374 375 378 380 383 384 385 389 390 392 395 396 397 400 401\n",
            " 404 406 408 409 412 414 418 420 421 423 424 425 426 428 430 432 433 435\n",
            " 436 438 439 440 443 444 445 447 448 453 454 458 462 464 466 467 469 473\n",
            " 475 477 478 480 481 482 485 486 494 498 499 500 501 503 505 508 509 512\n",
            " 517 520 521 522 523 525 527 528 530 531 532 536 537 538 543 545 547 549\n",
            " 551 552 553 554 555 557 558 561 562 563 564 565 568 571 576 580 582 584\n",
            " 586 587 589 590 592 598 599 600 604 605 607 608 609 610 611 613 614 619\n",
            " 622 629 630 631 634 639 640 641 642 646 649 650 651 655 656 657 658 660\n",
            " 662 663 664 667 669 670 672 673 674 676 678 680 683 685 691 692 695 696\n",
            " 697 701 703 704 707 710 711 717 718 720 721 722 723 724 725 726 727 730\n",
            " 731 732 733 737 739 741 743 744 747 749 750 752 753 755 757 758 759 761\n",
            " 762 763 764 765 767 769 770 773 775 776 778 782 783 784 785 786 787 788\n",
            " 789 790 791 796 797 798 801 805 806 808 809 810 811 813 815 816 817 818\n",
            " 820 822 824 827 828 838 840 842 848 850 854 856 857 859 860 861 863 864\n",
            " 865 867 870 871 872 874 877 878 880 884 886]\n"
          ]
        }
      ],
      "source": [
        "from sklearn.model_selection import RepeatedKFold\n",
        "rkf = RepeatedKFold(n_splits=2, n_repeats=2, random_state=2652124)\n",
        "rkf.get_n_splits(X, y)\n",
        "for i, (train_index, test_index) in enumerate(rkf.split(X)):\n",
        "    \n",
        "    print(f\"Fold {i}:\")\n",
        "    print(f\"  Train: index={train_index}\")\n",
        "    print(f\"  Test:  index={test_index}\")\n",
        "\n"
      ]
    },
    {
      "cell_type": "markdown",
      "id": "YpjWxqxQYLlX",
      "metadata": {
        "id": "YpjWxqxQYLlX"
      },
      "source": [
        "### KNN"
      ]
    },
    {
      "cell_type": "code",
      "execution_count": 12,
      "id": "9jci6fAz-0As",
      "metadata": {
        "id": "9jci6fAz-0As"
      },
      "outputs": [],
      "source": [
        "# from sklearn.neighbors import KNeighborsClassifier\n",
        "# from sklearn.model_selection import RepeatedKFold\n",
        "# from sklearn.naive_bayes import GaussianNB\n",
        "# from sklearn.svm import SVC\n",
        "# from sklearn.model_selection import GridSearchCV\n",
        "\n",
        "\n",
        "\n",
        "# from sklearn.metrics import accuracy_score\n",
        "\n",
        "# # Initialize Repeated K-Fold Cross-Validation\n",
        "# rkf = RepeatedKFold(n_splits=5, n_repeats=3, random_state=2652124)  # Adjusted to 5 splits and 3 repeats for better evaluation\n",
        "# rkf.get_n_splits(X, y)\n",
        "\n",
        "# # Initialize KNN\n",
        "# # # model = KNeighborsClassifier(n_neighbors=5)\n",
        "# model = GaussianNB()\n",
        "# param_grid = {\n",
        "#     'var_smoothing': [1e-9, 1e-8, 1e-7, 1e-6, 1e-5]  # Common range for variance smoothing\n",
        "# }\n",
        "# grid_search = GridSearchCV(estimator=model, param_grid = param_grid, cv=5, scoring='f1')\n",
        "# # svc = svm.SVC()\n",
        "# # model = SVC()\n",
        "\n",
        "# sum = 0\n",
        "# # Perform K-Fold Cross-Validation\n",
        "# for i, (train_index, test_index) in enumerate(rkf.split(X)):\n",
        "    \n",
        "#     # Split data for the current fold\n",
        "#     X_train, X_test = X.iloc[train_index], X.iloc[test_index]\n",
        "#     y_train, y_test = y.iloc[train_index], y.iloc[test_index]\n",
        "\n",
        "#     # Train the model\n",
        "#     grid_search.fit(X_train, y_train)\n",
        "\n",
        "#     # Make predictions\n",
        "#     y_pred = model.predict(X_test)\n",
        "\n",
        "#     # Calculate accuracy for this fold\n",
        "#     accuracy = accuracy_score(y_test, y_pred)\n",
        "#     sum += accuracy\n",
        "#     # print(f\"Fold {i + 1}: Accuracy = {accuracy:.2f}\")\n",
        "# print(f\"Average Accuracy {sum/15}\")\n"
      ]
    },
    {
      "cell_type": "code",
      "execution_count": 13,
      "id": "7f75c53d",
      "metadata": {},
      "outputs": [
        {
          "name": "stdout",
          "output_type": "stream",
          "text": [
            "accuracy: 0.7640449438202247\n"
          ]
        }
      ],
      "source": [
        "from sklearn.model_selection import GridSearchCV\n",
        "from sklearn.model_selection import RandomizedSearchCV\n",
        "from sklearn.svm import SVC\n",
        "\n",
        "model = SVC()\n",
        "param_grid = {\n",
        "    'C': [0.1, 1],                   # Regularization parameter\n",
        "    'kernel': ['linear', 'rbf',],      # Different kernels to try\n",
        "    'gamma': ['scale', 'auto'],  # Kernel coefficient\n",
        "    'degree': [2, 3]                       # Only relevant for 'poly' kernel\n",
        "}\n",
        "# random_search = RandomizedSearchCV()\n",
        "grid_search = GridSearchCV(estimator=model, param_grid = param_grid, cv=5, scoring='accuracy')\n",
        "grid_search.fit(X_train, y_train, )\n",
        "y_pred = grid_search.predict(X_test)\n",
        "# model.fit(X_train, y_train)\n",
        "# y_pred = model.predict(X_test)\n",
        "accuracy = accuracy_score(y_test, y_pred)\n",
        "print(f\"accuracy: {accuracy}\")\n"
      ]
    },
    {
      "cell_type": "markdown",
      "id": "gUDxqCGtYO_6",
      "metadata": {
        "id": "gUDxqCGtYO_6"
      },
      "source": [
        "## Naive Bayes\n"
      ]
    },
    {
      "cell_type": "code",
      "execution_count": 14,
      "id": "76PSyTjMYSMT",
      "metadata": {
        "id": "76PSyTjMYSMT"
      },
      "outputs": [
        {
          "name": "stdout",
          "output_type": "stream",
          "text": [
            "Accuracy of the logistic regression model: 0.7415730337078652\n"
          ]
        }
      ],
      "source": [
        "from sklearn.naive_bayes import GaussianNB\n",
        "NB = GaussianNB()\n",
        "NB.fit(X_train, y_train)\n",
        "y_pred = NB.predict(X_test)\n",
        "accuracy = accuracy_score(y_test, y_pred)\n",
        "print(f\"Accuracy of the logistic regression model: {accuracy}\")\n",
        "\n"
      ]
    },
    {
      "cell_type": "markdown",
      "id": "wNf6KgufYVOt",
      "metadata": {
        "id": "wNf6KgufYVOt"
      },
      "source": [
        "## SVM"
      ]
    },
    {
      "cell_type": "code",
      "execution_count": 15,
      "id": "3wyuiuqBYTKa",
      "metadata": {
        "id": "3wyuiuqBYTKa"
      },
      "outputs": [
        {
          "name": "stdout",
          "output_type": "stream",
          "text": [
            "Accuracy of the logistic regression model: 0.6685393258426966\n"
          ]
        }
      ],
      "source": [
        "from sklearn.svm import SVC\n",
        "NB = SVC()\n",
        "NB.fit(X_train, y_train)\n",
        "y_pred = NB.predict(X_test)\n",
        "accuracy = accuracy_score(y_test, y_pred)\n",
        "print(f\"Accuracy of the logistic regression model: {accuracy}\")"
      ]
    },
    {
      "cell_type": "markdown",
      "id": "0Ua13QvYdp2B",
      "metadata": {
        "id": "0Ua13QvYdp2B"
      },
      "source": [
        "---"
      ]
    },
    {
      "cell_type": "markdown",
      "id": "I0m93dgDdeni",
      "metadata": {
        "id": "I0m93dgDdeni"
      },
      "source": [
        "### PART 4 (You can stop here)\n",
        "\n",
        "#### How close did we get ?\n",
        "\n",
        "| **Task**          | **Metric**         | **When to Use**                                                |\n",
        "|--------------------|--------------------|----------------------------------------------------------------|\n",
        "| Classification     | Accuracy           | Balanced datasets, overall performance.                        |\n",
        "| Classification     | Precision/Recall   | Imbalanced datasets or focus on specific outcomes.             |\n",
        "| Classification     | F1-Score           | When balance between precision and recall is needed.           |\n",
        "| Classification     | ROC-AUC            | Evaluating the model’s ranking performance over thresholds.     |\n",
        "| Regression         | MAE                | Interpretability, less sensitive to outliers.                  |\n",
        "| Regression         | MSE/RMSE           | Penalizing large errors, sensitive to outliers.                |\n",
        "| Regression         | R²                 | Overall model fit and explained variance.                      |\n",
        "\n",
        "\n"
      ]
    },
    {
      "cell_type": "markdown",
      "id": "azZds1LhfrXw",
      "metadata": {
        "id": "azZds1LhfrXw"
      },
      "source": [
        "Which model got the most survived right?\n",
        "\n",
        "Which model got the most not survided right?\n",
        "\n",
        "Evaluate Logistic Regression, KNN, Naive-Bayes and SVM.\n",
        "\n",
        "Evaluating for the sake of this exercise means performing all of these:  confusion_matrix, precision_score, recall_score, f1_score and understanding what it means.\n",
        "\n",
        "[ROC Explanation](https://developers.google.com/machine-learning/crash-course/classification/roc-and-auc)\n"
      ]
    },
    {
      "cell_type": "code",
      "execution_count": 16,
      "id": "wdOiggVYf1OW",
      "metadata": {
        "colab": {
          "base_uri": "https://localhost:8080/",
          "height": 564
        },
        "id": "wdOiggVYf1OW",
        "outputId": "da643586-d02a-4570-8ad1-edcd62246df7"
      },
      "outputs": [
        {
          "data": {
            "image/png": "[encoded data removed]",
            "text/plain": [
              "<Figure size 800x600 with 2 Axes>"
            ]
          },
          "metadata": {},
          "output_type": "display_data"
        }
      ],
      "source": [
        "from sklearn.metrics import confusion_matrix, precision_score, recall_score, f1_score, roc_auc_score\n",
        "import seaborn as sns\n",
        "import matplotlib.pyplot as plt\n",
        "\n",
        "# Confusion Matrix\n",
        "cm = confusion_matrix(y_test, y_pred)\n",
        "plt.figure(figsize=(8, 6))\n",
        "sns.heatmap(cm, annot=True, fmt='d', cmap='Blues',\n",
        "            xticklabels=['Predicted survived', 'Predicted not survived'],\n",
        "            yticklabels=['Actual survived', 'Actual not survived'])\n",
        "plt.title('Confusion Matrix')\n",
        "plt.xlabel('Predicted')\n",
        "plt.ylabel('Actual')\n",
        "plt.show()\n"
      ]
    },
    {
      "cell_type": "code",
      "execution_count": null,
      "id": "9e2f8ff8",
      "metadata": {},
      "outputs": [],
      "source": []
    },
    {
      "cell_type": "code",
      "execution_count": 17,
      "id": "anqtQyqGgjNH",
      "metadata": {
        "id": "anqtQyqGgjNH"
      },
      "outputs": [
        {
          "name": "stdout",
          "output_type": "stream",
          "text": [
            "Precision: 0.65\n",
            "Recall: 0.99\n",
            "F1-Score: 0.79\n",
            "ROC AUC Score not available. The model doesn't provide probability estimates.\n"
          ]
        }
      ],
      "source": [
        "TP = cm[0][0]\n",
        "FP = cm[1][0]\n",
        "TN = cm[1][1]\n",
        "FN = cm[0][1]\n",
        "# Precision, Recall, F1-Score\n",
        "precision = TP / (TP + FP)\n",
        "recall = TP / (TP + FN)\n",
        "f1 = 2 * precision * recall / (precision + recall)\n",
        "\n",
        "print(f\"Precision: {precision:.2f}\")\n",
        "print(f\"Recall: {recall:.2f}\")\n",
        "print(f\"F1-Score: {f1:.2f}\")\n",
        "\n",
        "# ROC AUC Score (if your model provides probabilities)\n",
        "try:\n",
        "    y_pred_proba = model.predict_proba(X_test)[:, 1]  # Probabilities for the positive class\n",
        "    roc_auc = roc_auc_score(y_test, y_pred_proba)\n",
        "    print(f\"ROC AUC Score: {roc_auc:.2f}\")\n",
        "except AttributeError:\n",
        "    print(\"ROC AUC Score not available. The model doesn't provide probability estimates.\")"
      ]
    }
  ],
  "metadata": {
    "colab": {
      "include_colab_link": true,
      "provenance": []
    },
    "kernelspec": {
      "display_name": "Python 3",
      "language": "python",
      "name": "python3"
    },
    "language_info": {
      "codemirror_mode": {
        "name": "ipython",
        "version": 3
      },
      "file_extension": ".py",
      "mimetype": "text/x-python",
      "name": "python",
      "nbconvert_exporter": "python",
      "pygments_lexer": "ipython3",
      "version": "3.11.9"
    }
  },
  "nbformat": 4,
  "nbformat_minor": 5
}
