{
  "cells": [
    {
      "cell_type": "markdown",
      "metadata": {
        "id": "view-in-github",
        "colab_type": "text"
      },
      "source": [
        "<a href=\"https://colab.research.google.com/github/bernaprioste1704/6-7-edition/blob/main/heatmaptraining.ipynb\" target=\"_parent\"><img src=\"https://colab.research.google.com/assets/colab-badge.svg\" alt=\"Open In Colab\"/></a>"
      ]
    },
    {
      "cell_type": "code",
      "execution_count": null,
      "metadata": {
        "id": "SS7DO6jgkz_3"
      },
      "outputs": [],
      "source": [
        "timport pandas as pd\n",
        "import torch\n",
        "import torch.nn as nn\n",
        "import numpy as np\n",
        "import torchvision.transforms as transforms\n",
        "import torch.utils.data as data"
      ]
    },
    {
      "cell_type": "markdown",
      "source": [],
      "metadata": {
        "id": "PlsmIKMNliZz"
      }
    },
    {
      "cell_type": "code",
      "source": [
        "from google.colab import drive\n",
        "drive.mount('/content/drive')"
      ],
      "metadata": {
        "id": "m8aPDoymljGK",
        "outputId": "85609d58-245b-4b55-9fb2-636e5c169046",
        "colab": {
          "base_uri": "https://localhost:8080/"
        }
      },
      "execution_count": null,
      "outputs": [
        {
          "output_type": "stream",
          "name": "stdout",
          "text": [
            "Mounted at /content/drive\n"
          ]
        }
      ]
    },
    {
      "cell_type": "markdown",
      "metadata": {
        "id": "eqKY-MDOkz_7"
      },
      "source": [
        "## Upload dataset, Remove nulls"
      ]
    },
    {
      "cell_type": "code",
      "execution_count": null,
      "metadata": {
        "id": "IA2y3IIykz_9"
      },
      "outputs": [],
      "source": [
        "df = pd.read_pickle('drive/MyDrive/dataset22462_augmented.pkl')\n",
        "# df = df.dropna().drop(['NAME','Scale','Activity','Category','ID'], axis=1)\n",
        "#convert the columns upper neck_X upper neck_Y  head top_X  head top_Y to int64\n",
        "df = df.astype({'upper neck_X': 'int64', 'upper neck_Y': 'int64', 'head top_X': 'int64', 'head top_Y': 'int64'})"
      ]
    },
    {
      "cell_type": "code",
      "source": [
        "df = df[[\"image\",\"r wrist_X\", \"r wrist_Y\"]]"
      ],
      "metadata": {
        "id": "ns0M7PZ1LNAU"
      },
      "execution_count": null,
      "outputs": []
    },
    {
      "cell_type": "code",
      "execution_count": null,
      "metadata": {
        "id": "i7X1J1oikz_-",
        "outputId": "40abd0d3-9668-4d4a-aeb3-c022ac283f1d",
        "colab": {
          "base_uri": "https://localhost:8080/"
        }
      },
      "outputs": [
        {
          "output_type": "stream",
          "name": "stdout",
          "text": [
            "<class 'pandas.core.frame.DataFrame'>\n",
            "RangeIndex: 22346 entries, 0 to 22345\n",
            "Data columns (total 3 columns):\n",
            " #   Column     Non-Null Count  Dtype  \n",
            "---  ------     --------------  -----  \n",
            " 0   image      22346 non-null  object \n",
            " 1   r wrist_X  22346 non-null  float64\n",
            " 2   r wrist_Y  22346 non-null  float64\n",
            "dtypes: float64(2), object(1)\n",
            "memory usage: 523.9+ KB\n"
          ]
        }
      ],
      "source": [
        "df.info()"
      ]
    },
    {
      "cell_type": "markdown",
      "metadata": {
        "id": "aEFp9j9yk0AA"
      },
      "source": [
        "## Contruct the Dataset Object"
      ]
    },
    {
      "cell_type": "code",
      "execution_count": null,
      "metadata": {
        "id": "GC50IUwok0AB"
      },
      "outputs": [],
      "source": [
        "keypoint_columns = [col for col in df.columns if col != 'image'] #todas as coluunas\n",
        "keypoints = df[keypoint_columns].values.astype(np.float32)\n",
        "\n",
        "keypoints = keypoints / 224.0 #normaliza os pontos para 0-1\n",
        "\n",
        "transform = transforms.Compose([\n",
        "    transforms.ToTensor(),\n",
        "    transforms.Normalize(mean=[0.5, 0.5, 0.5], std=[0.5, 0.5, 0.5])\n",
        "])\n",
        "\n",
        "class PoseDataset(data.Dataset):\n",
        "    def __init__(self, df):\n",
        "        self.df = df\n",
        "        self.images = df['image'].tolist()\n",
        "        self.keypoints = keypoints\n",
        "    def __len__(self):\n",
        "        return len(self.df)\n",
        "\n",
        "    def __getitem__(self, idx):\n",
        "        img_array = self.images[idx]\n",
        "        img_tensor = transform(img_array) #converter para pythorch\n",
        "        kp_tensor = torch.tensor(self.keypoints[idx])\n",
        "        return img_tensor, kp_tensor"
      ]
    },
    {
      "cell_type": "markdown",
      "metadata": {
        "id": "Fk8Iftozk0AB"
      },
      "source": [
        "## Spliting for test and train"
      ]
    },
    {
      "cell_type": "code",
      "execution_count": null,
      "metadata": {
        "id": "y59nYLhSk0AD"
      },
      "outputs": [],
      "source": [
        "dataset = PoseDataset(df)\n",
        "train_size = int(0.2 * len(dataset))\n",
        "val_size = len(dataset) -train_size\n",
        "train_dataset, val_dataset = torch.utils.data.random_split(dataset, [train_size, val_size])\n",
        "\n",
        "train_loader = data.DataLoader(train_dataset, batch_size=64, shuffle=True)\n",
        "val_loader = data.DataLoader(val_dataset, batch_size=64, shuffle=False)"
      ]
    },
    {
      "cell_type": "markdown",
      "metadata": {
        "id": "DEDrLq_sk0AE"
      },
      "source": [
        "## Defining the model"
      ]
    },
    {
      "cell_type": "code",
      "source": [
        "class KeypointCNN(nn.Module):\n",
        "    def __init__(self):\n",
        "        super(KeypointCNN, self).__init__()\n",
        "\n",
        "        # Feature extractor (backbone)\n",
        "        self.conv1 = nn.Conv2d(3, 32, kernel_size=3, padding=1)\n",
        "        self.conv2 = nn.Conv2d(32, 64, kernel_size=3, padding=1)\n",
        "        self.conv3 = nn.Conv2d(64, 128, kernel_size=3, padding=1)\n",
        "        self.conv4 = nn.Conv2d(128, 256, kernel_size=3, padding=1)\n",
        "\n",
        "        self.pool = nn.MaxPool2d(2, 2)\n",
        "\n",
        "        # Upsampling layers to generate heatmap\n",
        "        self.upconv1 = nn.ConvTranspose2d(256, 128, kernel_size=3, stride=2, padding=1, output_padding=1)\n",
        "        self.upconv2 = nn.ConvTranspose2d(128, 64, kernel_size=3, stride=2, padding=1, output_padding=1)\n",
        "        self.upconv3 = nn.ConvTranspose2d(64, 32, kernel_size=3, stride=2, padding=1, output_padding=1)\n",
        "\n",
        "        # Final layer for heatmap (1 channel for single joint)\n",
        "        self.heatmap = nn.Conv2d(32, 1, kernel_size=1)\n",
        "\n",
        "    def forward(self, x):\n",
        "        # Feature extraction\n",
        "        x = F.relu(self.conv1(x))\n",
        "        x = self.pool(F.relu(self.conv2(x)))\n",
        "        x = self.pool(F.relu(self.conv3(x)))\n",
        "        x = self.pool(F.relu(self.conv4(x)))\n",
        "\n",
        "        # Upsampling to restore original spatial resolution\n",
        "        x = F.relu(self.upconv1(x))\n",
        "        x = F.relu(self.upconv2(x))\n",
        "        x = F.relu(self.upconv3(x))\n",
        "\n",
        "        # Generate heatmap (probability distribution)\n",
        "        heatmap = torch.sigmoid(self.heatmap(x))  # Shape: (B, 1, 224, 224)\n",
        "        return heatmap"
      ],
      "metadata": {
        "id": "JUNNuwFQsakA"
      },
      "execution_count": null,
      "outputs": []
    },
    {
      "cell_type": "code",
      "source": [
        "import torch\n",
        "import torch.nn.functional as F\n",
        "\n",
        "def generate_heatmap(keypoints, img_size=224, sigma=3):\n",
        "    \"\"\"\n",
        "    Converts keypoint coordinates (x, y) into a heatmap.\n",
        "\n",
        "    Args:\n",
        "        keypoints: Tensor of shape (batch_size, 32) where (x1, y1, x2, y2, ..., x16, y16)\n",
        "        img_size: Size of the output heatmap\n",
        "        sigma: Standard deviation for Gaussian heatmaps\n",
        "\n",
        "    Returns:\n",
        "        A heatmap of shape (batch_size, 1, img_size, img_size)\n",
        "    \"\"\"\n",
        "    batch_size = keypoints.shape[0]\n",
        "    heatmaps = torch.zeros((batch_size, 1, img_size, img_size), device=keypoints.device)\n",
        "\n",
        "    for b in range(batch_size):\n",
        "        for j in range(0, keypoints.shape[1], 2):  # Iterate through (x, y) pairs\n",
        "            x, y = keypoints[b, j], keypoints[b, j+1]\n",
        "\n",
        "            if x < 0 or y < 0:  # Skip invalid keypoints\n",
        "                continue\n",
        "\n",
        "            x, y = int(x), int(y)\n",
        "\n",
        "            # Create a Gaussian heatmap\n",
        "            grid_x, grid_y = torch.meshgrid(torch.arange(img_size, device=keypoints.device),\n",
        "                                            torch.arange(img_size, device=keypoints.device),\n",
        "                                            indexing='ij')\n",
        "            heatmap = torch.exp(-((grid_x - x)**2 + (grid_y - y)**2) / (2 * sigma**2))\n",
        "\n",
        "            heatmaps[b, 0] = torch.maximum(heatmaps[b, 0], heatmap)  # Max over multiple joints\n",
        "\n",
        "    return heatmaps\n"
      ],
      "metadata": {
        "id": "hOd0KdUWskPT"
      },
      "execution_count": null,
      "outputs": []
    },
    {
      "cell_type": "code",
      "source": [
        "import torch.nn.functional as F\n",
        "\n",
        "def heatmap_loss(pred, target):\n",
        "    \"\"\"\n",
        "    Compute the loss between predicted and ground truth heatmaps.\n",
        "    Uses Mean Squared Error (MSE) loss, a common choice for heatmaps.\n",
        "    \"\"\"\n",
        "    return F.mse_loss(pred, target)  # Smooth heatmap regression\n"
      ],
      "metadata": {
        "id": "Ba4IhLhXaYZj"
      },
      "execution_count": null,
      "outputs": []
    },
    {
      "cell_type": "code",
      "source": [
        "\n",
        "model = KeypointCNN().to(\"cuda\")\n",
        "criterion = nn.SmoothL1Loss()\n",
        "optimizer = torch.optim.Adam(model.parameters(), lr=0.0012, weight_decay=1e-5)\n",
        "\n",
        "# optimizer = torch.optim.Adam(model.parameters(), lr=1e-4)\n",
        "epochs = 20\n",
        "\n",
        "for epoch in range(epochs):\n",
        "    model.train()  # Set to training mode\n",
        "    train_loss = 0\n",
        "\n",
        "    for images, heatmaps in train_loader:\n",
        "        images, heatmaps = images.to(\"cuda\"), heatmaps.to(\"cuda\")\n",
        "        optimizer.zero_grad()\n",
        "\n",
        "        pred_heatmap = model(images)\n",
        "        loss = heatmap_loss(pred_heatmap, heatmaps)\n",
        "\n",
        "        loss.backward()\n",
        "        optimizer.step()\n",
        "\n",
        "        train_loss += loss.item()  # Accumulate training loss\n",
        "\n",
        "    # Compute average training loss\n",
        "    train_loss /= len(train_loader)\n",
        "\n",
        "    # Validation phase\n",
        "    model.eval()  # Set to evaluation mode\n",
        "    val_loss = 0\n",
        "\n",
        "    with torch.no_grad():\n",
        "        for images, heatmaps in val_loader:\n",
        "            images, heatmaps = images.to(\"cuda\"), heatmaps.to(\"cuda\")\n",
        "            heatmaps = generate_heatmap(keypoints)\n",
        "            pred_heatmap = model(images)\n",
        "            loss = heatmap_loss(pred_heatmap, heatmaps)\n",
        "\n",
        "            val_loss += loss.item()  # Accumulate validation loss\n",
        "\n",
        "    # Compute average validation loss\n",
        "    val_loss /= len(val_loader)\n",
        "\n",
        "    print(f\"Epoch {epoch+1}/{epochs} - Train Loss: {train_loss:.4f} - Val Loss: {val_loss:.4f}\")"
      ],
      "metadata": {
        "id": "rOZ3yHbelSWw",
        "colab": {
          "base_uri": "https://localhost:8080/",
          "height": 411
        },
        "outputId": "ede12890-7a6a-4276-a19b-3e0a6b3342dd"
      },
      "execution_count": null,
      "outputs": [
        {
          "output_type": "stream",
          "name": "stderr",
          "text": [
            "<ipython-input-10-b938a293598f>:8: UserWarning: Using a target size (torch.Size([64, 2])) that is different to the input size (torch.Size([64, 1, 224, 224])). This will likely lead to incorrect results due to broadcasting. Please ensure they have the same size.\n",
            "  return F.mse_loss(pred, target)  # Smooth heatmap regression\n"
          ]
        },
        {
          "output_type": "error",
          "ename": "RuntimeError",
          "evalue": "The size of tensor a (224) must match the size of tensor b (2) at non-singleton dimension 3",
          "traceback": [
            "\u001b[0;31m---------------------------------------------------------------------------\u001b[0m",
            "\u001b[0;31mRuntimeError\u001b[0m                              Traceback (most recent call last)",
            "\u001b[0;32m<ipython-input-11-62881a1a0004>\u001b[0m in \u001b[0;36m<cell line: 0>\u001b[0;34m()\u001b[0m\n\u001b[1;32m     15\u001b[0m \u001b[0;34m\u001b[0m\u001b[0m\n\u001b[1;32m     16\u001b[0m         \u001b[0mpred_heatmap\u001b[0m \u001b[0;34m=\u001b[0m \u001b[0mmodel\u001b[0m\u001b[0;34m(\u001b[0m\u001b[0mimages\u001b[0m\u001b[0;34m)\u001b[0m\u001b[0;34m\u001b[0m\u001b[0;34m\u001b[0m\u001b[0m\n\u001b[0;32m---> 17\u001b[0;31m         \u001b[0mloss\u001b[0m \u001b[0;34m=\u001b[0m \u001b[0mheatmap_loss\u001b[0m\u001b[0;34m(\u001b[0m\u001b[0mpred_heatmap\u001b[0m\u001b[0;34m,\u001b[0m \u001b[0mheatmaps\u001b[0m\u001b[0;34m)\u001b[0m\u001b[0;34m\u001b[0m\u001b[0;34m\u001b[0m\u001b[0m\n\u001b[0m\u001b[1;32m     18\u001b[0m \u001b[0;34m\u001b[0m\u001b[0m\n\u001b[1;32m     19\u001b[0m         \u001b[0mloss\u001b[0m\u001b[0;34m.\u001b[0m\u001b[0mbackward\u001b[0m\u001b[0;34m(\u001b[0m\u001b[0;34m)\u001b[0m\u001b[0;34m\u001b[0m\u001b[0;34m\u001b[0m\u001b[0m\n",
            "\u001b[0;32m<ipython-input-10-b938a293598f>\u001b[0m in \u001b[0;36mheatmap_loss\u001b[0;34m(pred, target)\u001b[0m\n\u001b[1;32m      6\u001b[0m     \u001b[0mUses\u001b[0m \u001b[0mMean\u001b[0m \u001b[0mSquared\u001b[0m \u001b[0mError\u001b[0m \u001b[0;34m(\u001b[0m\u001b[0mMSE\u001b[0m\u001b[0;34m)\u001b[0m \u001b[0mloss\u001b[0m\u001b[0;34m,\u001b[0m \u001b[0ma\u001b[0m \u001b[0mcommon\u001b[0m \u001b[0mchoice\u001b[0m \u001b[0;32mfor\u001b[0m \u001b[0mheatmaps\u001b[0m\u001b[0;34m.\u001b[0m\u001b[0;34m\u001b[0m\u001b[0;34m\u001b[0m\u001b[0m\n\u001b[1;32m      7\u001b[0m     \"\"\"\n\u001b[0;32m----> 8\u001b[0;31m     \u001b[0;32mreturn\u001b[0m \u001b[0mF\u001b[0m\u001b[0;34m.\u001b[0m\u001b[0mmse_loss\u001b[0m\u001b[0;34m(\u001b[0m\u001b[0mpred\u001b[0m\u001b[0;34m,\u001b[0m \u001b[0mtarget\u001b[0m\u001b[0;34m)\u001b[0m  \u001b[0;31m# Smooth heatmap regression\u001b[0m\u001b[0;34m\u001b[0m\u001b[0;34m\u001b[0m\u001b[0m\n\u001b[0m",
            "\u001b[0;32m/usr/local/lib/python3.11/dist-packages/torch/nn/functional.py\u001b[0m in \u001b[0;36mmse_loss\u001b[0;34m(input, target, size_average, reduce, reduction)\u001b[0m\n\u001b[1;32m   3789\u001b[0m         \u001b[0mreduction\u001b[0m \u001b[0;34m=\u001b[0m \u001b[0m_Reduction\u001b[0m\u001b[0;34m.\u001b[0m\u001b[0mlegacy_get_string\u001b[0m\u001b[0;34m(\u001b[0m\u001b[0msize_average\u001b[0m\u001b[0;34m,\u001b[0m \u001b[0mreduce\u001b[0m\u001b[0;34m)\u001b[0m\u001b[0;34m\u001b[0m\u001b[0;34m\u001b[0m\u001b[0m\n\u001b[1;32m   3790\u001b[0m \u001b[0;34m\u001b[0m\u001b[0m\n\u001b[0;32m-> 3791\u001b[0;31m     \u001b[0mexpanded_input\u001b[0m\u001b[0;34m,\u001b[0m \u001b[0mexpanded_target\u001b[0m \u001b[0;34m=\u001b[0m \u001b[0mtorch\u001b[0m\u001b[0;34m.\u001b[0m\u001b[0mbroadcast_tensors\u001b[0m\u001b[0;34m(\u001b[0m\u001b[0minput\u001b[0m\u001b[0;34m,\u001b[0m \u001b[0mtarget\u001b[0m\u001b[0;34m)\u001b[0m\u001b[0;34m\u001b[0m\u001b[0;34m\u001b[0m\u001b[0m\n\u001b[0m\u001b[1;32m   3792\u001b[0m     return torch._C._nn.mse_loss(\n\u001b[1;32m   3793\u001b[0m         \u001b[0mexpanded_input\u001b[0m\u001b[0;34m,\u001b[0m \u001b[0mexpanded_target\u001b[0m\u001b[0;34m,\u001b[0m \u001b[0m_Reduction\u001b[0m\u001b[0;34m.\u001b[0m\u001b[0mget_enum\u001b[0m\u001b[0;34m(\u001b[0m\u001b[0mreduction\u001b[0m\u001b[0;34m)\u001b[0m\u001b[0;34m\u001b[0m\u001b[0;34m\u001b[0m\u001b[0m\n",
            "\u001b[0;32m/usr/local/lib/python3.11/dist-packages/torch/functional.py\u001b[0m in \u001b[0;36mbroadcast_tensors\u001b[0;34m(*tensors)\u001b[0m\n\u001b[1;32m     74\u001b[0m     \u001b[0;32mif\u001b[0m \u001b[0mhas_torch_function\u001b[0m\u001b[0;34m(\u001b[0m\u001b[0mtensors\u001b[0m\u001b[0;34m)\u001b[0m\u001b[0;34m:\u001b[0m\u001b[0;34m\u001b[0m\u001b[0;34m\u001b[0m\u001b[0m\n\u001b[1;32m     75\u001b[0m         \u001b[0;32mreturn\u001b[0m \u001b[0mhandle_torch_function\u001b[0m\u001b[0;34m(\u001b[0m\u001b[0mbroadcast_tensors\u001b[0m\u001b[0;34m,\u001b[0m \u001b[0mtensors\u001b[0m\u001b[0;34m,\u001b[0m \u001b[0;34m*\u001b[0m\u001b[0mtensors\u001b[0m\u001b[0;34m)\u001b[0m\u001b[0;34m\u001b[0m\u001b[0;34m\u001b[0m\u001b[0m\n\u001b[0;32m---> 76\u001b[0;31m     \u001b[0;32mreturn\u001b[0m \u001b[0m_VF\u001b[0m\u001b[0;34m.\u001b[0m\u001b[0mbroadcast_tensors\u001b[0m\u001b[0;34m(\u001b[0m\u001b[0mtensors\u001b[0m\u001b[0;34m)\u001b[0m  \u001b[0;31m# type: ignore[attr-defined]\u001b[0m\u001b[0;34m\u001b[0m\u001b[0;34m\u001b[0m\u001b[0m\n\u001b[0m\u001b[1;32m     77\u001b[0m \u001b[0;34m\u001b[0m\u001b[0m\n\u001b[1;32m     78\u001b[0m \u001b[0;34m\u001b[0m\u001b[0m\n",
            "\u001b[0;31mRuntimeError\u001b[0m: The size of tensor a (224) must match the size of tensor b (2) at non-singleton dimension 3"
          ]
        }
      ]
    },
    {
      "cell_type": "code",
      "source": [],
      "metadata": {
        "id": "7w7lOAWszU8B"
      },
      "execution_count": null,
      "outputs": []
    },
    {
      "cell_type": "markdown",
      "metadata": {
        "id": "W_5nOi30k0AF"
      },
      "source": [
        "## Training the model"
      ]
    },
    {
      "cell_type": "code",
      "execution_count": null,
      "metadata": {
        "id": "6_wVmFY3k0AF"
      },
      "outputs": [],
      "source": [
        "\n"
      ]
    },
    {
      "cell_type": "code",
      "execution_count": null,
      "metadata": {
        "id": "kQXvpV4zk0AF",
        "outputId": "e06646f0-e84f-427d-9300-ff6319a3663b",
        "colab": {
          "base_uri": "https://localhost:8080/"
        }
      },
      "outputs": [
        {
          "output_type": "stream",
          "name": "stdout",
          "text": [
            "Epoch [1/200], Train Loss (SmoothL1): 0.0231, Train Loss (MSE): 0.0501\n",
            "Epoch [2/200], Train Loss (SmoothL1): 0.0107, Train Loss (MSE): 0.0254\n",
            "Epoch [3/200], Train Loss (SmoothL1): 0.0101, Train Loss (MSE): 0.0241\n",
            "Epoch [4/200], Train Loss (SmoothL1): 0.0097, Train Loss (MSE): 0.0233\n",
            "Epoch [5/200], Train Loss (SmoothL1): 0.0094, Train Loss (MSE): 0.0227\n",
            "Epoch [6/200], Train Loss (SmoothL1): 0.0093, Train Loss (MSE): 0.0225\n",
            "Epoch [7/200], Train Loss (SmoothL1): 0.0092, Train Loss (MSE): 0.0222\n",
            "Epoch [8/200], Train Loss (SmoothL1): 0.0090, Train Loss (MSE): 0.0218\n",
            "Epoch [9/200], Train Loss (SmoothL1): 0.0089, Train Loss (MSE): 0.0215\n",
            "Epoch [10/200], Train Loss (SmoothL1): 0.0088, Train Loss (MSE): 0.0212\n",
            "Val mAP: 34162 / 71520 = 0.47766\n",
            "Val Loss (SmoothL1): 0.00781, Val Loss (MSE): 0.01605\n",
            "Epoch [11/200], Train Loss (SmoothL1): 0.0086, Train Loss (MSE): 0.0209\n",
            "Epoch [12/200], Train Loss (SmoothL1): 0.0085, Train Loss (MSE): 0.0206\n",
            "Epoch [13/200], Train Loss (SmoothL1): 0.0086, Train Loss (MSE): 0.0207\n",
            "Epoch [14/200], Train Loss (SmoothL1): 0.0083, Train Loss (MSE): 0.0201\n",
            "Epoch [15/200], Train Loss (SmoothL1): 0.0082, Train Loss (MSE): 0.0198\n",
            "Epoch [16/200], Train Loss (SmoothL1): 0.0080, Train Loss (MSE): 0.0193\n",
            "Epoch [17/200], Train Loss (SmoothL1): 0.0079, Train Loss (MSE): 0.0191\n",
            "Epoch [18/200], Train Loss (SmoothL1): 0.0079, Train Loss (MSE): 0.0191\n",
            "Epoch [19/200], Train Loss (SmoothL1): 0.0077, Train Loss (MSE): 0.0189\n",
            "Epoch [20/200], Train Loss (SmoothL1): 0.0077, Train Loss (MSE): 0.0187\n",
            "Val mAP: 34429 / 71520 = 0.48139\n",
            "Val Loss (SmoothL1): 0.00736, Val Loss (MSE): 0.01515\n",
            "Epoch [21/200], Train Loss (SmoothL1): 0.0075, Train Loss (MSE): 0.0182\n",
            "Epoch [22/200], Train Loss (SmoothL1): 0.0074, Train Loss (MSE): 0.0179\n",
            "Epoch [23/200], Train Loss (SmoothL1): 0.0075, Train Loss (MSE): 0.0184\n",
            "Epoch [24/200], Train Loss (SmoothL1): 0.0074, Train Loss (MSE): 0.0180\n",
            "Epoch [25/200], Train Loss (SmoothL1): 0.0072, Train Loss (MSE): 0.0175\n",
            "Epoch [26/200], Train Loss (SmoothL1): 0.0071, Train Loss (MSE): 0.0174\n",
            "Epoch [27/200], Train Loss (SmoothL1): 0.0073, Train Loss (MSE): 0.0187\n",
            "Epoch [28/200], Train Loss (SmoothL1): 0.0070, Train Loss (MSE): 0.0174\n",
            "Epoch [29/200], Train Loss (SmoothL1): 0.0070, Train Loss (MSE): 0.0171\n",
            "Epoch [30/200], Train Loss (SmoothL1): 0.0068, Train Loss (MSE): 0.0168\n",
            "Val mAP: 38727 / 71520 = 0.54148\n",
            "Val Loss (SmoothL1): 0.00678, Val Loss (MSE): 0.01398\n",
            "Epoch [31/200], Train Loss (SmoothL1): 0.0068, Train Loss (MSE): 0.0167\n",
            "Epoch [32/200], Train Loss (SmoothL1): 0.0066, Train Loss (MSE): 0.0164\n",
            "Epoch [33/200], Train Loss (SmoothL1): 0.0067, Train Loss (MSE): 0.0165\n",
            "Epoch [34/200], Train Loss (SmoothL1): 0.0065, Train Loss (MSE): 0.0161\n",
            "Epoch [35/200], Train Loss (SmoothL1): 0.0065, Train Loss (MSE): 0.0161\n",
            "Epoch [36/200], Train Loss (SmoothL1): 0.0065, Train Loss (MSE): 0.0161\n",
            "Epoch [37/200], Train Loss (SmoothL1): 0.0064, Train Loss (MSE): 0.0159\n",
            "Epoch [38/200], Train Loss (SmoothL1): 0.0063, Train Loss (MSE): 0.0157\n",
            "Epoch [39/200], Train Loss (SmoothL1): 0.0063, Train Loss (MSE): 0.0158\n",
            "Epoch [40/200], Train Loss (SmoothL1): 0.0062, Train Loss (MSE): 0.0155\n",
            "Val mAP: 38121 / 71520 = 0.53301\n",
            "Val Loss (SmoothL1): 0.00677, Val Loss (MSE): 0.01395\n",
            "Epoch [41/200], Train Loss (SmoothL1): 0.0061, Train Loss (MSE): 0.0153\n",
            "Epoch [42/200], Train Loss (SmoothL1): 0.0061, Train Loss (MSE): 0.0153\n",
            "Epoch [43/200], Train Loss (SmoothL1): 0.0061, Train Loss (MSE): 0.0154\n",
            "Epoch [44/200], Train Loss (SmoothL1): 0.0063, Train Loss (MSE): 0.0157\n",
            "Epoch [45/200], Train Loss (SmoothL1): 0.0060, Train Loss (MSE): 0.0151\n",
            "Epoch [46/200], Train Loss (SmoothL1): 0.0060, Train Loss (MSE): 0.0150\n",
            "Epoch [47/200], Train Loss (SmoothL1): 0.0060, Train Loss (MSE): 0.0151\n",
            "Epoch [48/200], Train Loss (SmoothL1): 0.0059, Train Loss (MSE): 0.0149\n",
            "Epoch [49/200], Train Loss (SmoothL1): 0.0059, Train Loss (MSE): 0.0149\n",
            "Epoch [50/200], Train Loss (SmoothL1): 0.0058, Train Loss (MSE): 0.0147\n",
            "Val mAP: 29093 / 71520 = 0.40678\n",
            "Val Loss (SmoothL1): 0.00869, Val Loss (MSE): 0.01791\n",
            "Epoch [51/200], Train Loss (SmoothL1): 0.0059, Train Loss (MSE): 0.0150\n",
            "Epoch [52/200], Train Loss (SmoothL1): 0.0058, Train Loss (MSE): 0.0148\n",
            "Epoch [53/200], Train Loss (SmoothL1): 0.0057, Train Loss (MSE): 0.0146\n",
            "Epoch [54/200], Train Loss (SmoothL1): 0.0057, Train Loss (MSE): 0.0145\n",
            "Epoch [55/200], Train Loss (SmoothL1): 0.0056, Train Loss (MSE): 0.0143\n",
            "Epoch [56/200], Train Loss (SmoothL1): 0.0057, Train Loss (MSE): 0.0145\n",
            "Epoch [57/200], Train Loss (SmoothL1): 0.0056, Train Loss (MSE): 0.0144\n",
            "Epoch [58/200], Train Loss (SmoothL1): 0.0058, Train Loss (MSE): 0.0147\n",
            "Epoch [59/200], Train Loss (SmoothL1): 0.0056, Train Loss (MSE): 0.0143\n",
            "Epoch [60/200], Train Loss (SmoothL1): 0.0055, Train Loss (MSE): 0.0141\n",
            "Val mAP: 39667 / 71520 = 0.55463\n",
            "Val Loss (SmoothL1): 0.00646, Val Loss (MSE): 0.01331\n",
            "Epoch [61/200], Train Loss (SmoothL1): 0.0055, Train Loss (MSE): 0.0140\n",
            "Epoch [62/200], Train Loss (SmoothL1): 0.0054, Train Loss (MSE): 0.0139\n",
            "Epoch [63/200], Train Loss (SmoothL1): 0.0055, Train Loss (MSE): 0.0141\n",
            "Epoch [64/200], Train Loss (SmoothL1): 0.0055, Train Loss (MSE): 0.0141\n",
            "Epoch [65/200], Train Loss (SmoothL1): 0.0055, Train Loss (MSE): 0.0140\n",
            "Epoch [66/200], Train Loss (SmoothL1): 0.0054, Train Loss (MSE): 0.0139\n",
            "Epoch [67/200], Train Loss (SmoothL1): 0.0054, Train Loss (MSE): 0.0138\n",
            "Epoch [68/200], Train Loss (SmoothL1): 0.0054, Train Loss (MSE): 0.0138\n",
            "Epoch [69/200], Train Loss (SmoothL1): 0.0054, Train Loss (MSE): 0.0139\n",
            "Epoch [70/200], Train Loss (SmoothL1): 0.0053, Train Loss (MSE): 0.0136\n",
            "Val mAP: 41641 / 71520 = 0.58223\n",
            "Val Loss (SmoothL1): 0.00614, Val Loss (MSE): 0.01269\n",
            "Epoch [71/200], Train Loss (SmoothL1): 0.0053, Train Loss (MSE): 0.0137\n",
            "Epoch [72/200], Train Loss (SmoothL1): 0.0053, Train Loss (MSE): 0.0137\n",
            "Epoch [73/200], Train Loss (SmoothL1): 0.0053, Train Loss (MSE): 0.0137\n",
            "Epoch [74/200], Train Loss (SmoothL1): 0.0054, Train Loss (MSE): 0.0140\n",
            "Epoch [75/200], Train Loss (SmoothL1): 0.0053, Train Loss (MSE): 0.0137\n",
            "Epoch [76/200], Train Loss (SmoothL1): 0.0052, Train Loss (MSE): 0.0135\n",
            "Epoch [77/200], Train Loss (SmoothL1): 0.0052, Train Loss (MSE): 0.0136\n",
            "Epoch [78/200], Train Loss (SmoothL1): 0.0052, Train Loss (MSE): 0.0135\n",
            "Epoch [79/200], Train Loss (SmoothL1): 0.0052, Train Loss (MSE): 0.0135\n",
            "Epoch [80/200], Train Loss (SmoothL1): 0.0052, Train Loss (MSE): 0.0135\n",
            "Val mAP: 41169 / 71520 = 0.57563\n",
            "Val Loss (SmoothL1): 0.00623, Val Loss (MSE): 0.01285\n",
            "Epoch [81/200], Train Loss (SmoothL1): 0.0051, Train Loss (MSE): 0.0134\n",
            "Epoch [82/200], Train Loss (SmoothL1): 0.0052, Train Loss (MSE): 0.0136\n",
            "Epoch [83/200], Train Loss (SmoothL1): 0.0051, Train Loss (MSE): 0.0134\n",
            "Epoch [84/200], Train Loss (SmoothL1): 0.0052, Train Loss (MSE): 0.0136\n",
            "Epoch [85/200], Train Loss (SmoothL1): 0.0051, Train Loss (MSE): 0.0134\n",
            "Epoch [86/200], Train Loss (SmoothL1): 0.0051, Train Loss (MSE): 0.0134\n",
            "Epoch [87/200], Train Loss (SmoothL1): 0.0051, Train Loss (MSE): 0.0133\n",
            "Epoch [88/200], Train Loss (SmoothL1): 0.0051, Train Loss (MSE): 0.0133\n",
            "Epoch [89/200], Train Loss (SmoothL1): 0.0052, Train Loss (MSE): 0.0135\n",
            "Epoch [90/200], Train Loss (SmoothL1): 0.0051, Train Loss (MSE): 0.0133\n",
            "Val mAP: 41376 / 71520 = 0.57852\n",
            "Val Loss (SmoothL1): 0.00616, Val Loss (MSE): 0.01274\n",
            "Epoch [91/200], Train Loss (SmoothL1): 0.0050, Train Loss (MSE): 0.0132\n",
            "Epoch [92/200], Train Loss (SmoothL1): 0.0050, Train Loss (MSE): 0.0132\n",
            "Epoch [93/200], Train Loss (SmoothL1): 0.0050, Train Loss (MSE): 0.0132\n",
            "Epoch [94/200], Train Loss (SmoothL1): 0.0051, Train Loss (MSE): 0.0132\n",
            "Epoch [95/200], Train Loss (SmoothL1): 0.0050, Train Loss (MSE): 0.0131\n",
            "Epoch [96/200], Train Loss (SmoothL1): 0.0052, Train Loss (MSE): 0.0135\n",
            "Epoch [97/200], Train Loss (SmoothL1): 0.0050, Train Loss (MSE): 0.0132\n",
            "Epoch [98/200], Train Loss (SmoothL1): 0.0050, Train Loss (MSE): 0.0130\n",
            "Epoch [99/200], Train Loss (SmoothL1): 0.0049, Train Loss (MSE): 0.0130\n",
            "Epoch [100/200], Train Loss (SmoothL1): 0.0051, Train Loss (MSE): 0.0132\n",
            "Val mAP: 42040 / 71520 = 0.58781\n",
            "Val Loss (SmoothL1): 0.00604, Val Loss (MSE): 0.01250\n",
            "Epoch [101/200], Train Loss (SmoothL1): 0.0049, Train Loss (MSE): 0.0130\n",
            "Epoch [102/200], Train Loss (SmoothL1): 0.0050, Train Loss (MSE): 0.0131\n",
            "Epoch [103/200], Train Loss (SmoothL1): 0.0050, Train Loss (MSE): 0.0131\n",
            "Epoch [104/200], Train Loss (SmoothL1): 0.0050, Train Loss (MSE): 0.0130\n",
            "Epoch [105/200], Train Loss (SmoothL1): 0.0049, Train Loss (MSE): 0.0130\n",
            "Epoch [106/200], Train Loss (SmoothL1): 0.0050, Train Loss (MSE): 0.0130\n",
            "Epoch [107/200], Train Loss (SmoothL1): 0.0049, Train Loss (MSE): 0.0130\n",
            "Epoch [108/200], Train Loss (SmoothL1): 0.0050, Train Loss (MSE): 0.0131\n",
            "Epoch [109/200], Train Loss (SmoothL1): 0.0049, Train Loss (MSE): 0.0128\n",
            "Epoch [110/200], Train Loss (SmoothL1): 0.0048, Train Loss (MSE): 0.0128\n",
            "Val mAP: 42831 / 71520 = 0.59887\n",
            "Val Loss (SmoothL1): 0.00600, Val Loss (MSE): 0.01241\n",
            "Epoch [111/200], Train Loss (SmoothL1): 0.0052, Train Loss (MSE): 0.0135\n",
            "Epoch [112/200], Train Loss (SmoothL1): 0.0051, Train Loss (MSE): 0.0132\n",
            "Epoch [113/200], Train Loss (SmoothL1): 0.0048, Train Loss (MSE): 0.0127\n",
            "Epoch [114/200], Train Loss (SmoothL1): 0.0049, Train Loss (MSE): 0.0128\n",
            "Epoch [115/200], Train Loss (SmoothL1): 0.0049, Train Loss (MSE): 0.0128\n",
            "Epoch [116/200], Train Loss (SmoothL1): 0.0049, Train Loss (MSE): 0.0128\n",
            "Epoch [117/200], Train Loss (SmoothL1): 0.0048, Train Loss (MSE): 0.0128\n",
            "Epoch [118/200], Train Loss (SmoothL1): 0.0049, Train Loss (MSE): 0.0129\n",
            "Epoch [119/200], Train Loss (SmoothL1): 0.0049, Train Loss (MSE): 0.0129\n",
            "Epoch [120/200], Train Loss (SmoothL1): 0.0049, Train Loss (MSE): 0.0128\n",
            "Val mAP: 41478 / 71520 = 0.57995\n",
            "Val Loss (SmoothL1): 0.00613, Val Loss (MSE): 0.01268\n",
            "Epoch [121/200], Train Loss (SmoothL1): 0.0049, Train Loss (MSE): 0.0130\n",
            "Epoch [122/200], Train Loss (SmoothL1): 0.0049, Train Loss (MSE): 0.0129\n",
            "Epoch [123/200], Train Loss (SmoothL1): 0.0049, Train Loss (MSE): 0.0128\n",
            "Epoch [124/200], Train Loss (SmoothL1): 0.0049, Train Loss (MSE): 0.0128\n",
            "Epoch [125/200], Train Loss (SmoothL1): 0.0049, Train Loss (MSE): 0.0128\n",
            "Epoch [126/200], Train Loss (SmoothL1): 0.0049, Train Loss (MSE): 0.0128\n",
            "Epoch [127/200], Train Loss (SmoothL1): 0.0048, Train Loss (MSE): 0.0127\n",
            "Epoch [128/200], Train Loss (SmoothL1): 0.0048, Train Loss (MSE): 0.0127\n",
            "Epoch [129/200], Train Loss (SmoothL1): 0.0048, Train Loss (MSE): 0.0126\n",
            "Epoch [130/200], Train Loss (SmoothL1): 0.0048, Train Loss (MSE): 0.0127\n",
            "Val mAP: 42628 / 71520 = 0.59603\n",
            "Val Loss (SmoothL1): 0.00610, Val Loss (MSE): 0.01260\n",
            "Epoch [131/200], Train Loss (SmoothL1): 0.0048, Train Loss (MSE): 0.0128\n",
            "Epoch [132/200], Train Loss (SmoothL1): 0.0051, Train Loss (MSE): 0.0133\n",
            "Epoch [133/200], Train Loss (SmoothL1): 0.0052, Train Loss (MSE): 0.0134\n",
            "Epoch [134/200], Train Loss (SmoothL1): 0.0048, Train Loss (MSE): 0.0127\n",
            "Epoch [135/200], Train Loss (SmoothL1): 0.0047, Train Loss (MSE): 0.0125\n",
            "Epoch [136/200], Train Loss (SmoothL1): 0.0048, Train Loss (MSE): 0.0127\n",
            "Epoch [137/200], Train Loss (SmoothL1): 0.0048, Train Loss (MSE): 0.0126\n",
            "Epoch [138/200], Train Loss (SmoothL1): 0.0049, Train Loss (MSE): 0.0128\n",
            "Epoch [139/200], Train Loss (SmoothL1): 0.0047, Train Loss (MSE): 0.0126\n",
            "Epoch [140/200], Train Loss (SmoothL1): 0.0048, Train Loss (MSE): 0.0127\n",
            "Val mAP: 42281 / 71520 = 0.59118\n",
            "Val Loss (SmoothL1): 0.00600, Val Loss (MSE): 0.01241\n",
            "Epoch [141/200], Train Loss (SmoothL1): 0.0049, Train Loss (MSE): 0.0128\n",
            "Epoch [142/200], Train Loss (SmoothL1): 0.0048, Train Loss (MSE): 0.0127\n",
            "Epoch [143/200], Train Loss (SmoothL1): 0.0048, Train Loss (MSE): 0.0127\n",
            "Epoch [144/200], Train Loss (SmoothL1): 0.0048, Train Loss (MSE): 0.0126\n",
            "Epoch [145/200], Train Loss (SmoothL1): 0.0048, Train Loss (MSE): 0.0127\n",
            "Epoch [146/200], Train Loss (SmoothL1): 0.0047, Train Loss (MSE): 0.0125\n",
            "Epoch [147/200], Train Loss (SmoothL1): 0.0052, Train Loss (MSE): 0.0135\n",
            "Epoch [148/200], Train Loss (SmoothL1): 0.0048, Train Loss (MSE): 0.0127\n",
            "Epoch [149/200], Train Loss (SmoothL1): 0.0047, Train Loss (MSE): 0.0125\n",
            "Epoch [150/200], Train Loss (SmoothL1): 0.0047, Train Loss (MSE): 0.0125\n",
            "Val mAP: 40438 / 71520 = 0.56541\n",
            "Val Loss (SmoothL1): 0.00628, Val Loss (MSE): 0.01297\n",
            "Epoch [151/200], Train Loss (SmoothL1): 0.0047, Train Loss (MSE): 0.0125\n",
            "Epoch [152/200], Train Loss (SmoothL1): 0.0047, Train Loss (MSE): 0.0125\n",
            "Epoch [153/200], Train Loss (SmoothL1): 0.0047, Train Loss (MSE): 0.0125\n",
            "Epoch [154/200], Train Loss (SmoothL1): 0.0048, Train Loss (MSE): 0.0126\n",
            "Epoch [155/200], Train Loss (SmoothL1): 0.0048, Train Loss (MSE): 0.0126\n",
            "Epoch [156/200], Train Loss (SmoothL1): 0.0047, Train Loss (MSE): 0.0125\n",
            "Epoch [157/200], Train Loss (SmoothL1): 0.0048, Train Loss (MSE): 0.0126\n",
            "Epoch [158/200], Train Loss (SmoothL1): 0.0047, Train Loss (MSE): 0.0126\n",
            "Epoch [159/200], Train Loss (SmoothL1): 0.0047, Train Loss (MSE): 0.0125\n",
            "Epoch [160/200], Train Loss (SmoothL1): 0.0047, Train Loss (MSE): 0.0126\n",
            "Val mAP: 42470 / 71520 = 0.59382\n",
            "Val Loss (SmoothL1): 0.00599, Val Loss (MSE): 0.01239\n",
            "Epoch [161/200], Train Loss (SmoothL1): 0.0047, Train Loss (MSE): 0.0126\n",
            "Epoch [162/200], Train Loss (SmoothL1): 0.0049, Train Loss (MSE): 0.0129\n",
            "Epoch [163/200], Train Loss (SmoothL1): 0.0049, Train Loss (MSE): 0.0129\n",
            "Epoch [164/200], Train Loss (SmoothL1): 0.0047, Train Loss (MSE): 0.0125\n",
            "Epoch [165/200], Train Loss (SmoothL1): 0.0046, Train Loss (MSE): 0.0124\n",
            "Epoch [166/200], Train Loss (SmoothL1): 0.0047, Train Loss (MSE): 0.0124\n",
            "Epoch [167/200], Train Loss (SmoothL1): 0.0048, Train Loss (MSE): 0.0128\n",
            "Epoch [168/200], Train Loss (SmoothL1): 0.0049, Train Loss (MSE): 0.0128\n",
            "Epoch [169/200], Train Loss (SmoothL1): 0.0048, Train Loss (MSE): 0.0127\n",
            "Epoch [170/200], Train Loss (SmoothL1): 0.0047, Train Loss (MSE): 0.0124\n",
            "Val mAP: 43344 / 71520 = 0.60604\n",
            "Val Loss (SmoothL1): 0.00588, Val Loss (MSE): 0.01219\n",
            "Epoch [171/200], Train Loss (SmoothL1): 0.0046, Train Loss (MSE): 0.0123\n",
            "Epoch [172/200], Train Loss (SmoothL1): 0.0047, Train Loss (MSE): 0.0125\n",
            "Epoch [173/200], Train Loss (SmoothL1): 0.0047, Train Loss (MSE): 0.0124\n",
            "Epoch [174/200], Train Loss (SmoothL1): 0.0046, Train Loss (MSE): 0.0123\n",
            "Epoch [175/200], Train Loss (SmoothL1): 0.0047, Train Loss (MSE): 0.0125\n",
            "Epoch [176/200], Train Loss (SmoothL1): 0.0047, Train Loss (MSE): 0.0126\n",
            "Epoch [177/200], Train Loss (SmoothL1): 0.0047, Train Loss (MSE): 0.0124\n",
            "Epoch [178/200], Train Loss (SmoothL1): 0.0047, Train Loss (MSE): 0.0124\n",
            "Epoch [179/200], Train Loss (SmoothL1): 0.0047, Train Loss (MSE): 0.0125\n",
            "Epoch [180/200], Train Loss (SmoothL1): 0.0049, Train Loss (MSE): 0.0128\n",
            "Val mAP: 42403 / 71520 = 0.59288\n",
            "Val Loss (SmoothL1): 0.00609, Val Loss (MSE): 0.01261\n",
            "Epoch [181/200], Train Loss (SmoothL1): 0.0048, Train Loss (MSE): 0.0127\n",
            "Epoch [182/200], Train Loss (SmoothL1): 0.0046, Train Loss (MSE): 0.0123\n",
            "Epoch [183/200], Train Loss (SmoothL1): 0.0046, Train Loss (MSE): 0.0122\n",
            "Epoch [184/200], Train Loss (SmoothL1): 0.0046, Train Loss (MSE): 0.0124\n",
            "Epoch [185/200], Train Loss (SmoothL1): 0.0047, Train Loss (MSE): 0.0124\n",
            "Epoch [186/200], Train Loss (SmoothL1): 0.0047, Train Loss (MSE): 0.0125\n",
            "Epoch [187/200], Train Loss (SmoothL1): 0.0046, Train Loss (MSE): 0.0123\n",
            "Epoch [188/200], Train Loss (SmoothL1): 0.0046, Train Loss (MSE): 0.0123\n",
            "Epoch [189/200], Train Loss (SmoothL1): 0.0047, Train Loss (MSE): 0.0125\n",
            "Epoch [190/200], Train Loss (SmoothL1): 0.0056, Train Loss (MSE): 0.0145\n",
            "Val mAP: 41810 / 71520 = 0.58459\n",
            "Val Loss (SmoothL1): 0.00627, Val Loss (MSE): 0.01295\n",
            "Epoch [191/200], Train Loss (SmoothL1): 0.0048, Train Loss (MSE): 0.0126\n",
            "Epoch [192/200], Train Loss (SmoothL1): 0.0046, Train Loss (MSE): 0.0122\n",
            "Epoch [193/200], Train Loss (SmoothL1): 0.0046, Train Loss (MSE): 0.0122\n",
            "Epoch [194/200], Train Loss (SmoothL1): 0.0046, Train Loss (MSE): 0.0124\n",
            "Epoch [195/200], Train Loss (SmoothL1): 0.0046, Train Loss (MSE): 0.0122\n",
            "Epoch [196/200], Train Loss (SmoothL1): 0.0046, Train Loss (MSE): 0.0124\n",
            "Epoch [197/200], Train Loss (SmoothL1): 0.0046, Train Loss (MSE): 0.0122\n",
            "Epoch [198/200], Train Loss (SmoothL1): 0.0047, Train Loss (MSE): 0.0124\n",
            "Epoch [199/200], Train Loss (SmoothL1): 0.0048, Train Loss (MSE): 0.0128\n",
            "Epoch [200/200], Train Loss (SmoothL1): 0.0055, Train Loss (MSE): 0.0142\n",
            "Val mAP: 41798 / 71520 = 0.58442\n",
            "Val Loss (SmoothL1): 0.00621, Val Loss (MSE): 0.01280\n"
          ]
        }
      ],
      "source": [
        "# device = torch.device(\"cuda\" if torch.cuda.is_available() else \"cpu\")\n",
        "# MSEcriterion = nn.MSELoss()\n",
        "# epochs = 200\n",
        "# for epoch in range(epochs):\n",
        "#     model.train()\n",
        "#     train_smooth_loss, train_mse_loss = 0.0, 0.0\n",
        "\n",
        "#     for images, keypoints in train_loader:\n",
        "#         if device.type == 'cuda':\n",
        "#             images, keypoints = images.to(\"cuda\"), keypoints.to(\"cuda\")\n",
        "\n",
        "#         optimizer.zero_grad()\n",
        "#         outputs = model(images)\n",
        "\n",
        "#         smooth_loss = criterion(outputs, keypoints)\n",
        "#         mse_loss = MSEcriterion(outputs, keypoints)  # Just for monitoring\n",
        "\n",
        "#         mse_loss.backward()\n",
        "#         optimizer.step()\n",
        "\n",
        "#         train_smooth_loss += smooth_loss.item()\n",
        "#         train_mse_loss += mse_loss.item()\n",
        "\n",
        "#     # scheduler.step(smooth_loss)\n",
        "#     avg_train_smooth_loss = train_smooth_loss / len(train_loader)\n",
        "#     avg_train_mse_loss = train_mse_loss / len(train_loader)\n",
        "#     print(f\"Epoch [{epoch+1}/{epochs}], Train Loss (SmoothL1): {avg_train_smooth_loss:.4f}, Train Loss (MSE): {avg_train_mse_loss:.4f}\")\n",
        "\n",
        "#     # Validation\n",
        "#     if(epoch+1) % 10 == 0:\n",
        "#         model.eval()\n",
        "#         val_smooth_loss, val_mse_loss = 0.0, 0.0\n",
        "#         correct, total = 0, 0  # Track total and correct keypoints\n",
        "\n",
        "#         with torch.no_grad():\n",
        "#             for images, keypoints in val_loader:\n",
        "#                 if device.type == 'cuda':\n",
        "#                     images, keypoints = images.to(\"cuda\"), keypoints.to(\"cuda\")\n",
        "#                 outputs = model(images)\n",
        "#                 smooth_loss = criterion(outputs, keypoints)\n",
        "#                 mse_loss = MSEcriterion(outputs, keypoints)  # Just for monitoring\n",
        "\n",
        "#                 resized_keypoints = keypoints * 224\n",
        "#                 resized_outputs = outputs * 224\n",
        "\n",
        "#                 distances = torch.norm(resized_outputs.view(-1, 16, 2) - resized_keypoints.view(-1, 16, 2), dim=2)\n",
        "\n",
        "#                 # Count correct keypoints (within threshold)\n",
        "#                 correct += (distances < (0.10 * 224)).sum().item()\n",
        "#                 total += keypoints.numel() // 2  # Number of keypoints in batch\n",
        "#                 # print(f\"Total: {total}\")\n",
        "#                 val_smooth_loss += smooth_loss.item()\n",
        "#                 val_mse_loss += mse_loss.item()\n",
        "\n",
        "#         mAP = correct / total\n",
        "#         print(f\"Val mAP: {correct} / {total} = {mAP:.5f}\")\n",
        "#         avg_val_smooth_loss = val_smooth_loss / len(val_loader)\n",
        "#         avg_val_mse_loss = val_mse_loss / len(val_loader)\n",
        "#         print(f\"Val Loss (SmoothL1): {avg_val_smooth_loss:.5f}, Val Loss (MSE): {avg_val_mse_loss:.5f}\")\n",
        "#         if epoch > 50:\n",
        "#             if epoch % 25:\n",
        "#                 torch.save(model.state_dict(), f\"posev{avg_val_mse_loss:.5f}.pth\")\n",
        "\n"
      ]
    },
    {
      "cell_type": "markdown",
      "metadata": {
        "id": "6JilYeA6k0AH"
      },
      "source": [
        "## Training logs\n",
        "lr=0.01; epoch: 10; Loss: 0.0014; Val Loss: 0.0441"
      ]
    },
    {
      "cell_type": "code",
      "execution_count": null,
      "metadata": {
        "id": "pH9OZWyok0AH"
      },
      "outputs": [],
      "source": [
        "torch.save(model.state_dict(), \"posev001255.pth\")\n"
      ]
    }
  ],
  "metadata": {
    "kernelspec": {
      "display_name": "Python 3",
      "name": "python3"
    },
    "language_info": {
      "codemirror_mode": {
        "name": "ipython",
        "version": 3
      },
      "file_extension": ".py",
      "mimetype": "text/x-python",
      "name": "python",
      "nbconvert_exporter": "python",
      "pygments_lexer": "ipython3",
      "version": "3.12.8"
    },
    "colab": {
      "provenance": [],
      "gpuType": "T4",
      "include_colab_link": true
    },
    "accelerator": "GPU"
  },
  "nbformat": 4,
  "nbformat_minor": 0
}