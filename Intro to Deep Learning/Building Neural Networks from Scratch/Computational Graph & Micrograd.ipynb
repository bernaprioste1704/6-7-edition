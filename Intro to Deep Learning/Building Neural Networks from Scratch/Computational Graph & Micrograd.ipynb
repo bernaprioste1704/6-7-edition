{
 "cells": [
  {
   "cell_type": "markdown",
   "metadata": {},
   "source": [
    "# Imports"
   ]
  },
  {
   "cell_type": "code",
   "execution_count": 1,
   "metadata": {},
   "outputs": [
    {
     "name": "stdout",
     "output_type": "stream",
     "text": [
      "Requirement already satisfied: graphviz in c:\\users\\utilizador\\appdata\\local\\packages\\pythonsoftwarefoundation.python.3.11_qbz5n2kfra8p0\\localcache\\local-packages\\python311\\site-packages (0.20.3)\n",
      "Note: you may need to restart the kernel to use updated packages.\n"
     ]
    },
    {
     "name": "stderr",
     "output_type": "stream",
     "text": [
      "\n",
      "[notice] A new release of pip is available: 24.3.1 -> 25.0\n",
      "[notice] To update, run: C:\\Users\\Utilizador\\AppData\\Local\\Microsoft\\WindowsApps\\PythonSoftwareFoundation.Python.3.11_qbz5n2kfra8p0\\python.exe -m pip install --upgrade pip\n"
     ]
    }
   ],
   "source": [
    "%pip install graphviz"
   ]
  },
  {
   "cell_type": "code",
   "execution_count": 2,
   "metadata": {},
   "outputs": [],
   "source": [
    "import math\n",
    "import numpy as np\n",
    "import matplotlib.pyplot as plt\n",
    "import graphviz\n",
    "\n",
    "%matplotlib inline"
   ]
  },
  {
   "cell_type": "markdown",
   "metadata": {},
   "source": [
    "# Utils"
   ]
  },
  {
   "cell_type": "code",
   "execution_count": 3,
   "metadata": {},
   "outputs": [],
   "source": [
    "from graphviz import Digraph\n",
    "\n",
    "def trace(root):\n",
    "    # builds a set of all nodes and edges in a graph\n",
    "    nodes, edges = set(), set()\n",
    "\n",
    "    def build(v):\n",
    "        if v not in nodes:\n",
    "            nodes.add(v)\n",
    "            for child in v._prev:\n",
    "                edges.add((child, v))\n",
    "                build(child)\n",
    "\n",
    "    build(root)\n",
    "    return nodes, edges\n",
    "\n",
    "def draw_dotV1(root):\n",
    "    dot = Digraph(format='svg', graph_attr={'rankdir': 'LR'})  # LR = left to right\n",
    "\n",
    "    nodes, edges = trace(root)\n",
    "    for n in nodes:\n",
    "        uid = str(id(n))\n",
    "        # for any value in the graph, create a rectangular ('record') node for it\n",
    "        dot.node(name=uid, label=\"{data %.4f}\" % (n.data), shape='record')\n",
    "        if n._op:\n",
    "            # if this value is a result of some operation, create an op node for it\n",
    "            dot.node(name=uid + n._op, label=n._op)\n",
    "            # and connect this node to it\n",
    "            dot.edge(uid + n._op, uid)\n",
    "\n",
    "    for n1, n2 in edges:\n",
    "        # connect n1 to the op node of n2\n",
    "        dot.edge(str(id(n1)), str(id(n2)) + n2._op)\n",
    "\n",
    "    return dot\n",
    "\n",
    "def draw_dotV2(root):\n",
    "    dot = Digraph(format='svg', graph_attr={'rankdir': 'LR'})  # LR = left to right\n",
    "\n",
    "    nodes, edges = trace(root)\n",
    "    for n in nodes:\n",
    "        uid = str(id(n))\n",
    "        # for any value in the graph, create a rectangular ('record') node for it\n",
    "        dot.node(name=uid, label=\"{ %s | data %.4f}\" % (n.label, n.data), shape='record')\n",
    "        if n._op:\n",
    "            # if this value is a result of some operation, create an op node for it\n",
    "            dot.node(name=uid + n._op, label=n._op)\n",
    "            # and connect this node to it\n",
    "            dot.edge(uid + n._op, uid)\n",
    "\n",
    "    for n1, n2 in edges:\n",
    "        # connect n1 to the op node of n2\n",
    "        dot.edge(str(id(n1)), str(id(n2)) + n2._op)\n",
    "\n",
    "    return dot\n",
    "\n",
    "def draw_dotV3(root):\n",
    "    dot = Digraph(format='svg', graph_attr={'rankdir': 'LR'})  # LR = left to right\n",
    "\n",
    "    nodes, edges = trace(root)\n",
    "    for n in nodes:\n",
    "        uid = str(id(n))\n",
    "        # for any value in the graph, create a rectangular ('record') node for it\n",
    "        dot.node(name=uid, label=\"{ %s | data %.4f | grad %.4f}\" % (n.label, n.data, n.grad), shape='record')\n",
    "        if n._op:\n",
    "            # if this value is a result of some operation, create an op node for it\n",
    "            dot.node(name=uid + n._op, label=n._op)\n",
    "            # and connect this node to it\n",
    "            dot.edge(uid + n._op, uid)\n",
    "\n",
    "    for n1, n2 in edges:\n",
    "        # connect n1 to the op node of n2\n",
    "        dot.edge(str(id(n1)), str(id(n2)) + n2._op)\n",
    "\n",
    "    return dot\n"
   ]
  },
  {
   "cell_type": "markdown",
   "metadata": {},
   "source": [
    "# Warm up: intuition on derivatives"
   ]
  },
  {
   "cell_type": "code",
   "execution_count": 4,
   "metadata": {},
   "outputs": [],
   "source": [
    "def f(x):\n",
    "    return 3 * x**2 - 4*x + 5"
   ]
  },
  {
   "cell_type": "code",
   "execution_count": 5,
   "metadata": {},
   "outputs": [
    {
     "data": {
      "text/plain": [
       "20.0"
      ]
     },
     "execution_count": 5,
     "metadata": {},
     "output_type": "execute_result"
    }
   ],
   "source": [
    "f(3.0)"
   ]
  },
  {
   "cell_type": "code",
   "execution_count": 6,
   "metadata": {},
   "outputs": [
    {
     "data": {
      "text/plain": [
       "[<matplotlib.lines.Line2D at 0x225e23d8950>]"
      ]
     },
     "execution_count": 6,
     "metadata": {},
     "output_type": "execute_result"
    },
    {
     "data": {
      "image/png": "[encoded data removed]",
      "text/plain": [
       "<Figure size 640x480 with 1 Axes>"
      ]
     },
     "metadata": {},
     "output_type": "display_data"
    }
   ],
   "source": [
    "xs = np.arange(-5,5, 0.25)\n",
    "ys = f(xs)\n",
    "plt.plot(xs,ys)"
   ]
  },
  {
   "cell_type": "markdown",
   "metadata": {},
   "source": [
    "> What is the derivative of this function at any single input point x?\n",
    "\n",
    "One option is to apply all the derivative rules to write out the full expression of $\\frac{df}{dx}(x)$.\n",
    "\n",
    "But we are not going to do that because in neural networks no one writes the full expression of the derivative of a neural network. That would be a massive with tens of thousands of terms!\n",
    "\n",
    "For now we will go by the definition of the derivate."
   ]
  },
  {
   "cell_type": "markdown",
   "metadata": {},
   "source": [
    "$$L = \\lim_{{h \\to 0}} \\frac{f(a + h) - f(a)}{h}$$"
   ]
  },
  {
   "cell_type": "code",
   "execution_count": 7,
   "metadata": {},
   "outputs": [
    {
     "data": {
      "text/plain": [
       "20.0"
      ]
     },
     "execution_count": 7,
     "metadata": {},
     "output_type": "execute_result"
    }
   ],
   "source": [
    "h = 0.01\n",
    "x = 3.0\n",
    "f(x)"
   ]
  },
  {
   "cell_type": "markdown",
   "metadata": {},
   "source": [
    "> Q: What do you expect of $f(x+h)$ when $x=3$? Will it be slightly greater or smaller than f(x)?"
   ]
  },
  {
   "cell_type": "markdown",
   "metadata": {},
   "source": [
    "----"
   ]
  },
  {
   "cell_type": "code",
   "execution_count": 8,
   "metadata": {},
   "outputs": [
    {
     "data": {
      "text/plain": [
       "14.029999999999632"
      ]
     },
     "execution_count": 8,
     "metadata": {},
     "output_type": "execute_result"
    }
   ],
   "source": [
    "f(x + h) - f(x) # how much the function responded\n",
    "(f(x + h) - f(x)) / h # normalize by the run to get the slope"
   ]
  },
  {
   "cell_type": "markdown",
   "metadata": {},
   "source": [
    "this is a numberical approximation so it becomes more exact the smaller h is"
   ]
  },
  {
   "cell_type": "code",
   "execution_count": 9,
   "metadata": {},
   "outputs": [
    {
     "data": {
      "text/plain": [
       "14.001244608152774"
      ]
     },
     "execution_count": 9,
     "metadata": {},
     "output_type": "execute_result"
    }
   ],
   "source": [
    "h = 0.000000000001\n",
    "(f(x + h) - f(x)) / h"
   ]
  },
  {
   "cell_type": "markdown",
   "metadata": {},
   "source": [
    "> Q: What do you expect of the derivative at point $x=-3$ now?"
   ]
  },
  {
   "cell_type": "markdown",
   "metadata": {},
   "source": [
    "----"
   ]
  },
  {
   "cell_type": "markdown",
   "metadata": {},
   "source": [
    "Finally we have the point where the slope is zero"
   ]
  },
  {
   "cell_type": "code",
   "execution_count": 10,
   "metadata": {},
   "outputs": [
    {
     "data": {
      "text/plain": [
       "2.9753977059954195e-07"
      ]
     },
     "execution_count": 10,
     "metadata": {},
     "output_type": "execute_result"
    }
   ],
   "source": [
    "h = 0.0000001\n",
    "x = 2/3\n",
    "(f(x + h) - f(x)) / h"
   ]
  },
  {
   "cell_type": "markdown",
   "metadata": {},
   "source": [
    "At this point, if we change the input in any direction the function doesn't change"
   ]
  },
  {
   "cell_type": "markdown",
   "metadata": {},
   "source": [
    "## Let's Get a bit more complex"
   ]
  },
  {
   "cell_type": "code",
   "execution_count": 11,
   "metadata": {},
   "outputs": [
    {
     "name": "stdout",
     "output_type": "stream",
     "text": [
      "4.0\n"
     ]
    }
   ],
   "source": [
    "a = 2.0\n",
    "b = -3.0\n",
    "c = 10.0\n",
    "d = a*b + c\n",
    "print(d)"
   ]
  },
  {
   "cell_type": "markdown",
   "metadata": {},
   "source": [
    "Now i want the derivative of d with respect to a,b and c"
   ]
  },
  {
   "cell_type": "code",
   "execution_count": null,
   "metadata": {},
   "outputs": [],
   "source": [
    "h = 0.0001\n",
    "\n",
    "# inputs\n",
    "a = 2.0\n",
    "b = -3.0\n",
    "c = 100000000.0\n",
    "\n",
    "d1 = a*b + c\n",
    "\n",
    "# compare with the result after changing one of the parameters by a little bit\n",
    "c += h\n",
    "d2 = a*b + c\n",
    "\n",
    "print('d1', d1)\n",
    "print('d2', d2)\n",
    "print('slope', (d2 - d1)/h)\n"
   ]
  },
  {
   "cell_type": "markdown",
   "metadata": {},
   "source": [
    "So we now have some intuition about what the derivative tells us about the function. So let's move on to Neural Networks. \n",
    "\n",
    "Neural Networks will have massive mathematical expressions so we are going to build a data structure `Value` that let's us keep track of the operations and that will help us propagate the gradients throughout a mathematical expression."
   ]
  },
  {
   "cell_type": "markdown",
   "metadata": {},
   "source": [
    "# Initialization"
   ]
  },
  {
   "cell_type": "markdown",
   "metadata": {},
   "source": [
    "We want to build the computational graph of any expression"
   ]
  },
  {
   "cell_type": "code",
   "execution_count": 12,
   "metadata": {},
   "outputs": [],
   "source": [
    "class Value:\n",
    "\n",
    "    def __init__(self, data):\n",
    "        self.data = data\n",
    "\n",
    "    def __repr__(self):\n",
    "        return f\"Value({self.data})\""
   ]
  },
  {
   "cell_type": "code",
   "execution_count": 13,
   "metadata": {},
   "outputs": [],
   "source": [
    "a = Value(3)"
   ]
  },
  {
   "cell_type": "code",
   "execution_count": 14,
   "metadata": {},
   "outputs": [
    {
     "data": {
      "text/plain": [
       "Value(3)"
      ]
     },
     "execution_count": 14,
     "metadata": {},
     "output_type": "execute_result"
    }
   ],
   "source": [
    "a"
   ]
  },
  {
   "cell_type": "markdown",
   "metadata": {},
   "source": [
    "We want to be able to perform simple operations like addition"
   ]
  },
  {
   "cell_type": "code",
   "execution_count": 15,
   "metadata": {},
   "outputs": [
    {
     "name": "stdout",
     "output_type": "stream",
     "text": [
      "Oops, not implemented yet\n"
     ]
    }
   ],
   "source": [
    "b = Value(4)\n",
    "\n",
    "try:\n",
    "    a + b\n",
    "except:\n",
    "    print('Oops, not implemented yet')"
   ]
  },
  {
   "cell_type": "markdown",
   "metadata": {},
   "source": [
    "We define python's addition between objects of our class `Value` by implementing the method `__add__`"
   ]
  },
  {
   "cell_type": "code",
   "execution_count": 16,
   "metadata": {},
   "outputs": [],
   "source": [
    "class Value:\n",
    "    \"\"\" stores a single scalar value and its gradient \"\"\"\n",
    "\n",
    "    def __init__(self, data):\n",
    "        self.data = data\n",
    "\n",
    "    def __repr__(self):\n",
    "        return f\"Value({self.data})\"\n",
    "    \n",
    "    def __add__(self, other: Value):\n",
    "        return Value(self.data + other.data)"
   ]
  },
  {
   "cell_type": "code",
   "execution_count": 17,
   "metadata": {},
   "outputs": [
    {
     "data": {
      "text/plain": [
       "Value(7)"
      ]
     },
     "execution_count": 17,
     "metadata": {},
     "output_type": "execute_result"
    }
   ],
   "source": [
    "a = Value(3)\n",
    "b = Value(4)\n",
    "\n",
    "a + b #a.__add__(b)"
   ]
  },
  {
   "cell_type": "markdown",
   "metadata": {},
   "source": [
    "yay!"
   ]
  },
  {
   "cell_type": "markdown",
   "metadata": {},
   "source": [
    "# Exercise 1\n",
    "\n",
    "Go [here](https://colab.research.google.com/github/samsung-ai-course/6-7-edition/blob/main/Intro%20to%20Deep%20Learning/Building%20Neural%20Networks%20from%20Scratch/Exercise%201%20-%20Implement%20remaining%20operators.ipynb) to jump into exercise 1."
   ]
  },
  {
   "cell_type": "markdown",
   "metadata": {},
   "source": [
    "![](media/jump.jpg)"
   ]
  },
  {
   "cell_type": "code",
   "execution_count": null,
   "metadata": {},
   "outputs": [],
   "source": [
    "# paste here solution after exercise is done"
   ]
  },
  {
   "cell_type": "markdown",
   "metadata": {},
   "source": [
    "---"
   ]
  },
  {
   "cell_type": "markdown",
   "metadata": {},
   "source": [
    "Let's go back to our expression above"
   ]
  },
  {
   "cell_type": "code",
   "execution_count": 18,
   "metadata": {},
   "outputs": [
    {
     "ename": "TypeError",
     "evalue": "unsupported operand type(s) for *: 'Value' and 'Value'",
     "output_type": "error",
     "traceback": [
      "\u001b[1;31m---------------------------------------------------------------------------\u001b[0m",
      "\u001b[1;31mTypeError\u001b[0m                                 Traceback (most recent call last)",
      "Cell \u001b[1;32mIn[18], line 4\u001b[0m\n\u001b[0;32m      2\u001b[0m b \u001b[38;5;241m=\u001b[39m Value(\u001b[38;5;241m-\u001b[39m\u001b[38;5;241m3.0\u001b[39m)\n\u001b[0;32m      3\u001b[0m c \u001b[38;5;241m=\u001b[39m Value(\u001b[38;5;241m10.0\u001b[39m)\n\u001b[1;32m----> 4\u001b[0m d \u001b[38;5;241m=\u001b[39m \u001b[43ma\u001b[49m\u001b[38;5;241;43m*\u001b[39;49m\u001b[43mb\u001b[49m \u001b[38;5;241m+\u001b[39m c\n\u001b[0;32m      5\u001b[0m d\n",
      "\u001b[1;31mTypeError\u001b[0m: unsupported operand type(s) for *: 'Value' and 'Value'"
     ]
    }
   ],
   "source": [
    "a = Value(2.0)\n",
    "b = Value(-3.0)\n",
    "c = Value(10.0)\n",
    "d = a*b + c\n",
    "d\n"
   ]
  },
  {
   "cell_type": "markdown",
   "metadata": {},
   "source": [
    "What we are missing:\n",
    "> A connection between these expressions that allows us to understand \"what `Values` produced these other `Values`\""
   ]
  },
  {
   "cell_type": "code",
   "execution_count": 19,
   "metadata": {},
   "outputs": [],
   "source": [
    "class Value:\n",
    "\n",
    "    def __init__(self, data, _children=(), _op=''):\n",
    "        self.data = data\n",
    "        self._prev = set(_children)\n",
    "        self._op = _op\n",
    "\n",
    "    def __repr__(self):\n",
    "        return f\"Value({self.data})\"\n",
    "    \n",
    "    def __add__(self, other: Value):\n",
    "        return Value(self.data + other.data, (self,other), '+')\n",
    "    \n",
    "    def __mul__(self, other: Value):\n",
    "        return Value(self.data * other.data, (self,other), '*')\n",
    "\n",
    "    def __sub__(self, other: Value):\n",
    "        return Value(self.data - other.data, (self,other), '-')\n",
    "    \n",
    "    def __truediv__(self, other: Value):\n",
    "        return Value(self.data / other.data, (self,other), '/')\n",
    "    "
   ]
  },
  {
   "cell_type": "code",
   "execution_count": 20,
   "metadata": {},
   "outputs": [
    {
     "data": {
      "text/plain": [
       "Value(4.0)"
      ]
     },
     "execution_count": 20,
     "metadata": {},
     "output_type": "execute_result"
    }
   ],
   "source": [
    "a = Value(2.0)\n",
    "b = Value(-3.0)\n",
    "c = Value(10.0)\n",
    "d = a*b + c\n",
    "d"
   ]
  },
  {
   "cell_type": "code",
   "execution_count": 21,
   "metadata": {},
   "outputs": [
    {
     "data": {
      "text/plain": [
       "[Value(-6.0), Value(10.0)]"
      ]
     },
     "execution_count": 21,
     "metadata": {},
     "output_type": "execute_result"
    }
   ],
   "source": [
    "list(d._prev)"
   ]
  },
  {
   "cell_type": "code",
   "execution_count": 22,
   "metadata": {},
   "outputs": [
    {
     "data": {
      "text/plain": [
       "set()"
      ]
     },
     "execution_count": 22,
     "metadata": {},
     "output_type": "execute_result"
    }
   ],
   "source": [
    "a._prev"
   ]
  },
  {
   "cell_type": "markdown",
   "metadata": {},
   "source": [
    "Now we need a way to visualize these expressions"
   ]
  },
  {
   "cell_type": "code",
   "execution_count": 23,
   "metadata": {},
   "outputs": [
    {
     "data": {
      "image/svg+xml": [
       "<?xml version=\"1.0\" encoding=\"UTF-8\" standalone=\"no\"?>\n",
       "<!DOCTYPE svg PUBLIC \"-//W3C//DTD SVG 1.1//EN\"\n",
       " \"http://www.w3.org/Graphics/SVG/1.1/DTD/svg11.dtd\">\n",
       "<!-- Generated by graphviz version 12.2.1 (20241206.2353)\n",
       " -->\n",
       "<!-- Pages: 1 -->\n",
       "<svg width=\"511pt\" height=\"127pt\"\n",
       " viewBox=\"0.00 0.00 510.50 127.00\" xmlns=\"http://www.w3.org/2000/svg\" xmlns:xlink=\"http://www.w3.org/1999/xlink\">\n",
       "<g id=\"graph0\" class=\"graph\" transform=\"scale(1 1) rotate(0) translate(4 123)\">\n",
       "<polygon fill=\"white\" stroke=\"none\" points=\"-4,4 -4,-123 506.5,-123 506.5,4 -4,4\"/>\n",
       "<!-- 2361733764624 -->\n",
       "<g id=\"node1\" class=\"node\">\n",
       "<title>2361733764624</title>\n",
       "<polygon fill=\"none\" stroke=\"black\" points=\"210.25,-82.5 210.25,-118.5 296.75,-118.5 296.75,-82.5 210.25,-82.5\"/>\n",
       "<text text-anchor=\"middle\" x=\"253.5\" y=\"-95.7\" font-family=\"Times New Roman,serif\" font-size=\"14.00\">data 10.0000</text>\n",
       "</g>\n",
       "<!-- 2361732413776+ -->\n",
       "<g id=\"node7\" class=\"node\">\n",
       "<title>2361732413776+</title>\n",
       "<ellipse fill=\"none\" stroke=\"black\" cx=\"359.75\" cy=\"-72.5\" rx=\"27\" ry=\"18\"/>\n",
       "<text text-anchor=\"middle\" x=\"359.75\" y=\"-67.45\" font-family=\"Times New Roman,serif\" font-size=\"14.00\">+</text>\n",
       "</g>\n",
       "<!-- 2361733764624&#45;&gt;2361732413776+ -->\n",
       "<g id=\"edge4\" class=\"edge\">\n",
       "<title>2361733764624&#45;&gt;2361732413776+</title>\n",
       "<path fill=\"none\" stroke=\"black\" d=\"M297.2,-89.03C305.86,-86.7 314.88,-84.28 323.26,-82.03\"/>\n",
       "<polygon fill=\"black\" stroke=\"black\" points=\"323.98,-85.46 332.73,-79.49 322.17,-78.7 323.98,-85.46\"/>\n",
       "</g>\n",
       "<!-- 2361773495440 -->\n",
       "<g id=\"node2\" class=\"node\">\n",
       "<title>2361773495440</title>\n",
       "<polygon fill=\"none\" stroke=\"black\" points=\"211.38,-27.5 211.38,-63.5 295.62,-63.5 295.62,-27.5 211.38,-27.5\"/>\n",
       "<text text-anchor=\"middle\" x=\"253.5\" y=\"-40.7\" font-family=\"Times New Roman,serif\" font-size=\"14.00\">data &#45;6.0000</text>\n",
       "</g>\n",
       "<!-- 2361773495440&#45;&gt;2361732413776+ -->\n",
       "<g id=\"edge3\" class=\"edge\">\n",
       "<title>2361773495440&#45;&gt;2361732413776+</title>\n",
       "<path fill=\"none\" stroke=\"black\" d=\"M296,-56.25C305,-58.58 314.45,-61.03 323.19,-63.29\"/>\n",
       "<polygon fill=\"black\" stroke=\"black\" points=\"322.18,-66.64 332.73,-65.76 323.93,-59.87 322.18,-66.64\"/>\n",
       "</g>\n",
       "<!-- 2361773495440* -->\n",
       "<g id=\"node3\" class=\"node\">\n",
       "<title>2361773495440*</title>\n",
       "<ellipse fill=\"none\" stroke=\"black\" cx=\"147.25\" cy=\"-45.5\" rx=\"27\" ry=\"18\"/>\n",
       "<text text-anchor=\"middle\" x=\"147.25\" y=\"-40.45\" font-family=\"Times New Roman,serif\" font-size=\"14.00\">*</text>\n",
       "</g>\n",
       "<!-- 2361773495440*&#45;&gt;2361773495440 -->\n",
       "<g id=\"edge1\" class=\"edge\">\n",
       "<title>2361773495440*&#45;&gt;2361773495440</title>\n",
       "<path fill=\"none\" stroke=\"black\" d=\"M174.56,-45.5C182.27,-45.5 191,-45.5 199.75,-45.5\"/>\n",
       "<polygon fill=\"black\" stroke=\"black\" points=\"199.67,-49 209.67,-45.5 199.67,-42 199.67,-49\"/>\n",
       "</g>\n",
       "<!-- 2361733726480 -->\n",
       "<g id=\"node4\" class=\"node\">\n",
       "<title>2361733726480</title>\n",
       "<polygon fill=\"none\" stroke=\"black\" points=\"0,-55.5 0,-91.5 84.25,-91.5 84.25,-55.5 0,-55.5\"/>\n",
       "<text text-anchor=\"middle\" x=\"42.12\" y=\"-68.7\" font-family=\"Times New Roman,serif\" font-size=\"14.00\">data &#45;3.0000</text>\n",
       "</g>\n",
       "<!-- 2361733726480&#45;&gt;2361773495440* -->\n",
       "<g id=\"edge5\" class=\"edge\">\n",
       "<title>2361733726480&#45;&gt;2361773495440*</title>\n",
       "<path fill=\"none\" stroke=\"black\" d=\"M84.48,-62.27C93.18,-59.91 102.29,-57.43 110.76,-55.14\"/>\n",
       "<polygon fill=\"black\" stroke=\"black\" points=\"111.62,-58.53 120.35,-52.53 109.78,-51.77 111.62,-58.53\"/>\n",
       "</g>\n",
       "<!-- 2361773633808 -->\n",
       "<g id=\"node5\" class=\"node\">\n",
       "<title>2361773633808</title>\n",
       "<polygon fill=\"none\" stroke=\"black\" points=\"2.25,-0.5 2.25,-36.5 82,-36.5 82,-0.5 2.25,-0.5\"/>\n",
       "<text text-anchor=\"middle\" x=\"42.12\" y=\"-13.7\" font-family=\"Times New Roman,serif\" font-size=\"14.00\">data 2.0000</text>\n",
       "</g>\n",
       "<!-- 2361773633808&#45;&gt;2361773495440* -->\n",
       "<g id=\"edge6\" class=\"edge\">\n",
       "<title>2361773633808&#45;&gt;2361773495440*</title>\n",
       "<path fill=\"none\" stroke=\"black\" d=\"M82.41,-28.78C91.69,-31.22 101.54,-33.79 110.65,-36.18\"/>\n",
       "<polygon fill=\"black\" stroke=\"black\" points=\"109.68,-39.54 120.24,-38.69 111.45,-32.77 109.68,-39.54\"/>\n",
       "</g>\n",
       "<!-- 2361732413776 -->\n",
       "<g id=\"node6\" class=\"node\">\n",
       "<title>2361732413776</title>\n",
       "<polygon fill=\"none\" stroke=\"black\" points=\"422.75,-54.5 422.75,-90.5 502.5,-90.5 502.5,-54.5 422.75,-54.5\"/>\n",
       "<text text-anchor=\"middle\" x=\"462.62\" y=\"-67.7\" font-family=\"Times New Roman,serif\" font-size=\"14.00\">data 4.0000</text>\n",
       "</g>\n",
       "<!-- 2361732413776+&#45;&gt;2361732413776 -->\n",
       "<g id=\"edge2\" class=\"edge\">\n",
       "<title>2361732413776+&#45;&gt;2361732413776</title>\n",
       "<path fill=\"none\" stroke=\"black\" d=\"M386.99,-72.5C394.46,-72.5 402.85,-72.5 411.24,-72.5\"/>\n",
       "<polygon fill=\"black\" stroke=\"black\" points=\"411.08,-76 421.08,-72.5 411.08,-69 411.08,-76\"/>\n",
       "</g>\n",
       "</g>\n",
       "</svg>\n"
      ],
      "text/plain": [
       "<graphviz.graphs.Digraph at 0x225e4ade2d0>"
      ]
     },
     "execution_count": 23,
     "metadata": {},
     "output_type": "execute_result"
    }
   ],
   "source": [
    "draw_dotV1(d)"
   ]
  },
  {
   "cell_type": "markdown",
   "metadata": {},
   "source": [
    "Let's add labels!"
   ]
  },
  {
   "cell_type": "code",
   "execution_count": 24,
   "metadata": {},
   "outputs": [
    {
     "data": {
      "text/plain": [
       "Value(d| 4.0)"
      ]
     },
     "execution_count": 24,
     "metadata": {},
     "output_type": "execute_result"
    }
   ],
   "source": [
    "class Value:\n",
    "\n",
    "    def __init__(self, data, _children=(), _op='', label=''):\n",
    "        self.data = data\n",
    "        self._prev = set(_children)\n",
    "        self._op = _op\n",
    "        self.label = label\n",
    "\n",
    "    def __repr__(self):\n",
    "        return f\"Value({self.label}| {self.data})\"\n",
    "    \n",
    "    def __add__(self, other: Value):\n",
    "        return Value(self.data + other.data, (self,other), '+')\n",
    "    \n",
    "    def __mul__(self, other: Value):\n",
    "        return Value(self.data * other.data, (self,other), '*')\n",
    "\n",
    "    def __sub__(self, other: Value):\n",
    "        return Value(self.data - other.data, (self,other), '-')\n",
    "    \n",
    "    def __truediv__(self, other: Value):\n",
    "        return Value(self.data / other.data, (self,other), '/')\n",
    "    \n",
    "\n",
    "a = Value(2.0, label='a')\n",
    "b = Value(-3.0, label='b')\n",
    "c = Value(10.0, label='c')\n",
    "e = a * b; e.label = 'e'\n",
    "d = e + c; d.label = 'd'\n",
    "d"
   ]
  },
  {
   "cell_type": "code",
   "execution_count": 25,
   "metadata": {},
   "outputs": [
    {
     "data": {
      "image/svg+xml": [
       "<?xml version=\"1.0\" encoding=\"UTF-8\" standalone=\"no\"?>\n",
       "<!DOCTYPE svg PUBLIC \"-//W3C//DTD SVG 1.1//EN\"\n",
       " \"http://www.w3.org/Graphics/SVG/1.1/DTD/svg11.dtd\">\n",
       "<!-- Generated by graphviz version 12.2.1 (20241206.2353)\n",
       " -->\n",
       "<!-- Pages: 1 -->\n",
       "<svg width=\"578pt\" height=\"128pt\"\n",
       " viewBox=\"0.00 0.00 578.00 128.00\" xmlns=\"http://www.w3.org/2000/svg\" xmlns:xlink=\"http://www.w3.org/1999/xlink\">\n",
       "<g id=\"graph0\" class=\"graph\" transform=\"scale(1 1) rotate(0) translate(4 124)\">\n",
       "<polygon fill=\"white\" stroke=\"none\" points=\"-4,4 -4,-124 574,-124 574,4 -4,4\"/>\n",
       "<!-- 2361773683280 -->\n",
       "<g id=\"node1\" class=\"node\">\n",
       "<title>2361773683280</title>\n",
       "<polygon fill=\"none\" stroke=\"black\" points=\"2.62,-83.5 2.62,-119.5 104.38,-119.5 104.38,-83.5 2.62,-83.5\"/>\n",
       "<text text-anchor=\"middle\" x=\"13.62\" y=\"-96.7\" font-family=\"Times New Roman,serif\" font-size=\"14.00\">a</text>\n",
       "<polyline fill=\"none\" stroke=\"black\" points=\"24.62,-84 24.62,-119.5\"/>\n",
       "<text text-anchor=\"middle\" x=\"64.5\" y=\"-96.7\" font-family=\"Times New Roman,serif\" font-size=\"14.00\">data 2.0000</text>\n",
       "</g>\n",
       "<!-- 2361773671184* -->\n",
       "<g id=\"node5\" class=\"node\">\n",
       "<title>2361773671184*</title>\n",
       "<ellipse fill=\"none\" stroke=\"black\" cx=\"170\" cy=\"-73.5\" rx=\"27\" ry=\"18\"/>\n",
       "<text text-anchor=\"middle\" x=\"170\" y=\"-68.45\" font-family=\"Times New Roman,serif\" font-size=\"14.00\">*</text>\n",
       "</g>\n",
       "<!-- 2361773683280&#45;&gt;2361773671184* -->\n",
       "<g id=\"edge4\" class=\"edge\">\n",
       "<title>2361773683280&#45;&gt;2361773671184*</title>\n",
       "<path fill=\"none\" stroke=\"black\" d=\"M104.72,-89.22C114.35,-86.86 124.26,-84.44 133.32,-82.23\"/>\n",
       "<polygon fill=\"black\" stroke=\"black\" points=\"133.9,-85.69 142.78,-79.91 132.24,-78.89 133.9,-85.69\"/>\n",
       "</g>\n",
       "<!-- 2361767807056 -->\n",
       "<g id=\"node2\" class=\"node\">\n",
       "<title>2361767807056</title>\n",
       "<polygon fill=\"none\" stroke=\"black\" points=\"467.5,-27.5 467.5,-63.5 570,-63.5 570,-27.5 467.5,-27.5\"/>\n",
       "<text text-anchor=\"middle\" x=\"478.88\" y=\"-40.7\" font-family=\"Times New Roman,serif\" font-size=\"14.00\">d</text>\n",
       "<polyline fill=\"none\" stroke=\"black\" points=\"490.25,-28 490.25,-63.5\"/>\n",
       "<text text-anchor=\"middle\" x=\"530.12\" y=\"-40.7\" font-family=\"Times New Roman,serif\" font-size=\"14.00\">data 4.0000</text>\n",
       "</g>\n",
       "<!-- 2361767807056+ -->\n",
       "<g id=\"node3\" class=\"node\">\n",
       "<title>2361767807056+</title>\n",
       "<ellipse fill=\"none\" stroke=\"black\" cx=\"404.5\" cy=\"-45.5\" rx=\"27\" ry=\"18\"/>\n",
       "<text text-anchor=\"middle\" x=\"404.5\" y=\"-40.45\" font-family=\"Times New Roman,serif\" font-size=\"14.00\">+</text>\n",
       "</g>\n",
       "<!-- 2361767807056+&#45;&gt;2361767807056 -->\n",
       "<g id=\"edge1\" class=\"edge\">\n",
       "<title>2361767807056+&#45;&gt;2361767807056</title>\n",
       "<path fill=\"none\" stroke=\"black\" d=\"M431.82,-45.5C439.21,-45.5 447.57,-45.5 456.1,-45.5\"/>\n",
       "<polygon fill=\"black\" stroke=\"black\" points=\"455.83,-49 465.83,-45.5 455.83,-42 455.83,-49\"/>\n",
       "</g>\n",
       "<!-- 2361773671184 -->\n",
       "<g id=\"node4\" class=\"node\">\n",
       "<title>2361773671184</title>\n",
       "<polygon fill=\"none\" stroke=\"black\" points=\"234.12,-55.5 234.12,-91.5 340.38,-91.5 340.38,-55.5 234.12,-55.5\"/>\n",
       "<text text-anchor=\"middle\" x=\"245.12\" y=\"-68.7\" font-family=\"Times New Roman,serif\" font-size=\"14.00\">e</text>\n",
       "<polyline fill=\"none\" stroke=\"black\" points=\"256.12,-56 256.12,-91.5\"/>\n",
       "<text text-anchor=\"middle\" x=\"298.25\" y=\"-68.7\" font-family=\"Times New Roman,serif\" font-size=\"14.00\">data &#45;6.0000</text>\n",
       "</g>\n",
       "<!-- 2361773671184&#45;&gt;2361767807056+ -->\n",
       "<g id=\"edge5\" class=\"edge\">\n",
       "<title>2361773671184&#45;&gt;2361767807056+</title>\n",
       "<path fill=\"none\" stroke=\"black\" d=\"M340.82,-60.73C349.88,-58.53 359.11,-56.29 367.6,-54.22\"/>\n",
       "<polygon fill=\"black\" stroke=\"black\" points=\"368.27,-57.66 377.16,-51.9 366.62,-50.86 368.27,-57.66\"/>\n",
       "</g>\n",
       "<!-- 2361773671184*&#45;&gt;2361773671184 -->\n",
       "<g id=\"edge2\" class=\"edge\">\n",
       "<title>2361773671184*&#45;&gt;2361773671184</title>\n",
       "<path fill=\"none\" stroke=\"black\" d=\"M197.44,-73.5C205.1,-73.5 213.82,-73.5 222.73,-73.5\"/>\n",
       "<polygon fill=\"black\" stroke=\"black\" points=\"222.53,-77 232.53,-73.5 222.53,-70 222.53,-77\"/>\n",
       "</g>\n",
       "<!-- 2361731950416 -->\n",
       "<g id=\"node6\" class=\"node\">\n",
       "<title>2361731950416</title>\n",
       "<polygon fill=\"none\" stroke=\"black\" points=\"0,-28.5 0,-64.5 107,-64.5 107,-28.5 0,-28.5\"/>\n",
       "<text text-anchor=\"middle\" x=\"11.38\" y=\"-41.7\" font-family=\"Times New Roman,serif\" font-size=\"14.00\">b</text>\n",
       "<polyline fill=\"none\" stroke=\"black\" points=\"22.75,-29 22.75,-64.5\"/>\n",
       "<text text-anchor=\"middle\" x=\"64.88\" y=\"-41.7\" font-family=\"Times New Roman,serif\" font-size=\"14.00\">data &#45;3.0000</text>\n",
       "</g>\n",
       "<!-- 2361731950416&#45;&gt;2361773671184* -->\n",
       "<g id=\"edge6\" class=\"edge\">\n",
       "<title>2361731950416&#45;&gt;2361773671184*</title>\n",
       "<path fill=\"none\" stroke=\"black\" d=\"M107.39,-58.97C116.08,-61.02 124.89,-63.1 133.04,-65.02\"/>\n",
       "<polygon fill=\"black\" stroke=\"black\" points=\"132.01,-68.37 142.55,-67.26 133.62,-61.56 132.01,-68.37\"/>\n",
       "</g>\n",
       "<!-- 2361773680592 -->\n",
       "<g id=\"node7\" class=\"node\">\n",
       "<title>2361773680592</title>\n",
       "<polygon fill=\"none\" stroke=\"black\" points=\"233,-0.5 233,-36.5 341.5,-36.5 341.5,-0.5 233,-0.5\"/>\n",
       "<text text-anchor=\"middle\" x=\"244\" y=\"-13.7\" font-family=\"Times New Roman,serif\" font-size=\"14.00\">c</text>\n",
       "<polyline fill=\"none\" stroke=\"black\" points=\"255,-1 255,-36.5\"/>\n",
       "<text text-anchor=\"middle\" x=\"298.25\" y=\"-13.7\" font-family=\"Times New Roman,serif\" font-size=\"14.00\">data 10.0000</text>\n",
       "</g>\n",
       "<!-- 2361773680592&#45;&gt;2361767807056+ -->\n",
       "<g id=\"edge3\" class=\"edge\">\n",
       "<title>2361773680592&#45;&gt;2361767807056+</title>\n",
       "<path fill=\"none\" stroke=\"black\" d=\"M341.83,-31.05C350.54,-33.09 359.37,-35.16 367.53,-37.07\"/>\n",
       "<polygon fill=\"black\" stroke=\"black\" points=\"366.52,-40.43 377.05,-39.3 368.11,-33.61 366.52,-40.43\"/>\n",
       "</g>\n",
       "</g>\n",
       "</svg>\n"
      ],
      "text/plain": [
       "<graphviz.graphs.Digraph at 0x225e24d9bd0>"
      ]
     },
     "execution_count": 25,
     "metadata": {},
     "output_type": "execute_result"
    }
   ],
   "source": [
    "draw_dotV2(d)"
   ]
  },
  {
   "cell_type": "code",
   "execution_count": 26,
   "metadata": {},
   "outputs": [
    {
     "data": {
      "image/svg+xml": [
       "<?xml version=\"1.0\" encoding=\"UTF-8\" standalone=\"no\"?>\n",
       "<!DOCTYPE svg PUBLIC \"-//W3C//DTD SVG 1.1//EN\"\n",
       " \"http://www.w3.org/Graphics/SVG/1.1/DTD/svg11.dtd\">\n",
       "<!-- Generated by graphviz version 12.2.1 (20241206.2353)\n",
       " -->\n",
       "<!-- Pages: 1 -->\n",
       "<svg width=\"815pt\" height=\"128pt\"\n",
       " viewBox=\"0.00 0.00 814.75 128.00\" xmlns=\"http://www.w3.org/2000/svg\" xmlns:xlink=\"http://www.w3.org/1999/xlink\">\n",
       "<g id=\"graph0\" class=\"graph\" transform=\"scale(1 1) rotate(0) translate(4 124)\">\n",
       "<polygon fill=\"white\" stroke=\"none\" points=\"-4,4 -4,-124 810.75,-124 810.75,4 -4,4\"/>\n",
       "<!-- 2361733839952 -->\n",
       "<g id=\"node1\" class=\"node\">\n",
       "<title>2361733839952</title>\n",
       "<polygon fill=\"none\" stroke=\"black\" points=\"233,-83.5 233,-119.5 341.5,-119.5 341.5,-83.5 233,-83.5\"/>\n",
       "<text text-anchor=\"middle\" x=\"244\" y=\"-96.7\" font-family=\"Times New Roman,serif\" font-size=\"14.00\">c</text>\n",
       "<polyline fill=\"none\" stroke=\"black\" points=\"255,-84 255,-119.5\"/>\n",
       "<text text-anchor=\"middle\" x=\"298.25\" y=\"-96.7\" font-family=\"Times New Roman,serif\" font-size=\"14.00\">data 10.0000</text>\n",
       "</g>\n",
       "<!-- 2361773492112+ -->\n",
       "<g id=\"node8\" class=\"node\">\n",
       "<title>2361773492112+</title>\n",
       "<ellipse fill=\"none\" stroke=\"black\" cx=\"404.5\" cy=\"-73.5\" rx=\"27\" ry=\"18\"/>\n",
       "<text text-anchor=\"middle\" x=\"404.5\" y=\"-68.45\" font-family=\"Times New Roman,serif\" font-size=\"14.00\">+</text>\n",
       "</g>\n",
       "<!-- 2361733839952&#45;&gt;2361773492112+ -->\n",
       "<g id=\"edge6\" class=\"edge\">\n",
       "<title>2361733839952&#45;&gt;2361773492112+</title>\n",
       "<path fill=\"none\" stroke=\"black\" d=\"M341.83,-88.48C350.54,-86.37 359.37,-84.22 367.53,-82.24\"/>\n",
       "<polygon fill=\"black\" stroke=\"black\" points=\"368.16,-85.69 377.05,-79.93 366.51,-78.89 368.16,-85.69\"/>\n",
       "</g>\n",
       "<!-- 2361773495184 -->\n",
       "<g id=\"node2\" class=\"node\">\n",
       "<title>2361773495184</title>\n",
       "<polygon fill=\"none\" stroke=\"black\" points=\"234.12,-28.5 234.12,-64.5 340.38,-64.5 340.38,-28.5 234.12,-28.5\"/>\n",
       "<text text-anchor=\"middle\" x=\"245.12\" y=\"-41.7\" font-family=\"Times New Roman,serif\" font-size=\"14.00\">e</text>\n",
       "<polyline fill=\"none\" stroke=\"black\" points=\"256.12,-29 256.12,-64.5\"/>\n",
       "<text text-anchor=\"middle\" x=\"298.25\" y=\"-41.7\" font-family=\"Times New Roman,serif\" font-size=\"14.00\">data &#45;6.0000</text>\n",
       "</g>\n",
       "<!-- 2361773495184&#45;&gt;2361773492112+ -->\n",
       "<g id=\"edge7\" class=\"edge\">\n",
       "<title>2361773495184&#45;&gt;2361773492112+</title>\n",
       "<path fill=\"none\" stroke=\"black\" d=\"M340.82,-58.81C349.88,-60.94 359.11,-63.1 367.6,-65.09\"/>\n",
       "<polygon fill=\"black\" stroke=\"black\" points=\"366.63,-68.46 377.16,-67.33 368.22,-61.64 366.63,-68.46\"/>\n",
       "</g>\n",
       "<!-- 2361773495184* -->\n",
       "<g id=\"node3\" class=\"node\">\n",
       "<title>2361773495184*</title>\n",
       "<ellipse fill=\"none\" stroke=\"black\" cx=\"170\" cy=\"-46.5\" rx=\"27\" ry=\"18\"/>\n",
       "<text text-anchor=\"middle\" x=\"170\" y=\"-41.45\" font-family=\"Times New Roman,serif\" font-size=\"14.00\">*</text>\n",
       "</g>\n",
       "<!-- 2361773495184*&#45;&gt;2361773495184 -->\n",
       "<g id=\"edge1\" class=\"edge\">\n",
       "<title>2361773495184*&#45;&gt;2361773495184</title>\n",
       "<path fill=\"none\" stroke=\"black\" d=\"M197.44,-46.5C205.1,-46.5 213.82,-46.5 222.73,-46.5\"/>\n",
       "<polygon fill=\"black\" stroke=\"black\" points=\"222.53,-50 232.53,-46.5 222.53,-43 222.53,-50\"/>\n",
       "</g>\n",
       "<!-- 2361767674000 -->\n",
       "<g id=\"node4\" class=\"node\">\n",
       "<title>2361767674000</title>\n",
       "<polygon fill=\"none\" stroke=\"black\" points=\"0,-56.5 0,-92.5 107,-92.5 107,-56.5 0,-56.5\"/>\n",
       "<text text-anchor=\"middle\" x=\"11.38\" y=\"-69.7\" font-family=\"Times New Roman,serif\" font-size=\"14.00\">b</text>\n",
       "<polyline fill=\"none\" stroke=\"black\" points=\"22.75,-57 22.75,-92.5\"/>\n",
       "<text text-anchor=\"middle\" x=\"64.88\" y=\"-69.7\" font-family=\"Times New Roman,serif\" font-size=\"14.00\">data &#45;3.0000</text>\n",
       "</g>\n",
       "<!-- 2361767674000&#45;&gt;2361773495184* -->\n",
       "<g id=\"edge5\" class=\"edge\">\n",
       "<title>2361767674000&#45;&gt;2361773495184*</title>\n",
       "<path fill=\"none\" stroke=\"black\" d=\"M107.39,-61.57C116.15,-59.42 125.05,-57.25 133.26,-55.24\"/>\n",
       "<polygon fill=\"black\" stroke=\"black\" points=\"133.97,-58.67 142.85,-52.89 132.3,-51.87 133.97,-58.67\"/>\n",
       "</g>\n",
       "<!-- 2361773501584 -->\n",
       "<g id=\"node5\" class=\"node\">\n",
       "<title>2361773501584</title>\n",
       "<polygon fill=\"none\" stroke=\"black\" points=\"467.5,-0.5 467.5,-36.5 572.25,-36.5 572.25,-0.5 467.5,-0.5\"/>\n",
       "<text text-anchor=\"middle\" x=\"477.75\" y=\"-13.7\" font-family=\"Times New Roman,serif\" font-size=\"14.00\">f</text>\n",
       "<polyline fill=\"none\" stroke=\"black\" points=\"488,-1 488,-36.5\"/>\n",
       "<text text-anchor=\"middle\" x=\"530.12\" y=\"-13.7\" font-family=\"Times New Roman,serif\" font-size=\"14.00\">data &#45;2.0000</text>\n",
       "</g>\n",
       "<!-- 2361733304784* -->\n",
       "<g id=\"node10\" class=\"node\">\n",
       "<title>2361733304784*</title>\n",
       "<ellipse fill=\"none\" stroke=\"black\" cx=\"635.25\" cy=\"-45.5\" rx=\"27\" ry=\"18\"/>\n",
       "<text text-anchor=\"middle\" x=\"635.25\" y=\"-40.45\" font-family=\"Times New Roman,serif\" font-size=\"14.00\">*</text>\n",
       "</g>\n",
       "<!-- 2361773501584&#45;&gt;2361733304784* -->\n",
       "<g id=\"edge8\" class=\"edge\">\n",
       "<title>2361773501584&#45;&gt;2361733304784*</title>\n",
       "<path fill=\"none\" stroke=\"black\" d=\"M572.59,-30.81C581.32,-32.89 590.21,-35.01 598.42,-36.97\"/>\n",
       "<polygon fill=\"black\" stroke=\"black\" points=\"597.48,-40.34 608.02,-39.25 599.1,-33.53 597.48,-40.34\"/>\n",
       "</g>\n",
       "<!-- 2361767677200 -->\n",
       "<g id=\"node6\" class=\"node\">\n",
       "<title>2361767677200</title>\n",
       "<polygon fill=\"none\" stroke=\"black\" points=\"2.62,-1.5 2.62,-37.5 104.38,-37.5 104.38,-1.5 2.62,-1.5\"/>\n",
       "<text text-anchor=\"middle\" x=\"13.62\" y=\"-14.7\" font-family=\"Times New Roman,serif\" font-size=\"14.00\">a</text>\n",
       "<polyline fill=\"none\" stroke=\"black\" points=\"24.62,-2 24.62,-37.5\"/>\n",
       "<text text-anchor=\"middle\" x=\"64.5\" y=\"-14.7\" font-family=\"Times New Roman,serif\" font-size=\"14.00\">data 2.0000</text>\n",
       "</g>\n",
       "<!-- 2361767677200&#45;&gt;2361773495184* -->\n",
       "<g id=\"edge4\" class=\"edge\">\n",
       "<title>2361767677200&#45;&gt;2361773495184*</title>\n",
       "<path fill=\"none\" stroke=\"black\" d=\"M104.72,-31.34C114.16,-33.57 123.86,-35.86 132.78,-37.96\"/>\n",
       "<polygon fill=\"black\" stroke=\"black\" points=\"131.94,-41.36 142.48,-40.25 133.55,-34.54 131.94,-41.36\"/>\n",
       "</g>\n",
       "<!-- 2361773492112 -->\n",
       "<g id=\"node7\" class=\"node\">\n",
       "<title>2361773492112</title>\n",
       "<polygon fill=\"none\" stroke=\"black\" points=\"468.62,-55.5 468.62,-91.5 571.12,-91.5 571.12,-55.5 468.62,-55.5\"/>\n",
       "<text text-anchor=\"middle\" x=\"480\" y=\"-68.7\" font-family=\"Times New Roman,serif\" font-size=\"14.00\">d</text>\n",
       "<polyline fill=\"none\" stroke=\"black\" points=\"491.38,-56 491.38,-91.5\"/>\n",
       "<text text-anchor=\"middle\" x=\"531.25\" y=\"-68.7\" font-family=\"Times New Roman,serif\" font-size=\"14.00\">data 4.0000</text>\n",
       "</g>\n",
       "<!-- 2361773492112&#45;&gt;2361733304784* -->\n",
       "<g id=\"edge9\" class=\"edge\">\n",
       "<title>2361773492112&#45;&gt;2361733304784*</title>\n",
       "<path fill=\"none\" stroke=\"black\" d=\"M571.59,-60.97C580.67,-58.73 589.96,-56.44 598.51,-54.33\"/>\n",
       "<polygon fill=\"black\" stroke=\"black\" points=\"599.28,-57.74 608.14,-51.95 597.6,-50.95 599.28,-57.74\"/>\n",
       "</g>\n",
       "<!-- 2361773492112+&#45;&gt;2361773492112 -->\n",
       "<g id=\"edge2\" class=\"edge\">\n",
       "<title>2361773492112+&#45;&gt;2361773492112</title>\n",
       "<path fill=\"none\" stroke=\"black\" d=\"M431.8,-73.5C439.43,-73.5 448.11,-73.5 456.96,-73.5\"/>\n",
       "<polygon fill=\"black\" stroke=\"black\" points=\"456.68,-77 466.68,-73.5 456.68,-70 456.68,-77\"/>\n",
       "</g>\n",
       "<!-- 2361733304784 -->\n",
       "<g id=\"node9\" class=\"node\">\n",
       "<title>2361733304784</title>\n",
       "<polygon fill=\"none\" stroke=\"black\" points=\"698.25,-27.5 698.25,-63.5 806.75,-63.5 806.75,-27.5 698.25,-27.5\"/>\n",
       "<text text-anchor=\"middle\" x=\"710.38\" y=\"-40.7\" font-family=\"Times New Roman,serif\" font-size=\"14.00\">L</text>\n",
       "<polyline fill=\"none\" stroke=\"black\" points=\"722.5,-28 722.5,-63.5\"/>\n",
       "<text text-anchor=\"middle\" x=\"764.62\" y=\"-40.7\" font-family=\"Times New Roman,serif\" font-size=\"14.00\">data &#45;8.0000</text>\n",
       "</g>\n",
       "<!-- 2361733304784*&#45;&gt;2361733304784 -->\n",
       "<g id=\"edge3\" class=\"edge\">\n",
       "<title>2361733304784*&#45;&gt;2361733304784</title>\n",
       "<path fill=\"none\" stroke=\"black\" d=\"M662.69,-45.5C669.91,-45.5 678.06,-45.5 686.43,-45.5\"/>\n",
       "<polygon fill=\"black\" stroke=\"black\" points=\"686.39,-49 696.39,-45.5 686.39,-42 686.39,-49\"/>\n",
       "</g>\n",
       "</g>\n",
       "</svg>\n"
      ],
      "text/plain": [
       "<graphviz.graphs.Digraph at 0x225e4ab9990>"
      ]
     },
     "execution_count": 26,
     "metadata": {},
     "output_type": "execute_result"
    }
   ],
   "source": [
    "a = Value(2.0, label='a')\n",
    "b = Value(-3.0, label='b')\n",
    "c = Value(10.0, label='c')\n",
    "\n",
    "e = a * b; e.label = 'e'\n",
    "d = e + c; d.label = 'd'\n",
    "\n",
    "f = Value(-2.0, label='f')\n",
    "L = d * f; L.label = 'L'\n",
    "\n",
    "draw_dotV2(L)"
   ]
  },
  {
   "cell_type": "markdown",
   "metadata": {},
   "source": [
    "- We've got the mathematical expression that produces the single output `L` (forward pass)\n",
    "- Now we want to do backpropagation: start at the end and compute partial derivatives until we reach the leaf nodes\n",
    "\n",
    "In NNs we are interested in derivatives of `L` wrt. particular leaf nodes (the model parameters). So each node should store it's derivative wrt. `L`"
   ]
  },
  {
   "cell_type": "markdown",
   "metadata": {},
   "source": [
    "## Storing gradients\n",
    "\n",
    "We will create a variable that stores the gradient of L wrt. to the Value object at hand"
   ]
  },
  {
   "cell_type": "code",
   "execution_count": 27,
   "metadata": {},
   "outputs": [
    {
     "data": {
      "image/svg+xml": [
       "<?xml version=\"1.0\" encoding=\"UTF-8\" standalone=\"no\"?>\n",
       "<!DOCTYPE svg PUBLIC \"-//W3C//DTD SVG 1.1//EN\"\n",
       " \"http://www.w3.org/Graphics/SVG/1.1/DTD/svg11.dtd\">\n",
       "<!-- Generated by graphviz version 12.2.1 (20241206.2353)\n",
       " -->\n",
       "<!-- Pages: 1 -->\n",
       "<svg width=\"1140pt\" height=\"154pt\"\n",
       " viewBox=\"0.00 0.00 1139.75 154.00\" xmlns=\"http://www.w3.org/2000/svg\" xmlns:xlink=\"http://www.w3.org/1999/xlink\">\n",
       "<g id=\"graph0\" class=\"graph\" transform=\"scale(1 1) rotate(0) translate(4 150)\">\n",
       "<polygon fill=\"white\" stroke=\"none\" points=\"-4,4 -4,-150 1135.75,-150 1135.75,4 -4,4\"/>\n",
       "<!-- 2361733883920 -->\n",
       "<g id=\"node1\" class=\"node\">\n",
       "<title>2361733883920</title>\n",
       "<polygon fill=\"none\" stroke=\"black\" points=\"631.12,-54.5 631.12,-90.5 814.88,-90.5 814.88,-54.5 631.12,-54.5\"/>\n",
       "<text text-anchor=\"middle\" x=\"642.5\" y=\"-67.7\" font-family=\"Times New Roman,serif\" font-size=\"14.00\">d</text>\n",
       "<polyline fill=\"none\" stroke=\"black\" points=\"653.88,-55 653.88,-90.5\"/>\n",
       "<text text-anchor=\"middle\" x=\"693.75\" y=\"-67.7\" font-family=\"Times New Roman,serif\" font-size=\"14.00\">data 4.0000</text>\n",
       "<polyline fill=\"none\" stroke=\"black\" points=\"733.62,-55 733.62,-90.5\"/>\n",
       "<text text-anchor=\"middle\" x=\"774.25\" y=\"-67.7\" font-family=\"Times New Roman,serif\" font-size=\"14.00\">grad 0.0000</text>\n",
       "</g>\n",
       "<!-- 2361773866704* -->\n",
       "<g id=\"node4\" class=\"node\">\n",
       "<title>2361773866704*</title>\n",
       "<ellipse fill=\"none\" stroke=\"black\" cx=\"879\" cy=\"-99.5\" rx=\"27\" ry=\"18\"/>\n",
       "<text text-anchor=\"middle\" x=\"879\" y=\"-94.45\" font-family=\"Times New Roman,serif\" font-size=\"14.00\">*</text>\n",
       "</g>\n",
       "<!-- 2361733883920&#45;&gt;2361773866704* -->\n",
       "<g id=\"edge6\" class=\"edge\">\n",
       "<title>2361733883920&#45;&gt;2361773866704*</title>\n",
       "<path fill=\"none\" stroke=\"black\" d=\"M815.36,-88.52C824.5,-90.12 833.36,-91.67 841.4,-93.08\"/>\n",
       "<polygon fill=\"black\" stroke=\"black\" points=\"840.58,-96.49 851.04,-94.77 841.79,-89.6 840.58,-96.49\"/>\n",
       "</g>\n",
       "<!-- 2361733883920+ -->\n",
       "<g id=\"node2\" class=\"node\">\n",
       "<title>2361733883920+</title>\n",
       "<ellipse fill=\"none\" stroke=\"black\" cx=\"567\" cy=\"-72.5\" rx=\"27\" ry=\"18\"/>\n",
       "<text text-anchor=\"middle\" x=\"567\" y=\"-67.45\" font-family=\"Times New Roman,serif\" font-size=\"14.00\">+</text>\n",
       "</g>\n",
       "<!-- 2361733883920+&#45;&gt;2361733883920 -->\n",
       "<g id=\"edge1\" class=\"edge\">\n",
       "<title>2361733883920+&#45;&gt;2361733883920</title>\n",
       "<path fill=\"none\" stroke=\"black\" d=\"M594.47,-72.5C601.87,-72.5 610.38,-72.5 619.43,-72.5\"/>\n",
       "<polygon fill=\"black\" stroke=\"black\" points=\"619.17,-76 629.17,-72.5 619.17,-69 619.17,-76\"/>\n",
       "</g>\n",
       "<!-- 2361773866704 -->\n",
       "<g id=\"node3\" class=\"node\">\n",
       "<title>2361773866704</title>\n",
       "<polygon fill=\"none\" stroke=\"black\" points=\"942,-81.5 942,-117.5 1131.75,-117.5 1131.75,-81.5 942,-81.5\"/>\n",
       "<text text-anchor=\"middle\" x=\"954.12\" y=\"-94.7\" font-family=\"Times New Roman,serif\" font-size=\"14.00\">L</text>\n",
       "<polyline fill=\"none\" stroke=\"black\" points=\"966.25,-82 966.25,-117.5\"/>\n",
       "<text text-anchor=\"middle\" x=\"1008.38\" y=\"-94.7\" font-family=\"Times New Roman,serif\" font-size=\"14.00\">data &#45;8.0000</text>\n",
       "<polyline fill=\"none\" stroke=\"black\" points=\"1050.5,-82 1050.5,-117.5\"/>\n",
       "<text text-anchor=\"middle\" x=\"1091.12\" y=\"-94.7\" font-family=\"Times New Roman,serif\" font-size=\"14.00\">grad 0.0000</text>\n",
       "</g>\n",
       "<!-- 2361773866704*&#45;&gt;2361773866704 -->\n",
       "<g id=\"edge2\" class=\"edge\">\n",
       "<title>2361773866704*&#45;&gt;2361773866704</title>\n",
       "<path fill=\"none\" stroke=\"black\" d=\"M906.44,-99.5C913.59,-99.5 921.78,-99.5 930.49,-99.5\"/>\n",
       "<polygon fill=\"black\" stroke=\"black\" points=\"930.26,-103 940.26,-99.5 930.26,-96 930.26,-103\"/>\n",
       "</g>\n",
       "<!-- 2361733499600 -->\n",
       "<g id=\"node5\" class=\"node\">\n",
       "<title>2361733499600</title>\n",
       "<polygon fill=\"none\" stroke=\"black\" points=\"314.25,-82.5 314.25,-118.5 504,-118.5 504,-82.5 314.25,-82.5\"/>\n",
       "<text text-anchor=\"middle\" x=\"325.25\" y=\"-95.7\" font-family=\"Times New Roman,serif\" font-size=\"14.00\">c</text>\n",
       "<polyline fill=\"none\" stroke=\"black\" points=\"336.25,-83 336.25,-118.5\"/>\n",
       "<text text-anchor=\"middle\" x=\"379.5\" y=\"-95.7\" font-family=\"Times New Roman,serif\" font-size=\"14.00\">data 10.0000</text>\n",
       "<polyline fill=\"none\" stroke=\"black\" points=\"422.75,-83 422.75,-118.5\"/>\n",
       "<text text-anchor=\"middle\" x=\"463.38\" y=\"-95.7\" font-family=\"Times New Roman,serif\" font-size=\"14.00\">grad 0.0000</text>\n",
       "</g>\n",
       "<!-- 2361733499600&#45;&gt;2361733883920+ -->\n",
       "<g id=\"edge5\" class=\"edge\">\n",
       "<title>2361733499600&#45;&gt;2361733883920+</title>\n",
       "<path fill=\"none\" stroke=\"black\" d=\"M504.39,-83.57C513.16,-81.99 521.65,-80.47 529.37,-79.08\"/>\n",
       "<polygon fill=\"black\" stroke=\"black\" points=\"529.73,-82.57 538.95,-77.36 528.49,-75.68 529.73,-82.57\"/>\n",
       "</g>\n",
       "<!-- 2361773865232 -->\n",
       "<g id=\"node6\" class=\"node\">\n",
       "<title>2361773865232</title>\n",
       "<polygon fill=\"none\" stroke=\"black\" points=\"630,-109.5 630,-145.5 816,-145.5 816,-109.5 630,-109.5\"/>\n",
       "<text text-anchor=\"middle\" x=\"640.25\" y=\"-122.7\" font-family=\"Times New Roman,serif\" font-size=\"14.00\">f</text>\n",
       "<polyline fill=\"none\" stroke=\"black\" points=\"650.5,-110 650.5,-145.5\"/>\n",
       "<text text-anchor=\"middle\" x=\"692.62\" y=\"-122.7\" font-family=\"Times New Roman,serif\" font-size=\"14.00\">data &#45;2.0000</text>\n",
       "<polyline fill=\"none\" stroke=\"black\" points=\"734.75,-110 734.75,-145.5\"/>\n",
       "<text text-anchor=\"middle\" x=\"775.38\" y=\"-122.7\" font-family=\"Times New Roman,serif\" font-size=\"14.00\">grad 0.0000</text>\n",
       "</g>\n",
       "<!-- 2361773865232&#45;&gt;2361773866704* -->\n",
       "<g id=\"edge4\" class=\"edge\">\n",
       "<title>2361773865232&#45;&gt;2361773866704*</title>\n",
       "<path fill=\"none\" stroke=\"black\" d=\"M816.25,-110.73C825.1,-109.12 833.67,-107.56 841.46,-106.14\"/>\n",
       "<polygon fill=\"black\" stroke=\"black\" points=\"841.93,-109.62 851.15,-104.38 840.68,-102.73 841.93,-109.62\"/>\n",
       "</g>\n",
       "<!-- 2361733216080 -->\n",
       "<g id=\"node7\" class=\"node\">\n",
       "<title>2361733216080</title>\n",
       "<polygon fill=\"none\" stroke=\"black\" points=\"315.38,-27.5 315.38,-63.5 502.88,-63.5 502.88,-27.5 315.38,-27.5\"/>\n",
       "<text text-anchor=\"middle\" x=\"326.38\" y=\"-40.7\" font-family=\"Times New Roman,serif\" font-size=\"14.00\">e</text>\n",
       "<polyline fill=\"none\" stroke=\"black\" points=\"337.38,-28 337.38,-63.5\"/>\n",
       "<text text-anchor=\"middle\" x=\"379.5\" y=\"-40.7\" font-family=\"Times New Roman,serif\" font-size=\"14.00\">data &#45;6.0000</text>\n",
       "<polyline fill=\"none\" stroke=\"black\" points=\"421.62,-28 421.62,-63.5\"/>\n",
       "<text text-anchor=\"middle\" x=\"462.25\" y=\"-40.7\" font-family=\"Times New Roman,serif\" font-size=\"14.00\">grad 0.0000</text>\n",
       "</g>\n",
       "<!-- 2361733216080&#45;&gt;2361733883920+ -->\n",
       "<g id=\"edge8\" class=\"edge\">\n",
       "<title>2361733216080&#45;&gt;2361733883920+</title>\n",
       "<path fill=\"none\" stroke=\"black\" d=\"M503.05,-61.6C512.25,-63.19 521.16,-64.73 529.24,-66.13\"/>\n",
       "<polygon fill=\"black\" stroke=\"black\" points=\"528.48,-69.55 538.93,-67.81 529.68,-62.66 528.48,-69.55\"/>\n",
       "</g>\n",
       "<!-- 2361733216080* -->\n",
       "<g id=\"node8\" class=\"node\">\n",
       "<title>2361733216080*</title>\n",
       "<ellipse fill=\"none\" stroke=\"black\" cx=\"251.25\" cy=\"-45.5\" rx=\"27\" ry=\"18\"/>\n",
       "<text text-anchor=\"middle\" x=\"251.25\" y=\"-40.45\" font-family=\"Times New Roman,serif\" font-size=\"14.00\">*</text>\n",
       "</g>\n",
       "<!-- 2361733216080*&#45;&gt;2361733216080 -->\n",
       "<g id=\"edge3\" class=\"edge\">\n",
       "<title>2361733216080*&#45;&gt;2361733216080</title>\n",
       "<path fill=\"none\" stroke=\"black\" d=\"M278.69,-45.5C286.1,-45.5 294.64,-45.5 303.71,-45.5\"/>\n",
       "<polygon fill=\"black\" stroke=\"black\" points=\"303.51,-49 313.51,-45.5 303.51,-42 303.51,-49\"/>\n",
       "</g>\n",
       "<!-- 2361729313168 -->\n",
       "<g id=\"node9\" class=\"node\">\n",
       "<title>2361729313168</title>\n",
       "<polygon fill=\"none\" stroke=\"black\" points=\"0,-55.5 0,-91.5 188.25,-91.5 188.25,-55.5 0,-55.5\"/>\n",
       "<text text-anchor=\"middle\" x=\"11.38\" y=\"-68.7\" font-family=\"Times New Roman,serif\" font-size=\"14.00\">b</text>\n",
       "<polyline fill=\"none\" stroke=\"black\" points=\"22.75,-56 22.75,-91.5\"/>\n",
       "<text text-anchor=\"middle\" x=\"64.88\" y=\"-68.7\" font-family=\"Times New Roman,serif\" font-size=\"14.00\">data &#45;3.0000</text>\n",
       "<polyline fill=\"none\" stroke=\"black\" points=\"107,-56 107,-91.5\"/>\n",
       "<text text-anchor=\"middle\" x=\"147.62\" y=\"-68.7\" font-family=\"Times New Roman,serif\" font-size=\"14.00\">grad 0.0000</text>\n",
       "</g>\n",
       "<!-- 2361729313168&#45;&gt;2361733216080* -->\n",
       "<g id=\"edge7\" class=\"edge\">\n",
       "<title>2361729313168&#45;&gt;2361733216080*</title>\n",
       "<path fill=\"none\" stroke=\"black\" d=\"M188.49,-56.65C197.36,-55.05 205.93,-53.5 213.73,-52.09\"/>\n",
       "<polygon fill=\"black\" stroke=\"black\" points=\"214.2,-55.56 223.42,-50.34 212.95,-48.68 214.2,-55.56\"/>\n",
       "</g>\n",
       "<!-- 2361773865936 -->\n",
       "<g id=\"node10\" class=\"node\">\n",
       "<title>2361773865936</title>\n",
       "<polygon fill=\"none\" stroke=\"black\" points=\"2.62,-0.5 2.62,-36.5 185.62,-36.5 185.62,-0.5 2.62,-0.5\"/>\n",
       "<text text-anchor=\"middle\" x=\"13.62\" y=\"-13.7\" font-family=\"Times New Roman,serif\" font-size=\"14.00\">a</text>\n",
       "<polyline fill=\"none\" stroke=\"black\" points=\"24.62,-1 24.62,-36.5\"/>\n",
       "<text text-anchor=\"middle\" x=\"64.5\" y=\"-13.7\" font-family=\"Times New Roman,serif\" font-size=\"14.00\">data 2.0000</text>\n",
       "<polyline fill=\"none\" stroke=\"black\" points=\"104.38,-1 104.38,-36.5\"/>\n",
       "<text text-anchor=\"middle\" x=\"145\" y=\"-13.7\" font-family=\"Times New Roman,serif\" font-size=\"14.00\">grad 0.0000</text>\n",
       "</g>\n",
       "<!-- 2361773865936&#45;&gt;2361733216080* -->\n",
       "<g id=\"edge9\" class=\"edge\">\n",
       "<title>2361773865936&#45;&gt;2361733216080*</title>\n",
       "<path fill=\"none\" stroke=\"black\" d=\"M185.81,-34.28C195.45,-35.96 204.82,-37.59 213.29,-39.07\"/>\n",
       "<polygon fill=\"black\" stroke=\"black\" points=\"212.65,-42.51 223.1,-40.77 213.85,-35.61 212.65,-42.51\"/>\n",
       "</g>\n",
       "</g>\n",
       "</svg>\n"
      ],
      "text/plain": [
       "<graphviz.graphs.Digraph at 0x225e4b135d0>"
      ]
     },
     "execution_count": 27,
     "metadata": {},
     "output_type": "execute_result"
    }
   ],
   "source": [
    "class Value:\n",
    "\n",
    "    def __init__(self, data, _children=(), _op='', label=''):\n",
    "        self.data = data\n",
    "        self.grad = 0.0 # at initialization every Value does not impact the output\n",
    "        self._prev = set(_children)\n",
    "        self._op = _op\n",
    "        self.label = label\n",
    "\n",
    "    def __repr__(self):\n",
    "        return f\"Value({self.data})\"\n",
    "    \n",
    "    def __add__(self, other: Value):\n",
    "        return Value(self.data + other.data, (self,other), '+')\n",
    "    \n",
    "    def __mul__(self, other: Value):\n",
    "        return Value(self.data * other.data, (self,other), '*')\n",
    "\n",
    "    def __sub__(self, other: Value):\n",
    "        return Value(self.data - other.data, (self,other), '-')\n",
    "    \n",
    "    def __truediv__(self, other: Value):\n",
    "        return Value(self.data / other.data, (self,other), '/')\n",
    "    \n",
    "\n",
    "a = Value(2.0, label='a')\n",
    "b = Value(-3.0, label='b')\n",
    "c = Value(10.0, label='c')\n",
    "e = a * b; e.label = 'e'\n",
    "d = e + c; d.label = 'd'\n",
    "f = Value(-2.0, label='f')\n",
    "L = d * f; L.label = 'L'\n",
    "\n",
    "draw_dotV3(L)"
   ]
  },
  {
   "cell_type": "markdown",
   "metadata": {},
   "source": [
    "Let's start filling the gradients $\\frac{dL}{d\\text{node}}$ for all nodes starting from the `L` node"
   ]
  },
  {
   "cell_type": "markdown",
   "metadata": {},
   "source": [
    "> How much does L change when we change L?"
   ]
  },
  {
   "cell_type": "code",
   "execution_count": 28,
   "metadata": {},
   "outputs": [
    {
     "name": "stdout",
     "output_type": "stream",
     "text": [
      "0.9999999999976694\n"
     ]
    }
   ],
   "source": [
    "def test_grad():\n",
    "    h = 0.0001\n",
    "\n",
    "    a = Value(2.0, label='a')\n",
    "    b = Value(-3.0, label='b')\n",
    "    c = Value(10.0, label='c')\n",
    "    e = a*b; e.label = 'e'\n",
    "    d = e + c; d.label = 'd'\n",
    "    f = Value(-2.0, label='f')\n",
    "    L = d * f; L.label = 'L'\n",
    "    L1 = L.data\n",
    "\n",
    "    a = Value(2.0, label='a')\n",
    "    b = Value(-3.0, label='b')\n",
    "    c = Value(10.0, label='c')\n",
    "    e = a*b; e.label = 'e'\n",
    "    d = e + c; d.label = 'd'\n",
    "    f = Value(-2.0, label='f')\n",
    "    L = d * f; L.label = 'L'\n",
    "    L2 = L.data + h\n",
    "\n",
    "    print((L2 - L1)/h)\n",
    "\n",
    "test_grad()\n"
   ]
  },
  {
   "cell_type": "code",
   "execution_count": 29,
   "metadata": {},
   "outputs": [
    {
     "data": {
      "image/svg+xml": [
       "<?xml version=\"1.0\" encoding=\"UTF-8\" standalone=\"no\"?>\n",
       "<!DOCTYPE svg PUBLIC \"-//W3C//DTD SVG 1.1//EN\"\n",
       " \"http://www.w3.org/Graphics/SVG/1.1/DTD/svg11.dtd\">\n",
       "<!-- Generated by graphviz version 12.2.1 (20241206.2353)\n",
       " -->\n",
       "<!-- Pages: 1 -->\n",
       "<svg width=\"1140pt\" height=\"154pt\"\n",
       " viewBox=\"0.00 0.00 1139.75 154.00\" xmlns=\"http://www.w3.org/2000/svg\" xmlns:xlink=\"http://www.w3.org/1999/xlink\">\n",
       "<g id=\"graph0\" class=\"graph\" transform=\"scale(1 1) rotate(0) translate(4 150)\">\n",
       "<polygon fill=\"white\" stroke=\"none\" points=\"-4,4 -4,-150 1135.75,-150 1135.75,4 -4,4\"/>\n",
       "<!-- 2361733883920 -->\n",
       "<g id=\"node1\" class=\"node\">\n",
       "<title>2361733883920</title>\n",
       "<polygon fill=\"none\" stroke=\"black\" points=\"631.12,-54.5 631.12,-90.5 814.88,-90.5 814.88,-54.5 631.12,-54.5\"/>\n",
       "<text text-anchor=\"middle\" x=\"642.5\" y=\"-67.7\" font-family=\"Times New Roman,serif\" font-size=\"14.00\">d</text>\n",
       "<polyline fill=\"none\" stroke=\"black\" points=\"653.88,-55 653.88,-90.5\"/>\n",
       "<text text-anchor=\"middle\" x=\"693.75\" y=\"-67.7\" font-family=\"Times New Roman,serif\" font-size=\"14.00\">data 4.0000</text>\n",
       "<polyline fill=\"none\" stroke=\"black\" points=\"733.62,-55 733.62,-90.5\"/>\n",
       "<text text-anchor=\"middle\" x=\"774.25\" y=\"-67.7\" font-family=\"Times New Roman,serif\" font-size=\"14.00\">grad 0.0000</text>\n",
       "</g>\n",
       "<!-- 2361773866704* -->\n",
       "<g id=\"node4\" class=\"node\">\n",
       "<title>2361773866704*</title>\n",
       "<ellipse fill=\"none\" stroke=\"black\" cx=\"879\" cy=\"-99.5\" rx=\"27\" ry=\"18\"/>\n",
       "<text text-anchor=\"middle\" x=\"879\" y=\"-94.45\" font-family=\"Times New Roman,serif\" font-size=\"14.00\">*</text>\n",
       "</g>\n",
       "<!-- 2361733883920&#45;&gt;2361773866704* -->\n",
       "<g id=\"edge6\" class=\"edge\">\n",
       "<title>2361733883920&#45;&gt;2361773866704*</title>\n",
       "<path fill=\"none\" stroke=\"black\" d=\"M815.36,-88.52C824.5,-90.12 833.36,-91.67 841.4,-93.08\"/>\n",
       "<polygon fill=\"black\" stroke=\"black\" points=\"840.58,-96.49 851.04,-94.77 841.79,-89.6 840.58,-96.49\"/>\n",
       "</g>\n",
       "<!-- 2361733883920+ -->\n",
       "<g id=\"node2\" class=\"node\">\n",
       "<title>2361733883920+</title>\n",
       "<ellipse fill=\"none\" stroke=\"black\" cx=\"567\" cy=\"-72.5\" rx=\"27\" ry=\"18\"/>\n",
       "<text text-anchor=\"middle\" x=\"567\" y=\"-67.45\" font-family=\"Times New Roman,serif\" font-size=\"14.00\">+</text>\n",
       "</g>\n",
       "<!-- 2361733883920+&#45;&gt;2361733883920 -->\n",
       "<g id=\"edge1\" class=\"edge\">\n",
       "<title>2361733883920+&#45;&gt;2361733883920</title>\n",
       "<path fill=\"none\" stroke=\"black\" d=\"M594.47,-72.5C601.87,-72.5 610.38,-72.5 619.43,-72.5\"/>\n",
       "<polygon fill=\"black\" stroke=\"black\" points=\"619.17,-76 629.17,-72.5 619.17,-69 619.17,-76\"/>\n",
       "</g>\n",
       "<!-- 2361773866704 -->\n",
       "<g id=\"node3\" class=\"node\">\n",
       "<title>2361773866704</title>\n",
       "<polygon fill=\"none\" stroke=\"black\" points=\"942,-81.5 942,-117.5 1131.75,-117.5 1131.75,-81.5 942,-81.5\"/>\n",
       "<text text-anchor=\"middle\" x=\"954.12\" y=\"-94.7\" font-family=\"Times New Roman,serif\" font-size=\"14.00\">L</text>\n",
       "<polyline fill=\"none\" stroke=\"black\" points=\"966.25,-82 966.25,-117.5\"/>\n",
       "<text text-anchor=\"middle\" x=\"1008.38\" y=\"-94.7\" font-family=\"Times New Roman,serif\" font-size=\"14.00\">data &#45;8.0000</text>\n",
       "<polyline fill=\"none\" stroke=\"black\" points=\"1050.5,-82 1050.5,-117.5\"/>\n",
       "<text text-anchor=\"middle\" x=\"1091.12\" y=\"-94.7\" font-family=\"Times New Roman,serif\" font-size=\"14.00\">grad 1.0000</text>\n",
       "</g>\n",
       "<!-- 2361773866704*&#45;&gt;2361773866704 -->\n",
       "<g id=\"edge2\" class=\"edge\">\n",
       "<title>2361773866704*&#45;&gt;2361773866704</title>\n",
       "<path fill=\"none\" stroke=\"black\" d=\"M906.44,-99.5C913.59,-99.5 921.78,-99.5 930.49,-99.5\"/>\n",
       "<polygon fill=\"black\" stroke=\"black\" points=\"930.26,-103 940.26,-99.5 930.26,-96 930.26,-103\"/>\n",
       "</g>\n",
       "<!-- 2361733499600 -->\n",
       "<g id=\"node5\" class=\"node\">\n",
       "<title>2361733499600</title>\n",
       "<polygon fill=\"none\" stroke=\"black\" points=\"314.25,-82.5 314.25,-118.5 504,-118.5 504,-82.5 314.25,-82.5\"/>\n",
       "<text text-anchor=\"middle\" x=\"325.25\" y=\"-95.7\" font-family=\"Times New Roman,serif\" font-size=\"14.00\">c</text>\n",
       "<polyline fill=\"none\" stroke=\"black\" points=\"336.25,-83 336.25,-118.5\"/>\n",
       "<text text-anchor=\"middle\" x=\"379.5\" y=\"-95.7\" font-family=\"Times New Roman,serif\" font-size=\"14.00\">data 10.0000</text>\n",
       "<polyline fill=\"none\" stroke=\"black\" points=\"422.75,-83 422.75,-118.5\"/>\n",
       "<text text-anchor=\"middle\" x=\"463.38\" y=\"-95.7\" font-family=\"Times New Roman,serif\" font-size=\"14.00\">grad 0.0000</text>\n",
       "</g>\n",
       "<!-- 2361733499600&#45;&gt;2361733883920+ -->\n",
       "<g id=\"edge5\" class=\"edge\">\n",
       "<title>2361733499600&#45;&gt;2361733883920+</title>\n",
       "<path fill=\"none\" stroke=\"black\" d=\"M504.39,-83.57C513.16,-81.99 521.65,-80.47 529.37,-79.08\"/>\n",
       "<polygon fill=\"black\" stroke=\"black\" points=\"529.73,-82.57 538.95,-77.36 528.49,-75.68 529.73,-82.57\"/>\n",
       "</g>\n",
       "<!-- 2361773865232 -->\n",
       "<g id=\"node6\" class=\"node\">\n",
       "<title>2361773865232</title>\n",
       "<polygon fill=\"none\" stroke=\"black\" points=\"630,-109.5 630,-145.5 816,-145.5 816,-109.5 630,-109.5\"/>\n",
       "<text text-anchor=\"middle\" x=\"640.25\" y=\"-122.7\" font-family=\"Times New Roman,serif\" font-size=\"14.00\">f</text>\n",
       "<polyline fill=\"none\" stroke=\"black\" points=\"650.5,-110 650.5,-145.5\"/>\n",
       "<text text-anchor=\"middle\" x=\"692.62\" y=\"-122.7\" font-family=\"Times New Roman,serif\" font-size=\"14.00\">data &#45;2.0000</text>\n",
       "<polyline fill=\"none\" stroke=\"black\" points=\"734.75,-110 734.75,-145.5\"/>\n",
       "<text text-anchor=\"middle\" x=\"775.38\" y=\"-122.7\" font-family=\"Times New Roman,serif\" font-size=\"14.00\">grad 0.0000</text>\n",
       "</g>\n",
       "<!-- 2361773865232&#45;&gt;2361773866704* -->\n",
       "<g id=\"edge4\" class=\"edge\">\n",
       "<title>2361773865232&#45;&gt;2361773866704*</title>\n",
       "<path fill=\"none\" stroke=\"black\" d=\"M816.25,-110.73C825.1,-109.12 833.67,-107.56 841.46,-106.14\"/>\n",
       "<polygon fill=\"black\" stroke=\"black\" points=\"841.93,-109.62 851.15,-104.38 840.68,-102.73 841.93,-109.62\"/>\n",
       "</g>\n",
       "<!-- 2361733216080 -->\n",
       "<g id=\"node7\" class=\"node\">\n",
       "<title>2361733216080</title>\n",
       "<polygon fill=\"none\" stroke=\"black\" points=\"315.38,-27.5 315.38,-63.5 502.88,-63.5 502.88,-27.5 315.38,-27.5\"/>\n",
       "<text text-anchor=\"middle\" x=\"326.38\" y=\"-40.7\" font-family=\"Times New Roman,serif\" font-size=\"14.00\">e</text>\n",
       "<polyline fill=\"none\" stroke=\"black\" points=\"337.38,-28 337.38,-63.5\"/>\n",
       "<text text-anchor=\"middle\" x=\"379.5\" y=\"-40.7\" font-family=\"Times New Roman,serif\" font-size=\"14.00\">data &#45;6.0000</text>\n",
       "<polyline fill=\"none\" stroke=\"black\" points=\"421.62,-28 421.62,-63.5\"/>\n",
       "<text text-anchor=\"middle\" x=\"462.25\" y=\"-40.7\" font-family=\"Times New Roman,serif\" font-size=\"14.00\">grad 0.0000</text>\n",
       "</g>\n",
       "<!-- 2361733216080&#45;&gt;2361733883920+ -->\n",
       "<g id=\"edge8\" class=\"edge\">\n",
       "<title>2361733216080&#45;&gt;2361733883920+</title>\n",
       "<path fill=\"none\" stroke=\"black\" d=\"M503.05,-61.6C512.25,-63.19 521.16,-64.73 529.24,-66.13\"/>\n",
       "<polygon fill=\"black\" stroke=\"black\" points=\"528.48,-69.55 538.93,-67.81 529.68,-62.66 528.48,-69.55\"/>\n",
       "</g>\n",
       "<!-- 2361733216080* -->\n",
       "<g id=\"node8\" class=\"node\">\n",
       "<title>2361733216080*</title>\n",
       "<ellipse fill=\"none\" stroke=\"black\" cx=\"251.25\" cy=\"-45.5\" rx=\"27\" ry=\"18\"/>\n",
       "<text text-anchor=\"middle\" x=\"251.25\" y=\"-40.45\" font-family=\"Times New Roman,serif\" font-size=\"14.00\">*</text>\n",
       "</g>\n",
       "<!-- 2361733216080*&#45;&gt;2361733216080 -->\n",
       "<g id=\"edge3\" class=\"edge\">\n",
       "<title>2361733216080*&#45;&gt;2361733216080</title>\n",
       "<path fill=\"none\" stroke=\"black\" d=\"M278.69,-45.5C286.1,-45.5 294.64,-45.5 303.71,-45.5\"/>\n",
       "<polygon fill=\"black\" stroke=\"black\" points=\"303.51,-49 313.51,-45.5 303.51,-42 303.51,-49\"/>\n",
       "</g>\n",
       "<!-- 2361729313168 -->\n",
       "<g id=\"node9\" class=\"node\">\n",
       "<title>2361729313168</title>\n",
       "<polygon fill=\"none\" stroke=\"black\" points=\"0,-55.5 0,-91.5 188.25,-91.5 188.25,-55.5 0,-55.5\"/>\n",
       "<text text-anchor=\"middle\" x=\"11.38\" y=\"-68.7\" font-family=\"Times New Roman,serif\" font-size=\"14.00\">b</text>\n",
       "<polyline fill=\"none\" stroke=\"black\" points=\"22.75,-56 22.75,-91.5\"/>\n",
       "<text text-anchor=\"middle\" x=\"64.88\" y=\"-68.7\" font-family=\"Times New Roman,serif\" font-size=\"14.00\">data &#45;3.0000</text>\n",
       "<polyline fill=\"none\" stroke=\"black\" points=\"107,-56 107,-91.5\"/>\n",
       "<text text-anchor=\"middle\" x=\"147.62\" y=\"-68.7\" font-family=\"Times New Roman,serif\" font-size=\"14.00\">grad 0.0000</text>\n",
       "</g>\n",
       "<!-- 2361729313168&#45;&gt;2361733216080* -->\n",
       "<g id=\"edge7\" class=\"edge\">\n",
       "<title>2361729313168&#45;&gt;2361733216080*</title>\n",
       "<path fill=\"none\" stroke=\"black\" d=\"M188.49,-56.65C197.36,-55.05 205.93,-53.5 213.73,-52.09\"/>\n",
       "<polygon fill=\"black\" stroke=\"black\" points=\"214.2,-55.56 223.42,-50.34 212.95,-48.68 214.2,-55.56\"/>\n",
       "</g>\n",
       "<!-- 2361773865936 -->\n",
       "<g id=\"node10\" class=\"node\">\n",
       "<title>2361773865936</title>\n",
       "<polygon fill=\"none\" stroke=\"black\" points=\"2.62,-0.5 2.62,-36.5 185.62,-36.5 185.62,-0.5 2.62,-0.5\"/>\n",
       "<text text-anchor=\"middle\" x=\"13.62\" y=\"-13.7\" font-family=\"Times New Roman,serif\" font-size=\"14.00\">a</text>\n",
       "<polyline fill=\"none\" stroke=\"black\" points=\"24.62,-1 24.62,-36.5\"/>\n",
       "<text text-anchor=\"middle\" x=\"64.5\" y=\"-13.7\" font-family=\"Times New Roman,serif\" font-size=\"14.00\">data 2.0000</text>\n",
       "<polyline fill=\"none\" stroke=\"black\" points=\"104.38,-1 104.38,-36.5\"/>\n",
       "<text text-anchor=\"middle\" x=\"145\" y=\"-13.7\" font-family=\"Times New Roman,serif\" font-size=\"14.00\">grad 0.0000</text>\n",
       "</g>\n",
       "<!-- 2361773865936&#45;&gt;2361733216080* -->\n",
       "<g id=\"edge9\" class=\"edge\">\n",
       "<title>2361773865936&#45;&gt;2361733216080*</title>\n",
       "<path fill=\"none\" stroke=\"black\" d=\"M185.81,-34.28C195.45,-35.96 204.82,-37.59 213.29,-39.07\"/>\n",
       "<polygon fill=\"black\" stroke=\"black\" points=\"212.65,-42.51 223.1,-40.77 213.85,-35.61 212.65,-42.51\"/>\n",
       "</g>\n",
       "</g>\n",
       "</svg>\n"
      ],
      "text/plain": [
       "<graphviz.graphs.Digraph at 0x225e20aaf90>"
      ]
     },
     "execution_count": 29,
     "metadata": {},
     "output_type": "execute_result"
    }
   ],
   "source": [
    "L.grad = 1.0\n",
    "draw_dotV3(L)"
   ]
  },
  {
   "cell_type": "markdown",
   "metadata": {},
   "source": [
    "Now let's continue the backpropagation:\n",
    "\n",
    "1. $\\frac{dL}{d\\text{d}} = \\frac{dL}{d\\text{L}} \\cdot \\frac{dL}{d\\text{d}}$\n",
    "\n",
    "2. $\\frac{dL}{df} = \\frac{dL}{d\\text{L}} \\cdot \\frac{dL}{d\\text{f}}$"
   ]
  },
  {
   "cell_type": "code",
   "execution_count": 30,
   "metadata": {},
   "outputs": [],
   "source": [
    "# set manually\n",
    "d.grad = -2.0 * L.grad\n",
    "f.grad = 4.0 * L.grad"
   ]
  },
  {
   "cell_type": "markdown",
   "metadata": {},
   "source": [
    "Aaaand we continue:\n",
    "\n",
    "1. $\\frac{dL}{d\\text{e}} = \\frac{dL}{d\\text{d}} \\cdot \\frac{dd}{d\\text{e}}$\n",
    "\n",
    "2. $\\frac{dL}{dc} = \\frac{dL}{d\\text{d}} \\cdot \\frac{dd}{d\\text{c}}$"
   ]
  },
  {
   "cell_type": "code",
   "execution_count": 31,
   "metadata": {},
   "outputs": [],
   "source": [
    "# set manually\n",
    "e.grad = 1 * d.grad\n",
    "c.grad = 1 * d.grad"
   ]
  },
  {
   "cell_type": "markdown",
   "metadata": {},
   "source": [
    "## Exercise: fill out the remaining gradients \n",
    "\n",
    "1. $\\frac{dL}{da}$\n",
    "\n",
    "2. $\\frac{dL}{db}$"
   ]
  },
  {
   "cell_type": "code",
   "execution_count": null,
   "metadata": {},
   "outputs": [],
   "source": [
    "# Exercise\n",
    "a.grad = #...\n",
    "b.grad = #..."
   ]
  },
  {
   "cell_type": "code",
   "execution_count": 67,
   "metadata": {},
   "outputs": [],
   "source": [
    "draw_dotV3(L)"
   ]
  },
  {
   "cell_type": "markdown",
   "metadata": {},
   "source": [
    "confirm these are correct using `test_grad` function"
   ]
  },
  {
   "cell_type": "code",
   "execution_count": null,
   "metadata": {},
   "outputs": [],
   "source": [
    "def test_grad():\n",
    "    h = 0.0001\n",
    "\n",
    "    a = Value(2.0, label='a')\n",
    "    b = Value(-3.0, label='b')\n",
    "    c = Value(10.0, label='c')\n",
    "    e = a*b; e.label = 'e'\n",
    "    d = e + c; d.label = 'd'\n",
    "    f = Value(-2.0, label='f')\n",
    "    L = d * f; L.label = 'L'\n",
    "    L1 = L.data\n",
    "\n",
    "    a = Value(2.0, label='a') \n",
    "    a.data = a.data + h\n",
    "    b = Value(-3.0, label='b')\n",
    "    c = Value(10.0, label='c')\n",
    "    e = a*b; e.label = 'e'\n",
    "    d = e + c; d.label = 'd'\n",
    "    f = Value(-2.0, label='f')\n",
    "    L = d * f; L.label = 'L'\n",
    "    L2 = L.data\n",
    "\n",
    "    print((L2 - L1)/h)\n",
    "\n",
    "test_grad()\n"
   ]
  },
  {
   "cell_type": "markdown",
   "metadata": {},
   "source": [
    "----"
   ]
  },
  {
   "cell_type": "markdown",
   "metadata": {},
   "source": [
    "Here's what've we've done manually:\n",
    "1. Started from the output node\n",
    "2. compute partial derivatives to the child nodes\n",
    "3. do this recursively until we reach the leaf nodes\n",
    "4. accumulate all partial derivatives (by multiplication) as we go to always have $\\frac{dL}{d\\text{node}}$\n",
    "\n",
    "\n",
    "This is what's called `backpropagation`"
   ]
  },
  {
   "cell_type": "markdown",
   "metadata": {},
   "source": [
    "> Q: What happens to `L` if we now update all leaf nodes by a little bit in the direction of the gradient wrt `L`?"
   ]
  },
  {
   "cell_type": "code",
   "execution_count": null,
   "metadata": {},
   "outputs": [],
   "source": [
    "L"
   ]
  },
  {
   "cell_type": "code",
   "execution_count": null,
   "metadata": {},
   "outputs": [],
   "source": [
    "a.data += 0.01 * a.grad\n",
    "b.data += 0.01 * b.grad\n",
    "c.data += 0.01 * c.grad\n",
    "f.data += 0.01 * f.grad\n",
    "\n",
    "e = a * b\n",
    "d = e + c\n",
    "L = d * f\n",
    "\n",
    "print(L.data)"
   ]
  },
  {
   "cell_type": "markdown",
   "metadata": {},
   "source": [
    "# We want to build MLPs\n",
    "\n",
    "![](https://miro.medium.com/v2/resize:fit:563/1*4_BDTvgB6WoYVXyxO8lDGA.png)"
   ]
  },
  {
   "cell_type": "markdown",
   "metadata": {},
   "source": [
    "1. They contain addition and multiplication operations\n",
    "2. They also contain activation functions"
   ]
  },
  {
   "cell_type": "markdown",
   "metadata": {},
   "source": [
    "![](https://cs231n.github.io/assets/nn1/neuron_model.jpeg)"
   ]
  },
  {
   "cell_type": "code",
   "execution_count": null,
   "metadata": {},
   "outputs": [],
   "source": [
    "plt.plot(np.arange(-5,5,0.2), np.tanh(np.arange(-5,5,0.2))); plt.grid();"
   ]
  },
  {
   "cell_type": "markdown",
   "metadata": {},
   "source": [
    "So let's start"
   ]
  },
  {
   "cell_type": "markdown",
   "metadata": {},
   "source": [
    "# Exercise 1.5\n",
    "\n",
    "Implement the board's network (2 features, linear combination to \"n\")"
   ]
  },
  {
   "cell_type": "code",
   "execution_count": null,
   "metadata": {},
   "outputs": [],
   "source": [
    "# inputs are: x1, x2\n",
    "#...\n",
    "# n = ...\n",
    "\n",
    "draw_dotV3(n)"
   ]
  },
  {
   "cell_type": "markdown",
   "metadata": {},
   "source": [
    "What's missing? The `activation function`"
   ]
  },
  {
   "cell_type": "code",
   "execution_count": null,
   "metadata": {},
   "outputs": [],
   "source": [
    "try: \n",
    "    o = n.tanh()\n",
    "except:\n",
    "    raise NotImplementedError('Need to implement tanh method in our Value data structure')"
   ]
  },
  {
   "cell_type": "markdown",
   "metadata": {},
   "source": [
    "Let's implement tanh!"
   ]
  },
  {
   "cell_type": "code",
   "execution_count": 257,
   "metadata": {},
   "outputs": [],
   "source": [
    "class Value:\n",
    "\n",
    "    def __init__(self, data, _children=(), _op='', label=''):\n",
    "        self.data = data\n",
    "        self.grad = 0.0 # at initialization every Value does not impact the output\n",
    "        self._prev = set(_children)\n",
    "        self._op = _op\n",
    "        self.label = label\n",
    "\n",
    "    def __repr__(self):\n",
    "        return f\"Value({self.data})\"\n",
    "    \n",
    "    def __add__(self, other: Value):\n",
    "        return Value(self.data + other.data, (self,other), '+')\n",
    "    \n",
    "    def __mul__(self, other: Value):\n",
    "        return Value(self.data * other.data, (self,other), '*')\n",
    "\n",
    "    def __sub__(self, other: Value):\n",
    "        return Value(self.data - other.data, (self,other), '-')\n",
    "    \n",
    "    def __truediv__(self, other: Value):\n",
    "        return Value(self.data / other.data, (self,other), '/')\n",
    "    \n",
    "    def tanh(self):\n",
    "        x = self.data\n",
    "        t = (math.exp(2*x)-1) / (math.exp(2*x) + 1)\n",
    "        out = Value(t, (self, ), 'tanh')\n",
    "        return out "
   ]
  },
  {
   "cell_type": "code",
   "execution_count": null,
   "metadata": {},
   "outputs": [],
   "source": [
    "# inputs x1, x2\n",
    "x1 = Value(2.0, label='x1')\n",
    "x2 = Value(0.0, label='x2')\n",
    "# weights w1, w2\n",
    "w1 = Value(-3.0, label='w1')\n",
    "w2 = Value(1.0, label='w2')\n",
    "# bias of the neuron\n",
    "b = Value(6.8813735870195432, label='b')\n",
    "# x1*w1 + x2*w2 + b\n",
    "x1w1 = x1*w1; x1w1.label = 'x1*w1'\n",
    "x2w2 = x2*w2; x2w2.label = 'x2*w2'\n",
    "x1w1x2w2 = x1w1 + x2w2; x1w1x2w2.label = 'x1*w1 + x2*w2'\n",
    "n = x1w1x2w2 + b; n.label = 'n'\n",
    "o = n.tanh(); o.label='o' # here it is!!\n",
    "draw_dotV3(o)\n"
   ]
  },
  {
   "cell_type": "markdown",
   "metadata": {},
   "source": [
    "Let's start backpropagation!"
   ]
  },
  {
   "cell_type": "code",
   "execution_count": 261,
   "metadata": {},
   "outputs": [],
   "source": [
    "o.grad = 1.0"
   ]
  },
  {
   "cell_type": "markdown",
   "metadata": {},
   "source": [
    "what's the derivative of a tanh wrt. its input?\n",
    "[wikipedia](https://pt.wikipedia.org/wiki/Tangente_hiperbólica)"
   ]
  },
  {
   "cell_type": "code",
   "execution_count": 262,
   "metadata": {},
   "outputs": [],
   "source": [
    "# Exercise\n",
    "#n.grad ="
   ]
  },
  {
   "cell_type": "code",
   "execution_count": null,
   "metadata": {},
   "outputs": [],
   "source": [
    "draw_dotV3(o)"
   ]
  },
  {
   "cell_type": "code",
   "execution_count": 264,
   "metadata": {},
   "outputs": [],
   "source": [
    "# now compute the grads for all the nodes\n",
    "x1w1x2w2.grad = #...\n",
    "b.grad = # ...\n",
    "\n",
    "x1w1.grad = # ...\n",
    "x2w2.grad = # ...\n",
    "\n",
    "x2.grad = # ...\n",
    "w2.grad = # ...\n",
    "\n",
    "x1.grad = # ...\n",
    "w1.grad = # ..."
   ]
  },
  {
   "cell_type": "code",
   "execution_count": 69,
   "metadata": {},
   "outputs": [],
   "source": [
    "#draw_dotV3(o)"
   ]
  },
  {
   "cell_type": "markdown",
   "metadata": {},
   "source": [
    "----"
   ]
  },
  {
   "cell_type": "markdown",
   "metadata": {},
   "source": [
    "Okay! We've successfully done backprop manually! Now this is very cumbersome process to do manually so let's add the necessary logic to do this automatically!"
   ]
  },
  {
   "cell_type": "code",
   "execution_count": 70,
   "metadata": {},
   "outputs": [],
   "source": [
    "class Value:\n",
    "\n",
    "    def __init__(self, data, _children=(), _op='', label=''):\n",
    "        self.data = data\n",
    "        self.grad = 0.0 # at initialization every Value does not impact the output\n",
    "        self._backward = lambda: None # this method does the chain rule and stores how it transmits the output's gradient into the inputs' gradient of the current node\n",
    "        self._prev = set(_children)\n",
    "        self._op = _op\n",
    "        self.label = label\n",
    "\n",
    "    def __repr__(self):\n",
    "        return f\"Value({self.data})\"\n",
    "    \n",
    "    def __add__(self, other: Value):\n",
    "        out =  Value(self.data + other.data, (self,other), '+')\n",
    "\n",
    "        def _backward():\n",
    "            self.grad += 1.0 * out.grad\n",
    "            other.grad += 1.0 * out.grad\n",
    "        out._backward = _backward\n",
    "        return out\n",
    "    \n",
    "    def __mul__(self, other: Value):\n",
    "        out =  Value(self.data * other.data, (self,other), '*')\n",
    "        return out\n",
    "\n",
    "    def __sub__(self, other: Value):\n",
    "        out = Value(self.data - other.data, (self,other), '-')\n",
    "        return out\n",
    "    \n",
    "    def __truediv__(self, other: Value):\n",
    "        out = Value(self.data / other.data, (self,other), '/')\n",
    "        return out\n",
    "    \n",
    "    def tanh(self):\n",
    "        x = self.data\n",
    "        t = (math.exp(2*x)-1) / (math.exp(2*x) + 1)\n",
    "        out = Value(t, (self, ), 'tanh')\n",
    "        return out "
   ]
  },
  {
   "cell_type": "markdown",
   "metadata": {},
   "source": [
    "## Exercise 2: implement backwards for multiplication, sub and division\n",
    "\n",
    "Go [here](https://colab.research.google.com/github/samsung-ai-course/6-7-edition/blob/main/Intro%20to%20Deep%20Learning/Building%20Neural%20Networks%20from%20Scratch/Exercise%202%20-%20Implement%20remaining%20backward.ipynb) to jump into exercise 2.\n",
    "\n",
    "![](media/jump.jpg)"
   ]
  },
  {
   "cell_type": "code",
   "execution_count": 282,
   "metadata": {},
   "outputs": [],
   "source": [
    "# copy paste the solution here after the exercise is done"
   ]
  },
  {
   "cell_type": "markdown",
   "metadata": {},
   "source": [
    "----"
   ]
  },
  {
   "cell_type": "markdown",
   "metadata": {},
   "source": [
    "Going back to our logistic regression (now with backpropagation!)"
   ]
  },
  {
   "cell_type": "code",
   "execution_count": 294,
   "metadata": {},
   "outputs": [],
   "source": [
    "# inputs x1, x2\n",
    "x1 = Value(2.0, label='x1')\n",
    "x2 = Value(0.0, label='x2')\n",
    "# weights w1, w2\n",
    "w1 = Value(-3.0, label='w1')\n",
    "w2 = Value(1.0, label='w2')\n",
    "# bias of the neuron\n",
    "b = Value(6.8813735870195432, label='b')\n",
    "# x1*w1 + x2*w2 + b\n",
    "x1w1 = x1*w1; x1w1.label = 'x1*w1'\n",
    "x2w2 = x2*w2; x2w2.label = 'x2*w2'\n",
    "x1w1x2w2 = x1w1 + x2w2; x1w1x2w2.label = 'x1*w1 + x2*w2'\n",
    "n = x1w1x2w2 + b; n.label = 'n'\n",
    "o = n.tanh(); o.label='o' # here it is!!\n"
   ]
  },
  {
   "cell_type": "code",
   "execution_count": null,
   "metadata": {},
   "outputs": [],
   "source": [
    "draw_dotV3(o)"
   ]
  },
  {
   "cell_type": "code",
   "execution_count": null,
   "metadata": {},
   "outputs": [],
   "source": [
    "o.grad = 1.0\n",
    "o._backward()\n",
    "draw_dotV3(o)"
   ]
  },
  {
   "cell_type": "code",
   "execution_count": 286,
   "metadata": {},
   "outputs": [],
   "source": [
    "n._backward()\n",
    "# check draw_dot"
   ]
  },
  {
   "cell_type": "code",
   "execution_count": 287,
   "metadata": {},
   "outputs": [],
   "source": [
    "b._backward()\n",
    "# check draw_dot\n"
   ]
  },
  {
   "cell_type": "code",
   "execution_count": 288,
   "metadata": {},
   "outputs": [],
   "source": [
    "x1w1x2w2._backward()\n",
    "# check draw_dot"
   ]
  },
  {
   "cell_type": "code",
   "execution_count": 289,
   "metadata": {},
   "outputs": [],
   "source": [
    "x1w1._backward()\n",
    "x2w2._backward()\n",
    "# check draw_dot"
   ]
  },
  {
   "cell_type": "code",
   "execution_count": null,
   "metadata": {},
   "outputs": [],
   "source": [
    "draw_dotV3(o)"
   ]
  },
  {
   "cell_type": "markdown",
   "metadata": {},
   "source": [
    "----"
   ]
  },
  {
   "cell_type": "markdown",
   "metadata": {},
   "source": [
    "So let's automate this!\n",
    "\n",
    "1. We want to call ._backward() from end of the graph to the start. Never call on a node where the parent node hasn't yet been called.\n",
    "\n",
    "\n",
    "answer: `topological sort!`"
   ]
  },
  {
   "cell_type": "code",
   "execution_count": null,
   "metadata": {},
   "outputs": [],
   "source": [
    "topo = []\n",
    "visited = set()\n",
    "\n",
    "def build_topo(v):\n",
    "    if v not in visited:\n",
    "        visited.add(v)\n",
    "        for child in v._prev:\n",
    "            build_topo(child)\n",
    "        topo.append(v)\n",
    "\n",
    "build_topo(o)\n",
    "print(topo)"
   ]
  },
  {
   "cell_type": "markdown",
   "metadata": {},
   "source": [
    "Let's reset the gradients and call backward now on this list starting from the `o` node"
   ]
  },
  {
   "cell_type": "code",
   "execution_count": 295,
   "metadata": {},
   "outputs": [],
   "source": [
    "topo = []\n",
    "visited = set()\n",
    "build_topo(o)\n",
    "\n",
    "o.grad = 1.0\n",
    "for node in reversed(topo):\n",
    "    node._backward()"
   ]
  },
  {
   "cell_type": "code",
   "execution_count": null,
   "metadata": {},
   "outputs": [],
   "source": [
    "draw_dotV3(o)"
   ]
  },
  {
   "cell_type": "markdown",
   "metadata": {},
   "source": [
    "Let's hide this functionality"
   ]
  },
  {
   "cell_type": "code",
   "execution_count": 72,
   "metadata": {},
   "outputs": [],
   "source": [
    "class Value:\n",
    "\n",
    "    def __init__(self, data, _children=(), _op='', label=''):\n",
    "        self.data = data\n",
    "        self.grad = 0.0 # at initialization every Value does not impact the output\n",
    "        self._backward = lambda: None # this method does the chain rule and stores how it transmits the output's gradient into the inputs' gradient of the current node\n",
    "        self._prev = set(_children)\n",
    "        self._op = _op\n",
    "        self.label = label\n",
    "\n",
    "    def backward(self):\n",
    "        topo = []\n",
    "        visited = set()\n",
    "\n",
    "        def build_topo(v):\n",
    "            if v not in visited:\n",
    "                visited.add(v)\n",
    "                for child in v._prev:\n",
    "                    build_topo(child)\n",
    "                topo.append(v)\n",
    "\n",
    "        build_topo(self)\n",
    "        \n",
    "        self.grad = 1.0\n",
    "        for node in reversed(topo):\n",
    "            node._backward()\n",
    "\n",
    "    def __repr__(self):\n",
    "        return f\"Value({self.data})\"\n",
    "    \n",
    "    def __add__(self, other: Value):\n",
    "        other = other if isinstance(other, Value) else Value(other)\n",
    "        out =  Value(self.data + other.data, (self,other), '+')\n",
    "\n",
    "        def _backward():\n",
    "            self.grad += 1.0 * out.grad\n",
    "            other.grad += 1.0 * out.grad\n",
    "        out._backward = _backward\n",
    "        return out\n",
    "    \n",
    "    def __mul__(self, other: Value):\n",
    "        other = other if isinstance(other, Value) else Value(other)\n",
    "        out =  Value(self.data * other.data, (self,other), '*')\n",
    "\n",
    "        def _backward():\n",
    "            self.grad += other.data * out.grad\n",
    "            other.grad += self.data * out.grad\n",
    "        out._backward = _backward\n",
    "        return out\n",
    "\n",
    "    def __sub__(self, other: Value):\n",
    "        other = other if isinstance(other, Value) else Value(other)\n",
    "        out = Value(self.data - other.data, (self,other), '-')\n",
    "\n",
    "        def _backward():\n",
    "            self.grad += 1.0 * out.grad\n",
    "            other.grad += -1.0 * out.grad\n",
    "        out._backward = _backward\n",
    "        return out\n",
    "    \n",
    "    def __truediv__(self, other: Value):\n",
    "        other = other if isinstance(other, Value) else Value(other)\n",
    "        out = Value(self.data / other.data, (self,other), '/')\n",
    "\n",
    "        def _backward():\n",
    "            self.grad += (1.0 / other.data) * out.grad\n",
    "            other.grad += (-self.data / (other.data**2)) * out.grad\n",
    "        out._backward = _backward\n",
    "        return out\n",
    "    \n",
    "    def tanh(self):\n",
    "        x = self.data\n",
    "        t = (math.exp(2*x)-1) / (math.exp(2*x) + 1)\n",
    "        out = Value(t, (self, ), 'tanh')\n",
    "\n",
    "        def _backward():\n",
    "            self.grad += (1 - t**2) * out.grad\n",
    "        out._backward = _backward\n",
    "        return out \n",
    "    \n",
    "    def __pow__(self, other : int):\n",
    "        assert isinstance(other, (int, float)), \"only supporting int/float powers for now\"\n",
    "        out = Value(self.data**other, (self,), f'**{other}')\n",
    "\n",
    "        def _backward():\n",
    "            self.grad += (other * self.data**(other-1)) * out.grad\n",
    "        out._backward = _backward\n",
    "\n",
    "        return out\n",
    "\n"
   ]
  },
  {
   "cell_type": "code",
   "execution_count": 298,
   "metadata": {},
   "outputs": [],
   "source": [
    "# inputs x1, x2\n",
    "x1 = Value(2.0, label='x1')\n",
    "x2 = Value(0.0, label='x2')\n",
    "# weights w1, w2\n",
    "w1 = Value(-3.0, label='w1')\n",
    "w2 = Value(1.0, label='w2')\n",
    "# bias of the neuron\n",
    "b = Value(6.8813735870195432, label='b')\n",
    "# x1*w1 + x2*w2 + b\n",
    "x1w1 = x1*w1; x1w1.label = 'x1*w1'\n",
    "x2w2 = x2*w2; x2w2.label = 'x2*w2'\n",
    "x1w1x2w2 = x1w1 + x2w2; x1w1x2w2.label = 'x1*w1 + x2*w2'\n",
    "n = x1w1x2w2 + b; n.label = 'n'\n",
    "o = n.tanh(); o.label='o' # here it is!!"
   ]
  },
  {
   "cell_type": "code",
   "execution_count": 299,
   "metadata": {},
   "outputs": [],
   "source": [
    "o.backward()"
   ]
  },
  {
   "cell_type": "code",
   "execution_count": null,
   "metadata": {},
   "outputs": [],
   "source": [
    "draw_dotV3(o)"
   ]
  },
  {
   "cell_type": "markdown",
   "metadata": {},
   "source": [
    "![](media/pika.jpg)"
   ]
  },
  {
   "cell_type": "markdown",
   "metadata": {},
   "source": [
    "## Edge cases: Why do we accumulate gradients?"
   ]
  },
  {
   "cell_type": "markdown",
   "metadata": {},
   "source": [
    "### Example 1"
   ]
  },
  {
   "cell_type": "code",
   "execution_count": null,
   "metadata": {},
   "outputs": [],
   "source": [
    "a = Value(3.0, label='a')\n",
    "b = a + a\n",
    "b.label = 'b'\n",
    "b.backward()\n",
    "draw_dotV3(b)"
   ]
  },
  {
   "cell_type": "markdown",
   "metadata": {},
   "source": [
    "### Example 2"
   ]
  },
  {
   "cell_type": "code",
   "execution_count": null,
   "metadata": {},
   "outputs": [],
   "source": [
    "a = Value(-2.0, label='a')\n",
    "b = Value(3.0, label='b')\n",
    "d = a * b\n",
    "d.label = 'd'\n",
    "e = a + b\n",
    "e.label = 'e'\n",
    "f = d * e\n",
    "f.label = 'f'\n",
    "\n",
    "f.backward()\n",
    "\n",
    "draw_dotV3(f)\n"
   ]
  },
  {
   "cell_type": "markdown",
   "metadata": {},
   "source": [
    "# Building our Neural Network"
   ]
  },
  {
   "cell_type": "code",
   "execution_count": 76,
   "metadata": {},
   "outputs": [],
   "source": [
    "class Module:\n",
    "\n",
    "    def zero_grad(self):\n",
    "        \"\"\"\n",
    "        # we always want to be able to reset the gradients for the next iteration of training\n",
    "        \"\"\"\n",
    "        # what is this for?\n",
    "        #\n",
    "\n",
    "    def parameters(self):\n",
    "        return []"
   ]
  },
  {
   "cell_type": "code",
   "execution_count": null,
   "metadata": {},
   "outputs": [],
   "source": [
    "import random\n",
    "\n",
    "class Neuron(Module):\n",
    "\n",
    "    def __init__(self, nin, nonlin=True):\n",
    "        self.w = [Value(random.uniform(-1,1)) for _ in range(nin)]\n",
    "        self.b = Value(0)\n",
    "        self.nonlin = nonlin\n",
    "\n",
    "    def __call__(self, x):\n",
    "        \"\"\"\n",
    "        Expects x to be an iterable with the same dimensions as the number of inputs (nin), and weights (w).\n",
    "        \"\"\"\n",
    "        act = sum((wi*xi for wi,xi in zip(self.w, x)),self.b)\n",
    "        return act.tanh() if self.nonlin else act\n",
    "\n",
    "    def parameters(self):\n",
    "        return self.w + [self.b]\n",
    "\n",
    "    def __repr__(self):\n",
    "        return f\"{'tanh' if self.nonlin else 'Linear'}Neuron({len(self.w)})\"\n",
    "\n",
    "x = [2.1, 3.1]\n",
    "n = Neuron(2)\n",
    "n(x)\n"
   ]
  },
  {
   "cell_type": "markdown",
   "metadata": {},
   "source": [
    "We want to be able to build a layer of neurons"
   ]
  },
  {
   "cell_type": "code",
   "execution_count": 79,
   "metadata": {},
   "outputs": [],
   "source": [
    "class Layer(Module):\n",
    "\n",
    "    def __init__(self, nin, nout, **kwargs):\n",
    "        self.neurons = [Neuron(nin, **kwargs) for _ in range(nout)]\n",
    "\n",
    "    def __call__(self, x):\n",
    "        out = [n(x) for n in self.neurons]\n",
    "        return out[0] if len(out) == 1 else out\n",
    "\n",
    "    def parameters(self):\n",
    "        return [p for n in self.neurons for p in n.parameters()]\n",
    "\n",
    "    def __repr__(self):\n",
    "        return f\"Layer of [{', '.join(str(n) for n in self.neurons)}]\""
   ]
  },
  {
   "cell_type": "code",
   "execution_count": null,
   "metadata": {},
   "outputs": [],
   "source": [
    "x = [2.1, 3.1]\n",
    "n = Layer(2,3)\n",
    "n(x)"
   ]
  },
  {
   "cell_type": "markdown",
   "metadata": {},
   "source": [
    "An MLP is a bunch of layers together"
   ]
  },
  {
   "cell_type": "code",
   "execution_count": 81,
   "metadata": {},
   "outputs": [],
   "source": [
    "nin = 2\n",
    "nouts = [4,10]"
   ]
  },
  {
   "cell_type": "code",
   "execution_count": 82,
   "metadata": {},
   "outputs": [],
   "source": [
    "class MLP(Module):\n",
    "\n",
    "    def __init__(self, nin, nouts):\n",
    "        sz = [nin] + nouts\n",
    "        self.layers = [Layer(sz[i], sz[i+1], nonlin=i!=len(nouts)-1) for i in range(len(nouts))]\n",
    "\n",
    "    def __call__(self, x):\n",
    "        for layer in self.layers:\n",
    "            x = layer(x)\n",
    "        return x\n",
    "\n",
    "    def parameters(self):\n",
    "        return [p for layer in self.layers for p in layer.parameters()]\n",
    "\n",
    "    def __repr__(self):\n",
    "        return f\"MLP of [{', '.join(str(layer) for layer in self.layers)}]\""
   ]
  },
  {
   "cell_type": "code",
   "execution_count": null,
   "metadata": {},
   "outputs": [],
   "source": [
    "x = [2.0, 3.0, -1.0]\n",
    "n = MLP(3, [8,4,1])\n",
    "n(x)"
   ]
  },
  {
   "cell_type": "markdown",
   "metadata": {},
   "source": [
    "----"
   ]
  },
  {
   "cell_type": "markdown",
   "metadata": {},
   "source": [
    "# Can our network learn?"
   ]
  },
  {
   "cell_type": "code",
   "execution_count": 84,
   "metadata": {},
   "outputs": [],
   "source": [
    "xs = [\n",
    "    [2.0, 3.0, -1.0],\n",
    "    [3.0, -1.0, 0.5],\n",
    "    [0.5, 1.0, 1.0],\n",
    "    [1.0, 1.0, -1.0],\n",
    "]\n",
    "\n",
    "ys = [1.0, -1.0, -1.0, 1.0]  # desired targets"
   ]
  },
  {
   "cell_type": "code",
   "execution_count": 85,
   "metadata": {},
   "outputs": [],
   "source": [
    "# input data is 3d so let's choose 3 as input size and do 2 hidden layers\n",
    "n = MLP(3, [4,4,1])"
   ]
  },
  {
   "cell_type": "code",
   "execution_count": null,
   "metadata": {},
   "outputs": [],
   "source": [
    "# let's try to see the initial predictions first\n",
    "ypred = [n(x) for x in xs]\n",
    "ypred\n"
   ]
  },
  {
   "cell_type": "code",
   "execution_count": null,
   "metadata": {},
   "outputs": [],
   "source": [
    "[(yout - ygt)**2 for ygt, yout in zip(ys, ypred)]"
   ]
  },
  {
   "cell_type": "code",
   "execution_count": null,
   "metadata": {},
   "outputs": [],
   "source": [
    "loss = sum([(yout - ygt)**2 for ygt, yout in zip(ys, ypred)],Value(0))\n",
    "loss"
   ]
  },
  {
   "cell_type": "code",
   "execution_count": 89,
   "metadata": {},
   "outputs": [],
   "source": [
    "loss.backward() # perform backwards pass"
   ]
  },
  {
   "cell_type": "code",
   "execution_count": null,
   "metadata": {},
   "outputs": [],
   "source": [
    "draw_dotV3(loss)"
   ]
  },
  {
   "cell_type": "code",
   "execution_count": null,
   "metadata": {},
   "outputs": [],
   "source": [
    "n.layers[0].neurons[0].w[0].grad # this weight is going to update in the opposite direction"
   ]
  },
  {
   "cell_type": "markdown",
   "metadata": {},
   "source": [
    "Let's update the parameters to reduce the loss!"
   ]
  },
  {
   "cell_type": "code",
   "execution_count": 92,
   "metadata": {},
   "outputs": [],
   "source": [
    "for p in n.parameters():\n",
    "    p.data -= 0.01 * p.grad\n"
   ]
  },
  {
   "cell_type": "markdown",
   "metadata": {},
   "source": [
    "compute loss again"
   ]
  },
  {
   "cell_type": "code",
   "execution_count": null,
   "metadata": {},
   "outputs": [],
   "source": [
    "ypred = [n(x) for x in xs]\n",
    "loss = sum([(yout - ygt)**2 for ygt, yout in zip(ys, ypred)],Value(0))\n",
    "loss"
   ]
  },
  {
   "cell_type": "markdown",
   "metadata": {},
   "source": [
    "It's lower!"
   ]
  },
  {
   "cell_type": "markdown",
   "metadata": {},
   "source": [
    "Do we want to keep training?"
   ]
  },
  {
   "cell_type": "code",
   "execution_count": 94,
   "metadata": {},
   "outputs": [],
   "source": [
    "# reset the gradients every iteration! (one of the most common DL silent bugs)\n",
    "\n",
    "for p in n.parameters():\n",
    "    p.grad = 0.0"
   ]
  },
  {
   "cell_type": "markdown",
   "metadata": {},
   "source": [
    "----"
   ]
  },
  {
   "cell_type": "markdown",
   "metadata": {},
   "source": [
    "We can automate this as well, let's say we want to train for 20 epochs"
   ]
  },
  {
   "cell_type": "code",
   "execution_count": null,
   "metadata": {},
   "outputs": [],
   "source": [
    "for epoch in range(20):\n",
    "\n",
    "    # forward pass\n",
    "    ypred = [n(x) for x in xs]\n",
    "    # mse loss\n",
    "    loss = sum([(yout - ygt)**2 for ygt, yout in zip(ys, ypred)],Value(0))\n",
    "\n",
    "    # backward pass\n",
    "    for p in n.parameters():\n",
    "        p.grad = 0 # reset first\n",
    "    loss.backward()\n",
    "\n",
    "    # update model parameters\n",
    "    for p in n.parameters():\n",
    "        p.data += -0.05 * p.grad\n",
    "    \n",
    "    print(epoch, loss.data)"
   ]
  },
  {
   "cell_type": "markdown",
   "metadata": {},
   "source": [
    "# Let's try to fit some quadratic function"
   ]
  },
  {
   "cell_type": "code",
   "execution_count": 96,
   "metadata": {},
   "outputs": [],
   "source": [
    "from sklearn.model_selection import train_test_split"
   ]
  },
  {
   "cell_type": "code",
   "execution_count": null,
   "metadata": {},
   "outputs": [],
   "source": [
    "def quadratic_func(x):\n",
    "    return np.power(x,2) + 3*x\n",
    "\n",
    "xs = np.linspace(-5,5,40)\n",
    "ys = quadratic_func(xs)\n",
    "plt.scatter(xs,ys)"
   ]
  },
  {
   "cell_type": "code",
   "execution_count": 98,
   "metadata": {},
   "outputs": [],
   "source": [
    "X_train, X_test, y_train, y_test = train_test_split(xs, ys, test_size=0.33, random_state=42)"
   ]
  },
  {
   "cell_type": "markdown",
   "metadata": {},
   "source": [
    "## Exercise: use an MLP to fit this data\n",
    "\n",
    "1. Use one hidden layer, but you can decide how many neurons in that layer\n",
    "2. Plot the loss along the epochs\n",
    "3. Plot the model's prediction and datapoints along the epochs (to see visually how close it is modelling the data)"
   ]
  },
  {
   "cell_type": "markdown",
   "metadata": {},
   "source": []
  },
  {
   "cell_type": "markdown",
   "metadata": {},
   "source": [
    "----"
   ]
  },
  {
   "cell_type": "markdown",
   "metadata": {},
   "source": [
    "# Future Work\n",
    "\n",
    "1. Implement other activations to `Value` such as ReLu and sigmoid\n",
    "2. Implement classification capability by allowing a sigmoid at the final layer\n",
    "3. Try this dataset on the Iris dataset. choose 2 classes from there and try to fit that data"
   ]
  },
  {
   "cell_type": "markdown",
   "metadata": {},
   "source": []
  }
 ],
 "metadata": {
  "kernelspec": {
   "display_name": "Python 3",
   "language": "python",
   "name": "python3"
  },
  "language_info": {
   "codemirror_mode": {
    "name": "ipython",
    "version": 3
   },
   "file_extension": ".py",
   "mimetype": "text/x-python",
   "name": "python",
   "nbconvert_exporter": "python",
   "pygments_lexer": "ipython3",
   "version": "3.11.9"
  }
 },
 "nbformat": 4,
 "nbformat_minor": 2
}
