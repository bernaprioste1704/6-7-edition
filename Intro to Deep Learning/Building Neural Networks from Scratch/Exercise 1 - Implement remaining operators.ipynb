{
 "cells": [
  {
   "cell_type": "markdown",
   "metadata": {},
   "source": [
    "# Imports"
   ]
  },
  {
   "cell_type": "code",
   "execution_count": 1,
   "metadata": {},
   "outputs": [],
   "source": [
    "import math\n",
    "import numpy as np\n",
    "import matplotlib.pyplot as plt\n",
    "import graphviz\n",
    "\n",
    "%matplotlib inline"
   ]
  },
  {
   "cell_type": "markdown",
   "metadata": {},
   "source": [
    "# Utils"
   ]
  },
  {
   "cell_type": "markdown",
   "metadata": {},
   "source": [
    "# Exercise"
   ]
  },
  {
   "cell_type": "markdown",
   "metadata": {},
   "source": [
    "We just implemented addition with `__add__`. Your goal is to modify this class to implement subtraction, multiplication, and division."
   ]
  },
  {
   "cell_type": "code",
   "execution_count": 4,
   "metadata": {},
   "outputs": [],
   "source": [
    "class Value:\n",
    "    \"\"\" stores a single scalar value and its gradient \"\"\"\n",
    "\n",
    "    def __init__(self, data):\n",
    "        self.data = data\n",
    "\n",
    "    def __repr__(self):\n",
    "        return f\"Value({self.data})\"\n",
    "    \n",
    "    def __add__(self, other: \"Value\"):\n",
    "        return Value(self.data + other.data)\n",
    "    "
   ]
  },
  {
   "cell_type": "markdown",
   "metadata": {},
   "source": [
    "test"
   ]
  },
  {
   "cell_type": "code",
   "execution_count": null,
   "metadata": {},
   "outputs": [],
   "source": [
    "a = Value(3)\n",
    "b = Value(6)\n",
    "\n",
    "try: \n",
    "    assert (a * b).data == 18, 'Something Went wrong with multiplication'\n",
    "    print('You got multiplication right!')\n",
    "except:\n",
    "    print('Something Went wrong with multiplication')\n",
    "\n",
    "try:\n",
    "    assert (b / a).data == 2, 'Something Went wrong with division'\n",
    "    print('You got division right!')\n",
    "except:\n",
    "    print('Something Went wrong with division')\n",
    "\n",
    "try:\n",
    "    assert (a - b).data == -3, 'Something Went wrong with subtraction'\n",
    "    print('You got subtraction right!')\n",
    "except:\n",
    "    print('Something Went wrong with subtraction')  "
   ]
  }
 ],
 "metadata": {
  "kernelspec": {
   "display_name": "MLCatolica24",
   "language": "python",
   "name": "python3"
  },
  "language_info": {
   "codemirror_mode": {
    "name": "ipython",
    "version": 3
   },
   "file_extension": ".py",
   "mimetype": "text/x-python",
   "name": "python",
   "nbconvert_exporter": "python",
   "pygments_lexer": "ipython3",
   "version": "3.12.3"
  }
 },
 "nbformat": 4,
 "nbformat_minor": 2
}
