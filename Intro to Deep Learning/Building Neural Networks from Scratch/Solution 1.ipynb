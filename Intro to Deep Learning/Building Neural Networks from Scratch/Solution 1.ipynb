{
 "cells": [
  {
   "cell_type": "code",
   "execution_count": null,
   "metadata": {},
   "outputs": [],
   "source": [
    "class Value:\n",
    "    \"\"\" stores a single scalar value and its gradient \"\"\"\n",
    "\n",
    "    def __init__(self, data):\n",
    "        self.data = data\n",
    "\n",
    "    def __repr__(self):\n",
    "        return f\"Value({self.data})\"\n",
    "    \n",
    "    def __add__(self, other: Value):\n",
    "        return Value(self.data + other.data)\n",
    "    \n",
    "    def __sub__(self, other: Value):\n",
    "        return Value(self.data - other.data)\n",
    "    \n",
    "    def __mul__(self, other: Value):\n",
    "        return Value(self.data * other.data)\n",
    "    \n",
    "    def __truediv__(self, other: Value):\n",
    "        return Value(self.data / other.data)\n",
    "    "
   ]
  }
 ],
 "metadata": {
  "kernelspec": {
   "display_name": "MLCatolica24",
   "language": "python",
   "name": "python3"
  },
  "language_info": {
   "codemirror_mode": {
    "name": "ipython",
    "version": 3
   },
   "file_extension": ".py",
   "mimetype": "text/x-python",
   "name": "python",
   "nbconvert_exporter": "python",
   "pygments_lexer": "ipython3",
   "version": "3.12.3"
  }
 },
 "nbformat": 4,
 "nbformat_minor": 2
}
