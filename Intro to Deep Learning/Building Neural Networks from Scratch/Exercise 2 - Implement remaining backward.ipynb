{
 "cells": [
  {
   "cell_type": "markdown",
   "metadata": {},
   "source": [
    "# Imports"
   ]
  },
  {
   "cell_type": "code",
   "execution_count": 1,
   "metadata": {},
   "outputs": [],
   "source": [
    "import math\n",
    "import numpy as np\n",
    "import matplotlib.pyplot as plt\n",
    "import graphviz\n",
    "\n",
    "%matplotlib inline"
   ]
  },
  {
   "cell_type": "markdown",
   "metadata": {},
   "source": [
    "# Utils"
   ]
  },
  {
   "cell_type": "markdown",
   "metadata": {},
   "source": [
    "# Exercise"
   ]
  },
  {
   "cell_type": "markdown",
   "metadata": {},
   "source": [
    "We just implemented the backward function for the `__add__`. Your goal is to modify this class to implement the `_backward()` for the remaining operations: subtraction, multiplication, division, and tanh."
   ]
  },
  {
   "cell_type": "code",
   "execution_count": 4,
   "metadata": {},
   "outputs": [],
   "source": [
    "class Value:\n",
    "\n",
    "    def __init__(self, data, _children=(), _op='', label=''):\n",
    "        self.data = data\n",
    "        self.grad = 0.0 # at initialization every Value does not impact the output\n",
    "        self._backward = lambda: None # this method does the chain rule and stores how it transmits the output's gradient into the inputs' gradient of the current node\n",
    "        self._prev = set(_children)\n",
    "        self._op = _op\n",
    "        self.label = label\n",
    "\n",
    "    def __repr__(self):\n",
    "        return f\"Value({self.data})\"\n",
    "    \n",
    "    def __add__(self, other: Value):\n",
    "        out =  Value(self.data + other.data, (self,other), '+')\n",
    "\n",
    "        def _backward():\n",
    "            self.grad += 1.0 * out.grad\n",
    "            other.grad += 1.0 * out.grad\n",
    "        out._backward = _backward\n",
    "        return out\n",
    "    \n",
    "    def __mul__(self, other: Value):\n",
    "        out =  Value(self.data * other.data, (self,other), '*')\n",
    "        return out\n",
    "\n",
    "    def __sub__(self, other: Value):\n",
    "        out = Value(self.data - other.data, (self,other), '-')\n",
    "        return out\n",
    "    \n",
    "    def __truediv__(self, other: Value):\n",
    "        out = Value(self.data / other.data, (self,other), '/')\n",
    "        return out\n",
    "    \n",
    "    def tanh(self):\n",
    "        x = self.data\n",
    "        t = (math.exp(2*x)-1) / (math.exp(2*x) + 1)\n",
    "        out = Value(t, (self, ), 'tanh')\n",
    "        return out "
   ]
  },
  {
   "cell_type": "markdown",
   "metadata": {},
   "source": [
    "test"
   ]
  },
  {
   "cell_type": "code",
   "execution_count": null,
   "metadata": {},
   "outputs": [],
   "source": [
    "a = Value(3)\n",
    "b = Value(6)\n",
    "\n",
    "try: \n",
    "    assert (a * b).data == 18, 'Something Went wrong with multiplication'\n",
    "    print('You got multiplication right!')\n",
    "except:\n",
    "    print('Something Went wrong with multiplication')\n",
    "\n",
    "try:\n",
    "    assert (b / a).data == 2, 'Something Went wrong with division'\n",
    "    print('You got division right!')\n",
    "except:\n",
    "    print('Something Went wrong with division')\n",
    "\n",
    "try:\n",
    "    assert (a - b).data == -3, 'Something Went wrong with subtraction'\n",
    "    print('You got subtraction right!')\n",
    "except:\n",
    "    print('Something Went wrong with subtraction')  "
   ]
  }
 ],
 "metadata": {
  "kernelspec": {
   "display_name": "MLCatolica24",
   "language": "python",
   "name": "python3"
  },
  "language_info": {
   "codemirror_mode": {
    "name": "ipython",
    "version": 3
   },
   "file_extension": ".py",
   "mimetype": "text/x-python",
   "name": "python",
   "nbconvert_exporter": "python",
   "pygments_lexer": "ipython3",
   "version": "3.12.3"
  }
 },
 "nbformat": 4,
 "nbformat_minor": 2
}
