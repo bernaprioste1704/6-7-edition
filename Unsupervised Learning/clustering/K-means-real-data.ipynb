{
 "cells": [
  {
   "cell_type": "markdown",
   "metadata": {
    "id": "bDfW7wXmRGXu"
   },
   "source": [
    "## Coding Exercise Kmeans"
   ]
  },
  {
   "cell_type": "markdown",
   "metadata": {
    "id": "79VGeKgzRGXx"
   },
   "source": [
    "### 1. K-Means clustering with real data:"
   ]
  },
  {
   "cell_type": "code",
   "execution_count": 1,
   "metadata": {
    "id": "pN1lwaJARGXx"
   },
   "outputs": [],
   "source": [
    "import numpy as np\n",
    "import pandas as pd\n",
    "import matplotlib.pyplot as plt\n",
    "import seaborn as sns\n",
    "import os\n",
    "from sklearn.cluster import KMeans\n",
    "import warnings\n",
    "warnings.filterwarnings('ignore')           # Turn off the warnings. \n",
    "%matplotlib inline"
   ]
  },
  {
   "cell_type": "markdown",
   "metadata": {
    "id": "2M9SeQ1iRGXy"
   },
   "source": [
    "#### 1.1. Load the 'Iris' dataset from Seaborn:\n",
    "from this list : https://github.com/mwaskom/seaborn-data"
   ]
  },
  {
   "cell_type": "code",
   "execution_count": 2,
   "metadata": {
    "id": "yQLYHWA_RGXz"
   },
   "outputs": [
    {
     "data": {
      "text/html": [
       "<div>\n",
       "<style scoped>\n",
       "    .dataframe tbody tr th:only-of-type {\n",
       "        vertical-align: middle;\n",
       "    }\n",
       "\n",
       "    .dataframe tbody tr th {\n",
       "        vertical-align: top;\n",
       "    }\n",
       "\n",
       "    .dataframe thead th {\n",
       "        text-align: right;\n",
       "    }\n",
       "</style>\n",
       "<table border=\"1\" class=\"dataframe\">\n",
       "  <thead>\n",
       "    <tr style=\"text-align: right;\">\n",
       "      <th></th>\n",
       "      <th>sepal_length</th>\n",
       "      <th>sepal_width</th>\n",
       "      <th>petal_length</th>\n",
       "      <th>petal_width</th>\n",
       "      <th>species</th>\n",
       "    </tr>\n",
       "  </thead>\n",
       "  <tbody>\n",
       "    <tr>\n",
       "      <th>0</th>\n",
       "      <td>5.1</td>\n",
       "      <td>3.5</td>\n",
       "      <td>1.4</td>\n",
       "      <td>0.2</td>\n",
       "      <td>setosa</td>\n",
       "    </tr>\n",
       "    <tr>\n",
       "      <th>1</th>\n",
       "      <td>4.9</td>\n",
       "      <td>3.0</td>\n",
       "      <td>1.4</td>\n",
       "      <td>0.2</td>\n",
       "      <td>setosa</td>\n",
       "    </tr>\n",
       "    <tr>\n",
       "      <th>2</th>\n",
       "      <td>4.7</td>\n",
       "      <td>3.2</td>\n",
       "      <td>1.3</td>\n",
       "      <td>0.2</td>\n",
       "      <td>setosa</td>\n",
       "    </tr>\n",
       "    <tr>\n",
       "      <th>3</th>\n",
       "      <td>4.6</td>\n",
       "      <td>3.1</td>\n",
       "      <td>1.5</td>\n",
       "      <td>0.2</td>\n",
       "      <td>setosa</td>\n",
       "    </tr>\n",
       "    <tr>\n",
       "      <th>4</th>\n",
       "      <td>5.0</td>\n",
       "      <td>3.6</td>\n",
       "      <td>1.4</td>\n",
       "      <td>0.2</td>\n",
       "      <td>setosa</td>\n",
       "    </tr>\n",
       "  </tbody>\n",
       "</table>\n",
       "</div>"
      ],
      "text/plain": [
       "   sepal_length  sepal_width  petal_length  petal_width species\n",
       "0           5.1          3.5           1.4          0.2  setosa\n",
       "1           4.9          3.0           1.4          0.2  setosa\n",
       "2           4.7          3.2           1.3          0.2  setosa\n",
       "3           4.6          3.1           1.5          0.2  setosa\n",
       "4           5.0          3.6           1.4          0.2  setosa"
      ]
     },
     "execution_count": 2,
     "metadata": {},
     "output_type": "execute_result"
    }
   ],
   "source": [
    "df = sns.load_dataset('iris')\n",
    "df.head()"
   ]
  },
  {
   "cell_type": "code",
   "execution_count": 3,
   "metadata": {
    "id": "8MzCPtJsePOS"
   },
   "outputs": [
    {
     "data": {
      "text/plain": [
       "pandas.core.indexes.base.Index"
      ]
     },
     "execution_count": 3,
     "metadata": {},
     "output_type": "execute_result"
    }
   ],
   "source": [
    "X = df.drop(columns=['species'])                        # Only X variables.\n",
    "Y = df['species']                                       # Only Y variable.\n",
    "header_X = X.columns                                    # Store the column names of X.\n",
    "type(header_X)"
   ]
  },
  {
   "cell_type": "code",
   "execution_count": 4,
   "metadata": {
    "id": "VX0yytT7ere2"
   },
   "outputs": [
    {
     "data": {
      "text/html": [
       "<div>\n",
       "<style scoped>\n",
       "    .dataframe tbody tr th:only-of-type {\n",
       "        vertical-align: middle;\n",
       "    }\n",
       "\n",
       "    .dataframe tbody tr th {\n",
       "        vertical-align: top;\n",
       "    }\n",
       "\n",
       "    .dataframe thead th {\n",
       "        text-align: right;\n",
       "    }\n",
       "</style>\n",
       "<table border=\"1\" class=\"dataframe\">\n",
       "  <thead>\n",
       "    <tr style=\"text-align: right;\">\n",
       "      <th></th>\n",
       "      <th>sepal_length</th>\n",
       "      <th>sepal_width</th>\n",
       "      <th>petal_length</th>\n",
       "      <th>petal_width</th>\n",
       "    </tr>\n",
       "  </thead>\n",
       "  <tbody>\n",
       "    <tr>\n",
       "      <th>0</th>\n",
       "      <td>5.1</td>\n",
       "      <td>3.5</td>\n",
       "      <td>1.4</td>\n",
       "      <td>0.2</td>\n",
       "    </tr>\n",
       "    <tr>\n",
       "      <th>1</th>\n",
       "      <td>4.9</td>\n",
       "      <td>3.0</td>\n",
       "      <td>1.4</td>\n",
       "      <td>0.2</td>\n",
       "    </tr>\n",
       "    <tr>\n",
       "      <th>2</th>\n",
       "      <td>4.7</td>\n",
       "      <td>3.2</td>\n",
       "      <td>1.3</td>\n",
       "      <td>0.2</td>\n",
       "    </tr>\n",
       "    <tr>\n",
       "      <th>3</th>\n",
       "      <td>4.6</td>\n",
       "      <td>3.1</td>\n",
       "      <td>1.5</td>\n",
       "      <td>0.2</td>\n",
       "    </tr>\n",
       "    <tr>\n",
       "      <th>4</th>\n",
       "      <td>5.0</td>\n",
       "      <td>3.6</td>\n",
       "      <td>1.4</td>\n",
       "      <td>0.2</td>\n",
       "    </tr>\n",
       "  </tbody>\n",
       "</table>\n",
       "</div>"
      ],
      "text/plain": [
       "   sepal_length  sepal_width  petal_length  petal_width\n",
       "0           5.1          3.5           1.4          0.2\n",
       "1           4.9          3.0           1.4          0.2\n",
       "2           4.7          3.2           1.3          0.2\n",
       "3           4.6          3.1           1.5          0.2\n",
       "4           5.0          3.6           1.4          0.2"
      ]
     },
     "execution_count": 4,
     "metadata": {},
     "output_type": "execute_result"
    }
   ],
   "source": [
    "X.head()"
   ]
  },
  {
   "cell_type": "code",
   "execution_count": 5,
   "metadata": {
    "id": "KF4irym-3rdm"
   },
   "outputs": [
    {
     "data": {
      "text/plain": [
       "0         setosa\n",
       "1         setosa\n",
       "2         setosa\n",
       "3         setosa\n",
       "4         setosa\n",
       "         ...    \n",
       "145    virginica\n",
       "146    virginica\n",
       "147    virginica\n",
       "148    virginica\n",
       "149    virginica\n",
       "Name: species, Length: 150, dtype: object"
      ]
     },
     "execution_count": 5,
     "metadata": {},
     "output_type": "execute_result"
    }
   ],
   "source": [
    "Y"
   ]
  },
  {
   "cell_type": "markdown",
   "metadata": {
    "id": "Fx6xMGcwRGXz"
   },
   "source": [
    "#### 1.2. Apply k-means:"
   ]
  },
  {
   "cell_type": "code",
   "execution_count": 6,
   "metadata": {
    "id": "vHCkuqq7RGXz"
   },
   "outputs": [
    {
     "name": "stdout",
     "output_type": "stream",
     "text": [
      "(150,)\n",
      "(3, 4)\n"
     ]
    }
   ],
   "source": [
    "kmeans = KMeans(n_clusters=3, random_state=123)         # kmeans object for 3 clusters. radom_state=123 means deterministic initialization.\n",
    "kmeans.fit(X)                                           # Unsupervised learning => Only X.\n",
    "res = pd.Series(kmeans.labels_)                         # Cluster labeling result as Series.\n",
    "print(np.shape(res))\n",
    "print(np.shape(kmeans.cluster_centers_))"
   ]
  },
  {
   "cell_type": "code",
   "execution_count": 7,
   "metadata": {
    "id": "QE8f7zCszWfk"
   },
   "outputs": [
    {
     "name": "stdout",
     "output_type": "stream",
     "text": [
      "\u001b[0;31mType:\u001b[0m        KMeans\n",
      "\u001b[0;31mString form:\u001b[0m KMeans(n_clusters=3, random_state=123)\n",
      "\u001b[0;31mFile:\u001b[0m        ~/anaconda3/lib/python3.11/site-packages/sklearn/cluster/_kmeans.py\n",
      "\u001b[0;31mDocstring:\u001b[0m  \n",
      "K-Means clustering.\n",
      "\n",
      "Read more in the :ref:`User Guide <k_means>`.\n",
      "\n",
      "Parameters\n",
      "----------\n",
      "\n",
      "n_clusters : int, default=8\n",
      "    The number of clusters to form as well as the number of\n",
      "    centroids to generate.\n",
      "\n",
      "init : {'k-means++', 'random'}, callable or array-like of shape             (n_clusters, n_features), default='k-means++'\n",
      "    Method for initialization:\n",
      "\n",
      "    'k-means++' : selects initial cluster centroids using sampling based on\n",
      "    an empirical probability distribution of the points' contribution to the\n",
      "    overall inertia. This technique speeds up convergence. The algorithm\n",
      "    implemented is \"greedy k-means++\". It differs from the vanilla k-means++\n",
      "    by making several trials at each sampling step and choosing the best centroid\n",
      "    among them.\n",
      "\n",
      "    'random': choose `n_clusters` observations (rows) at random from data\n",
      "    for the initial centroids.\n",
      "\n",
      "    If an array is passed, it should be of shape (n_clusters, n_features)\n",
      "    and gives the initial centers.\n",
      "\n",
      "    If a callable is passed, it should take arguments X, n_clusters and a\n",
      "    random state and return an initialization.\n",
      "\n",
      "n_init : 'auto' or int, default=10\n",
      "    Number of times the k-means algorithm is run with different centroid\n",
      "    seeds. The final results is the best output of `n_init` consecutive runs\n",
      "    in terms of inertia. Several runs are recommended for sparse\n",
      "    high-dimensional problems (see :ref:`kmeans_sparse_high_dim`).\n",
      "\n",
      "    When `n_init='auto'`, the number of runs depends on the value of init:\n",
      "    10 if using `init='random'` or `init` is a callable;\n",
      "    1 if using `init='k-means++'` or `init` is an array-like.\n",
      "\n",
      "    .. versionadded:: 1.2\n",
      "       Added 'auto' option for `n_init`.\n",
      "\n",
      "    .. versionchanged:: 1.4\n",
      "       Default value for `n_init` will change from 10 to `'auto'` in version 1.4.\n",
      "\n",
      "max_iter : int, default=300\n",
      "    Maximum number of iterations of the k-means algorithm for a\n",
      "    single run.\n",
      "\n",
      "tol : float, default=1e-4\n",
      "    Relative tolerance with regards to Frobenius norm of the difference\n",
      "    in the cluster centers of two consecutive iterations to declare\n",
      "    convergence.\n",
      "\n",
      "verbose : int, default=0\n",
      "    Verbosity mode.\n",
      "\n",
      "random_state : int, RandomState instance or None, default=None\n",
      "    Determines random number generation for centroid initialization. Use\n",
      "    an int to make the randomness deterministic.\n",
      "    See :term:`Glossary <random_state>`.\n",
      "\n",
      "copy_x : bool, default=True\n",
      "    When pre-computing distances it is more numerically accurate to center\n",
      "    the data first. If copy_x is True (default), then the original data is\n",
      "    not modified. If False, the original data is modified, and put back\n",
      "    before the function returns, but small numerical differences may be\n",
      "    introduced by subtracting and then adding the data mean. Note that if\n",
      "    the original data is not C-contiguous, a copy will be made even if\n",
      "    copy_x is False. If the original data is sparse, but not in CSR format,\n",
      "    a copy will be made even if copy_x is False.\n",
      "\n",
      "algorithm : {\"lloyd\", \"elkan\", \"auto\", \"full\"}, default=\"lloyd\"\n",
      "    K-means algorithm to use. The classical EM-style algorithm is `\"lloyd\"`.\n",
      "    The `\"elkan\"` variation can be more efficient on some datasets with\n",
      "    well-defined clusters, by using the triangle inequality. However it's\n",
      "    more memory intensive due to the allocation of an extra array of shape\n",
      "    `(n_samples, n_clusters)`.\n",
      "\n",
      "    `\"auto\"` and `\"full\"` are deprecated and they will be removed in\n",
      "    Scikit-Learn 1.3. They are both aliases for `\"lloyd\"`.\n",
      "\n",
      "    .. versionchanged:: 0.18\n",
      "        Added Elkan algorithm\n",
      "\n",
      "    .. versionchanged:: 1.1\n",
      "        Renamed \"full\" to \"lloyd\", and deprecated \"auto\" and \"full\".\n",
      "        Changed \"auto\" to use \"lloyd\" instead of \"elkan\".\n",
      "\n",
      "Attributes\n",
      "----------\n",
      "cluster_centers_ : ndarray of shape (n_clusters, n_features)\n",
      "    Coordinates of cluster centers. If the algorithm stops before fully\n",
      "    converging (see ``tol`` and ``max_iter``), these will not be\n",
      "    consistent with ``labels_``.\n",
      "\n",
      "labels_ : ndarray of shape (n_samples,)\n",
      "    Labels of each point\n",
      "\n",
      "inertia_ : float\n",
      "    Sum of squared distances of samples to their closest cluster center,\n",
      "    weighted by the sample weights if provided.\n",
      "\n",
      "n_iter_ : int\n",
      "    Number of iterations run.\n",
      "\n",
      "n_features_in_ : int\n",
      "    Number of features seen during :term:`fit`.\n",
      "\n",
      "    .. versionadded:: 0.24\n",
      "\n",
      "feature_names_in_ : ndarray of shape (`n_features_in_`,)\n",
      "    Names of features seen during :term:`fit`. Defined only when `X`\n",
      "    has feature names that are all strings.\n",
      "\n",
      "    .. versionadded:: 1.0\n",
      "\n",
      "See Also\n",
      "--------\n",
      "MiniBatchKMeans : Alternative online implementation that does incremental\n",
      "    updates of the centers positions using mini-batches.\n",
      "    For large scale learning (say n_samples > 10k) MiniBatchKMeans is\n",
      "    probably much faster than the default batch implementation.\n",
      "\n",
      "Notes\n",
      "-----\n",
      "The k-means problem is solved using either Lloyd's or Elkan's algorithm.\n",
      "\n",
      "The average complexity is given by O(k n T), where n is the number of\n",
      "samples and T is the number of iteration.\n",
      "\n",
      "The worst case complexity is given by O(n^(k+2/p)) with\n",
      "n = n_samples, p = n_features.\n",
      "Refer to :doi:`\"How slow is the k-means method?\" D. Arthur and S. Vassilvitskii -\n",
      "SoCG2006.<10.1145/1137856.1137880>` for more details.\n",
      "\n",
      "In practice, the k-means algorithm is very fast (one of the fastest\n",
      "clustering algorithms available), but it falls in local minima. That's why\n",
      "it can be useful to restart it several times.\n",
      "\n",
      "If the algorithm stops before fully converging (because of ``tol`` or\n",
      "``max_iter``), ``labels_`` and ``cluster_centers_`` will not be consistent,\n",
      "i.e. the ``cluster_centers_`` will not be the means of the points in each\n",
      "cluster. Also, the estimator will reassign ``labels_`` after the last\n",
      "iteration to make ``labels_`` consistent with ``predict`` on the training\n",
      "set.\n",
      "\n",
      "Examples\n",
      "--------\n",
      "\n",
      ">>> from sklearn.cluster import KMeans\n",
      ">>> import numpy as np\n",
      ">>> X = np.array([[1, 2], [1, 4], [1, 0],\n",
      "...               [10, 2], [10, 4], [10, 0]])\n",
      ">>> kmeans = KMeans(n_clusters=2, random_state=0, n_init=\"auto\").fit(X)\n",
      ">>> kmeans.labels_\n",
      "array([1, 1, 1, 0, 0, 0], dtype=int32)\n",
      ">>> kmeans.predict([[0, 0], [12, 3]])\n",
      "array([1, 0], dtype=int32)\n",
      ">>> kmeans.cluster_centers_\n",
      "array([[10.,  2.],\n",
      "       [ 1.,  2.]])"
     ]
    }
   ],
   "source": [
    "kmeans?"
   ]
  },
  {
   "cell_type": "code",
   "execution_count": 8,
   "metadata": {
    "id": "gYWMEmkx0RHF"
   },
   "outputs": [
    {
     "name": "stdout",
     "output_type": "stream",
     "text": [
      "38\n",
      "50\n",
      "62\n"
     ]
    }
   ],
   "source": [
    "n0 = (res==0)\n",
    "print(n0.sum())\n",
    "n1 = (res==1)\n",
    "print(n1.sum())\n",
    "n2 = (res==2)\n",
    "print(n2.sum())"
   ]
  },
  {
   "cell_type": "code",
   "execution_count": 19,
   "metadata": {
    "id": "KaPBi6aXRGX0"
   },
   "outputs": [
    {
     "name": "stdout",
     "output_type": "stream",
     "text": [
      "species\n",
      "virginica     36\n",
      "versicolor     2\n",
      "Name: count, dtype: int64\n"
     ]
    }
   ],
   "source": [
    "# Frequency table of the observations labeled as '0'.\n",
    "# This cluster has the majority 'virginica'.\n",
    "case0 = Y[n0]\n",
    "print(case0.value_counts())"
   ]
  },
  {
   "cell_type": "code",
   "execution_count": 20,
   "metadata": {
    "id": "X5F-8ijIRGX0"
   },
   "outputs": [
    {
     "name": "stdout",
     "output_type": "stream",
     "text": [
      "species\n",
      "setosa    50\n",
      "Name: count, dtype: int64\n"
     ]
    }
   ],
   "source": [
    "# Frequency table of the observations labeled as '1'.\n",
    "# This cluster corresponds entirely to 'setosa'.\n",
    "case1 = Y[n1]\n",
    "print(case1.value_counts())"
   ]
  },
  {
   "cell_type": "code",
   "execution_count": 21,
   "metadata": {
    "id": "sswm3_rsRGX0"
   },
   "outputs": [
    {
     "name": "stdout",
     "output_type": "stream",
     "text": [
      "species\n",
      "versicolor    48\n",
      "virginica     14\n",
      "Name: count, dtype: int64\n"
     ]
    }
   ],
   "source": [
    "# Frequency table of the observations labeled as '2'.\n",
    "# This cluster has the majority 'versicolor'.\n",
    "case2 = Y[n2]\n",
    "print(case2.value_counts())"
   ]
  },
  {
   "cell_type": "code",
   "execution_count": 22,
   "metadata": {
    "id": "MDj-ISwlRGX1"
   },
   "outputs": [],
   "source": [
    "# A list that contains the learned labels.\n",
    "learnedLabels = ['Virginica','Setosa','Versicolor']  "
   ]
  },
  {
   "cell_type": "code",
   "execution_count": 23,
   "metadata": {
    "id": "f476T2ofGiud"
   },
   "outputs": [
    {
     "data": {
      "text/plain": [
       "array([[6.85      , 3.07368421, 5.74210526, 2.07105263],\n",
       "       [5.006     , 3.428     , 1.462     , 0.246     ],\n",
       "       [5.9016129 , 2.7483871 , 4.39354839, 1.43387097]])"
      ]
     },
     "execution_count": 23,
     "metadata": {},
     "output_type": "execute_result"
    }
   ],
   "source": [
    "kmeans.cluster_centers_"
   ]
  },
  {
   "cell_type": "code",
   "execution_count": 24,
   "metadata": {
    "id": "D7WvxLToRGX1"
   },
   "outputs": [
    {
     "data": {
      "text/html": [
       "<div>\n",
       "<style scoped>\n",
       "    .dataframe tbody tr th:only-of-type {\n",
       "        vertical-align: middle;\n",
       "    }\n",
       "\n",
       "    .dataframe tbody tr th {\n",
       "        vertical-align: top;\n",
       "    }\n",
       "\n",
       "    .dataframe thead th {\n",
       "        text-align: right;\n",
       "    }\n",
       "</style>\n",
       "<table border=\"1\" class=\"dataframe\">\n",
       "  <thead>\n",
       "    <tr style=\"text-align: right;\">\n",
       "      <th></th>\n",
       "      <th>sepal_length</th>\n",
       "      <th>sepal_width</th>\n",
       "      <th>petal_length</th>\n",
       "      <th>petal_width</th>\n",
       "    </tr>\n",
       "  </thead>\n",
       "  <tbody>\n",
       "    <tr>\n",
       "      <th>Cluster 0</th>\n",
       "      <td>6.85</td>\n",
       "      <td>3.07</td>\n",
       "      <td>5.74</td>\n",
       "      <td>2.07</td>\n",
       "    </tr>\n",
       "    <tr>\n",
       "      <th>Cluster 1</th>\n",
       "      <td>5.01</td>\n",
       "      <td>3.43</td>\n",
       "      <td>1.46</td>\n",
       "      <td>0.25</td>\n",
       "    </tr>\n",
       "    <tr>\n",
       "      <th>Cluster 2</th>\n",
       "      <td>5.90</td>\n",
       "      <td>2.75</td>\n",
       "      <td>4.39</td>\n",
       "      <td>1.43</td>\n",
       "    </tr>\n",
       "  </tbody>\n",
       "</table>\n",
       "</div>"
      ],
      "text/plain": [
       "           sepal_length  sepal_width  petal_length  petal_width\n",
       "Cluster 0          6.85         3.07          5.74         2.07\n",
       "Cluster 1          5.01         3.43          1.46         0.25\n",
       "Cluster 2          5.90         2.75          4.39         1.43"
      ]
     },
     "execution_count": 24,
     "metadata": {},
     "output_type": "execute_result"
    }
   ],
   "source": [
    "# Print out the cluster centers (centroids).\n",
    "np.round(pd.DataFrame(kmeans.cluster_centers_,columns=header_X,index=['Cluster 0','Cluster 1','Cluster 2']),2)"
   ]
  },
  {
   "cell_type": "markdown",
   "metadata": {
    "id": "jcaVzyRARGX1"
   },
   "source": [
    "#### 1.3. Visualize:"
   ]
  },
  {
   "cell_type": "code",
   "execution_count": 27,
   "metadata": {},
   "outputs": [
    {
     "data": {
      "text/plain": [
       "52     versicolor\n",
       "77     versicolor\n",
       "100     virginica\n",
       "102     virginica\n",
       "103     virginica\n",
       "104     virginica\n",
       "105     virginica\n",
       "107     virginica\n",
       "108     virginica\n",
       "109     virginica\n",
       "110     virginica\n",
       "111     virginica\n",
       "112     virginica\n",
       "115     virginica\n",
       "116     virginica\n",
       "117     virginica\n",
       "118     virginica\n",
       "120     virginica\n",
       "122     virginica\n",
       "124     virginica\n",
       "125     virginica\n",
       "128     virginica\n",
       "129     virginica\n",
       "130     virginica\n",
       "131     virginica\n",
       "132     virginica\n",
       "134     virginica\n",
       "135     virginica\n",
       "136     virginica\n",
       "137     virginica\n",
       "139     virginica\n",
       "140     virginica\n",
       "141     virginica\n",
       "143     virginica\n",
       "144     virginica\n",
       "145     virginica\n",
       "147     virginica\n",
       "148     virginica\n",
       "Name: species, dtype: object"
      ]
     },
     "execution_count": 27,
     "metadata": {},
     "output_type": "execute_result"
    }
   ],
   "source": [
    "case0"
   ]
  },
  {
   "cell_type": "code",
   "execution_count": 28,
   "metadata": {
    "id": "w1BSgn_oRGX1"
   },
   "outputs": [
    {
     "data": {
      "image/png": "[encoded data removed]",
      "text/plain": [
       "<Figure size 640x480 with 1 Axes>"
      ]
     },
     "metadata": {},
     "output_type": "display_data"
    }
   ],
   "source": [
    "# Visualize the labeling content of the cluster 0. \n",
    "sns.countplot(x=case0)#.set_title('Cluster 0')\n",
    "plt.show()"
   ]
  },
  {
   "cell_type": "code",
   "execution_count": 29,
   "metadata": {
    "id": "3MFeK00oRGX2"
   },
   "outputs": [
    {
     "data": {
      "image/png": "[encoded data removed]",
      "text/plain": [
       "<Figure size 640x480 with 1 Axes>"
      ]
     },
     "metadata": {},
     "output_type": "display_data"
    }
   ],
   "source": [
    "# Visualize the labeling content of the cluster 1. \n",
    "sns.countplot(x=case1).set_title('Cluster 1')\n",
    "plt.show()"
   ]
  },
  {
   "cell_type": "code",
   "execution_count": 30,
   "metadata": {
    "id": "qHIs58IXRGX2"
   },
   "outputs": [
    {
     "data": {
      "image/png": "[encoded data removed]",
      "text/plain": [
       "<Figure size 640x480 with 1 Axes>"
      ]
     },
     "metadata": {},
     "output_type": "display_data"
    }
   ],
   "source": [
    "# Visualize the labeling content of the cluster 2. \n",
    "sns.countplot(x=case2).set_title('Cluster 2')\n",
    "plt.show()"
   ]
  },
  {
   "cell_type": "markdown",
   "metadata": {
    "id": "mJw2cT4ORGX2"
   },
   "source": [
    "#### 1.4. Prediction based on what we have learned:"
   ]
  },
  {
   "cell_type": "code",
   "execution_count": 31,
   "metadata": {
    "id": "GgPQhJTVRGX2"
   },
   "outputs": [
    {
     "name": "stdout",
     "output_type": "stream",
     "text": [
      "[0]\n",
      "Predicted cluster 0 with the most probable label 'Virginica'\n"
     ]
    }
   ],
   "source": [
    "# For a given observation of X, predict the species from what we have learned. \n",
    "# Case #1.\n",
    "X_test = {'sepal_length': [7.0] ,'sepal_width': [3.0] , 'petal_length': [5.0]  ,'petal_width': [1.5] }   # Only X is given.\n",
    "X_test = pd.DataFrame(X_test)\n",
    "print(kmeans.predict(X_test))\n",
    "predCluster = kmeans.predict(X_test)[0]\n",
    "print(\"Predicted cluster {} with the most probable label '{}'\".format(predCluster,learnedLabels[predCluster]))"
   ]
  },
  {
   "cell_type": "code",
   "execution_count": 32,
   "metadata": {
    "id": "Q5-lcx9TRGX2"
   },
   "outputs": [
    {
     "name": "stdout",
     "output_type": "stream",
     "text": [
      "Predicted cluster 1 with the most probable label 'Setosa'\n"
     ]
    }
   ],
   "source": [
    "# Case #2.\n",
    "X_test = {'sepal_length': [4.5] ,'sepal_width': [3.0] , 'petal_length': [1.0]  ,'petal_width': [1.0] }   # Only X is given.\n",
    "X_test = pd.DataFrame(X_test)\n",
    "predCluster = kmeans.predict(X_test)[0]\n",
    "print(\"Predicted cluster {} with the most probable label '{}'\".format(predCluster,learnedLabels[predCluster]))"
   ]
  },
  {
   "cell_type": "code",
   "execution_count": 33,
   "metadata": {
    "id": "Cgqn070kRGX3"
   },
   "outputs": [
    {
     "name": "stdout",
     "output_type": "stream",
     "text": [
      "Predicted cluster 2 with the most probable label 'Versicolor'\n"
     ]
    }
   ],
   "source": [
    "# Case #3.\n",
    "X_test = {'sepal_length': [6.0] ,'sepal_width': [3.0] , 'petal_length': [4.0]  ,'petal_width': [1.0] }   # Only X is given.\n",
    "X_test = pd.DataFrame(X_test)\n",
    "predCluster = kmeans.predict(X_test)[0]\n",
    "print(\"Predicted cluster {} with the most probable label '{}'\".format(predCluster,learnedLabels[predCluster]))"
   ]
  },
  {
   "cell_type": "code",
   "execution_count": null,
   "metadata": {
    "id": "Lw8I8i4fRGX3"
   },
   "outputs": [],
   "source": []
  }
 ],
 "metadata": {
  "colab": {
   "include_colab_link": true,
   "provenance": []
  },
  "kernelspec": {
   "display_name": "base",
   "language": "python",
   "name": "python3"
  },
  "language_info": {
   "codemirror_mode": {
    "name": "ipython",
    "version": 3
   },
   "file_extension": ".py",
   "mimetype": "text/x-python",
   "name": "python",
   "nbconvert_exporter": "python",
   "pygments_lexer": "ipython3",
   "version": "3.11.5"
  }
 },
 "nbformat": 4,
 "nbformat_minor": 0
}
